{
 "cells": [
  {
   "cell_type": "code",
   "execution_count": 69,
   "metadata": {},
   "outputs": [],
   "source": [
    "# necessary imports\n",
    "# Pandas to read in the CSV file and create the data frame\n",
    "import pandas as pd\n",
    "# NumPy for some basic mathematical functions\n",
    "import numpy as np\n",
    "from numpy import sort\n",
    "# Xgboost for optimized distributed gradient boosting\n",
    "from xgboost import XGBClassifier, plot_tree, plot_importance\n",
    "# scikit-learn for simple and efficient tools for data mining and data analysis\n",
    "from sklearn.model_selection import (train_test_split, GridSearchCV, StratifiedShuffleSplit,\n",
    "cross_val_score, cross_val_predict, StratifiedKFold, KFold)\n",
    "from sklearn.metrics import (accuracy_score, auc, confusion_matrix, make_scorer, \n",
    "precision_recall_curve, recall_score, precision_score, f1_score, matthews_corrcoef,\n",
    "brier_score_loss, roc_curve, roc_auc_score)\n",
    "from sklearn.feature_selection import SelectFromModel\n",
    "from sklearn.linear_model import LogisticRegression\n",
    "from sklearn.preprocessing import StandardScaler, MinMaxScaler\n",
    "from sklearn.decomposition import PCA\n",
    "from sklearn.ensemble import AdaBoostClassifier, RandomForestClassifier\n",
    "from sklearn.calibration import CalibratedClassifierCV\n",
    "from sklearn.utils import shuffle\n",
    "# Imblearn for imbalanced-learn package\n",
    "from imblearn.ensemble import BalancedRandomForestClassifier\n",
    "from imblearn.under_sampling import EditedNearestNeighbours, RandomUnderSampler, TomekLinks\n",
    "from imblearn.over_sampling import RandomOverSampler, SMOTE\n",
    "from imblearn.combine import SMOTEENN, SMOTETomek\n",
    "# matplotlib : Python 2D plotting library\n",
    "import matplotlib.pyplot as plt\n",
    "# seaborn : Python data visualization library based on matplotlib\n",
    "import seaborn as sns"
   ]
  },
  {
   "cell_type": "code",
   "execution_count": 2,
   "metadata": {},
   "outputs": [],
   "source": [
    "# load data\n",
    "df = pd.read_csv('PFT_INFO_AGG_2018.csv', engine='python', sep=';')"
   ]
  },
  {
   "cell_type": "code",
   "execution_count": 3,
   "metadata": {},
   "outputs": [
    {
     "data": {
      "text/plain": [
       "pandas.core.frame.DataFrame"
      ]
     },
     "execution_count": 3,
     "metadata": {},
     "output_type": "execute_result"
    }
   ],
   "source": [
    "type(df)"
   ]
  },
  {
   "cell_type": "code",
   "execution_count": 4,
   "metadata": {},
   "outputs": [
    {
     "data": {
      "text/plain": [
       "(376339, 30)"
      ]
     },
     "execution_count": 4,
     "metadata": {},
     "output_type": "execute_result"
    }
   ],
   "source": [
    "df.shape"
   ]
  },
  {
   "cell_type": "code",
   "execution_count": 5,
   "metadata": {},
   "outputs": [
    {
     "data": {
      "text/html": [
       "<div>\n",
       "<style scoped>\n",
       "    .dataframe tbody tr th:only-of-type {\n",
       "        vertical-align: middle;\n",
       "    }\n",
       "\n",
       "    .dataframe tbody tr th {\n",
       "        vertical-align: top;\n",
       "    }\n",
       "\n",
       "    .dataframe thead th {\n",
       "        text-align: right;\n",
       "    }\n",
       "</style>\n",
       "<table border=\"1\" class=\"dataframe\">\n",
       "  <thead>\n",
       "    <tr style=\"text-align: right;\">\n",
       "      <th></th>\n",
       "      <th>sexe</th>\n",
       "      <th>tmg_round</th>\n",
       "      <th>nb_support</th>\n",
       "      <th>age</th>\n",
       "      <th>anciennete</th>\n",
       "      <th>anciennete_em</th>\n",
       "      <th>part_uc</th>\n",
       "      <th>encours</th>\n",
       "      <th>capres_rmc</th>\n",
       "      <th>rentier</th>\n",
       "      <th>...</th>\n",
       "      <th>Opportunite_achats_importants</th>\n",
       "      <th>Opportunite_epargner</th>\n",
       "      <th>Capacite_epargne_actuelle</th>\n",
       "      <th>Sit_fin_perso_passee</th>\n",
       "      <th>Sit_fin_perso_evolution</th>\n",
       "      <th>Capacite_epargne_future</th>\n",
       "      <th>sortant_sum</th>\n",
       "      <th>entrant_sum</th>\n",
       "      <th>nb</th>\n",
       "      <th>arb</th>\n",
       "    </tr>\n",
       "  </thead>\n",
       "  <tbody>\n",
       "    <tr>\n",
       "      <th>0</th>\n",
       "      <td>F</td>\n",
       "      <td>0.0</td>\n",
       "      <td>10</td>\n",
       "      <td>0</td>\n",
       "      <td>0.0</td>\n",
       "      <td>0.0</td>\n",
       "      <td>0.00</td>\n",
       "      <td>a) inf 8k</td>\n",
       "      <td>0</td>\n",
       "      <td>I</td>\n",
       "      <td>...</td>\n",
       "      <td>-9.048467</td>\n",
       "      <td>4.671663</td>\n",
       "      <td>11.908475</td>\n",
       "      <td>-29.431570</td>\n",
       "      <td>-15.650491</td>\n",
       "      <td>-8.209142</td>\n",
       "      <td>0.0</td>\n",
       "      <td>0.0</td>\n",
       "      <td>3</td>\n",
       "      <td>0</td>\n",
       "    </tr>\n",
       "    <tr>\n",
       "      <th>1</th>\n",
       "      <td>F</td>\n",
       "      <td>0.0</td>\n",
       "      <td>10</td>\n",
       "      <td>0</td>\n",
       "      <td>0.0</td>\n",
       "      <td>0.0</td>\n",
       "      <td>0.00</td>\n",
       "      <td>a) inf 8k</td>\n",
       "      <td>0</td>\n",
       "      <td>I</td>\n",
       "      <td>...</td>\n",
       "      <td>-5.073132</td>\n",
       "      <td>5.164927</td>\n",
       "      <td>9.709774</td>\n",
       "      <td>-24.159897</td>\n",
       "      <td>-12.251141</td>\n",
       "      <td>-7.697894</td>\n",
       "      <td>0.0</td>\n",
       "      <td>0.0</td>\n",
       "      <td>2</td>\n",
       "      <td>0</td>\n",
       "    </tr>\n",
       "    <tr>\n",
       "      <th>2</th>\n",
       "      <td>F</td>\n",
       "      <td>0.0</td>\n",
       "      <td>10</td>\n",
       "      <td>0</td>\n",
       "      <td>0.0</td>\n",
       "      <td>0.0</td>\n",
       "      <td>0.00</td>\n",
       "      <td>a) inf 8k</td>\n",
       "      <td>0</td>\n",
       "      <td>I</td>\n",
       "      <td>...</td>\n",
       "      <td>-2.640918</td>\n",
       "      <td>4.621879</td>\n",
       "      <td>10.723456</td>\n",
       "      <td>-17.142681</td>\n",
       "      <td>-9.831470</td>\n",
       "      <td>0.110471</td>\n",
       "      <td>0.0</td>\n",
       "      <td>0.0</td>\n",
       "      <td>5</td>\n",
       "      <td>0</td>\n",
       "    </tr>\n",
       "    <tr>\n",
       "      <th>3</th>\n",
       "      <td>F</td>\n",
       "      <td>0.0</td>\n",
       "      <td>10</td>\n",
       "      <td>0</td>\n",
       "      <td>0.0</td>\n",
       "      <td>0.0</td>\n",
       "      <td>0.00</td>\n",
       "      <td>a) inf 8k</td>\n",
       "      <td>0</td>\n",
       "      <td>I</td>\n",
       "      <td>...</td>\n",
       "      <td>-3.393839</td>\n",
       "      <td>5.009052</td>\n",
       "      <td>10.543828</td>\n",
       "      <td>-22.883813</td>\n",
       "      <td>-18.599835</td>\n",
       "      <td>-8.237354</td>\n",
       "      <td>0.0</td>\n",
       "      <td>0.0</td>\n",
       "      <td>2</td>\n",
       "      <td>0</td>\n",
       "    </tr>\n",
       "    <tr>\n",
       "      <th>4</th>\n",
       "      <td>F</td>\n",
       "      <td>0.0</td>\n",
       "      <td>10</td>\n",
       "      <td>0</td>\n",
       "      <td>0.0</td>\n",
       "      <td>0.0</td>\n",
       "      <td>0.00</td>\n",
       "      <td>a) inf 8k</td>\n",
       "      <td>0</td>\n",
       "      <td>I</td>\n",
       "      <td>...</td>\n",
       "      <td>-8.958185</td>\n",
       "      <td>7.580520</td>\n",
       "      <td>10.691414</td>\n",
       "      <td>-26.883150</td>\n",
       "      <td>-13.402602</td>\n",
       "      <td>-8.633219</td>\n",
       "      <td>0.0</td>\n",
       "      <td>0.0</td>\n",
       "      <td>1</td>\n",
       "      <td>0</td>\n",
       "    </tr>\n",
       "    <tr>\n",
       "      <th>5</th>\n",
       "      <td>F</td>\n",
       "      <td>0.0</td>\n",
       "      <td>10</td>\n",
       "      <td>0</td>\n",
       "      <td>0.0</td>\n",
       "      <td>0.0</td>\n",
       "      <td>0.00</td>\n",
       "      <td>a) inf 8k</td>\n",
       "      <td>0</td>\n",
       "      <td>I</td>\n",
       "      <td>...</td>\n",
       "      <td>-4.059026</td>\n",
       "      <td>4.136823</td>\n",
       "      <td>11.846073</td>\n",
       "      <td>-19.288271</td>\n",
       "      <td>-9.691206</td>\n",
       "      <td>-1.416496</td>\n",
       "      <td>0.0</td>\n",
       "      <td>0.0</td>\n",
       "      <td>3</td>\n",
       "      <td>0</td>\n",
       "    </tr>\n",
       "    <tr>\n",
       "      <th>6</th>\n",
       "      <td>F</td>\n",
       "      <td>0.0</td>\n",
       "      <td>10</td>\n",
       "      <td>0</td>\n",
       "      <td>0.0</td>\n",
       "      <td>0.0</td>\n",
       "      <td>0.00</td>\n",
       "      <td>a) inf 8k</td>\n",
       "      <td>0</td>\n",
       "      <td>I</td>\n",
       "      <td>...</td>\n",
       "      <td>-5.313490</td>\n",
       "      <td>7.601280</td>\n",
       "      <td>9.866086</td>\n",
       "      <td>-24.971824</td>\n",
       "      <td>-12.965254</td>\n",
       "      <td>-3.817514</td>\n",
       "      <td>0.0</td>\n",
       "      <td>0.0</td>\n",
       "      <td>2</td>\n",
       "      <td>0</td>\n",
       "    </tr>\n",
       "    <tr>\n",
       "      <th>7</th>\n",
       "      <td>F</td>\n",
       "      <td>0.0</td>\n",
       "      <td>10</td>\n",
       "      <td>0</td>\n",
       "      <td>0.0</td>\n",
       "      <td>0.0</td>\n",
       "      <td>0.00</td>\n",
       "      <td>a) inf 8k</td>\n",
       "      <td>0</td>\n",
       "      <td>I</td>\n",
       "      <td>...</td>\n",
       "      <td>-2.238694</td>\n",
       "      <td>8.423216</td>\n",
       "      <td>12.570997</td>\n",
       "      <td>-15.987312</td>\n",
       "      <td>-12.333135</td>\n",
       "      <td>-2.695195</td>\n",
       "      <td>0.0</td>\n",
       "      <td>0.0</td>\n",
       "      <td>4</td>\n",
       "      <td>0</td>\n",
       "    </tr>\n",
       "    <tr>\n",
       "      <th>8</th>\n",
       "      <td>F</td>\n",
       "      <td>0.0</td>\n",
       "      <td>10</td>\n",
       "      <td>0</td>\n",
       "      <td>0.0</td>\n",
       "      <td>0.0</td>\n",
       "      <td>0.00</td>\n",
       "      <td>a) inf 8k</td>\n",
       "      <td>0</td>\n",
       "      <td>I</td>\n",
       "      <td>...</td>\n",
       "      <td>-3.392310</td>\n",
       "      <td>3.964662</td>\n",
       "      <td>9.590150</td>\n",
       "      <td>-26.321109</td>\n",
       "      <td>-11.550336</td>\n",
       "      <td>-9.212457</td>\n",
       "      <td>0.0</td>\n",
       "      <td>0.0</td>\n",
       "      <td>1</td>\n",
       "      <td>0</td>\n",
       "    </tr>\n",
       "    <tr>\n",
       "      <th>9</th>\n",
       "      <td>F</td>\n",
       "      <td>0.0</td>\n",
       "      <td>10</td>\n",
       "      <td>0</td>\n",
       "      <td>0.0</td>\n",
       "      <td>0.0</td>\n",
       "      <td>0.25</td>\n",
       "      <td>a) inf 8k</td>\n",
       "      <td>0</td>\n",
       "      <td>I</td>\n",
       "      <td>...</td>\n",
       "      <td>-5.073132</td>\n",
       "      <td>5.164927</td>\n",
       "      <td>9.709774</td>\n",
       "      <td>-24.159897</td>\n",
       "      <td>-12.251141</td>\n",
       "      <td>-7.697894</td>\n",
       "      <td>0.0</td>\n",
       "      <td>0.0</td>\n",
       "      <td>1</td>\n",
       "      <td>0</td>\n",
       "    </tr>\n",
       "  </tbody>\n",
       "</table>\n",
       "<p>10 rows × 30 columns</p>\n",
       "</div>"
      ],
      "text/plain": [
       "  sexe  tmg_round  nb_support  age  anciennete  anciennete_em  part_uc  \\\n",
       "0    F        0.0          10    0         0.0            0.0     0.00   \n",
       "1    F        0.0          10    0         0.0            0.0     0.00   \n",
       "2    F        0.0          10    0         0.0            0.0     0.00   \n",
       "3    F        0.0          10    0         0.0            0.0     0.00   \n",
       "4    F        0.0          10    0         0.0            0.0     0.00   \n",
       "5    F        0.0          10    0         0.0            0.0     0.00   \n",
       "6    F        0.0          10    0         0.0            0.0     0.00   \n",
       "7    F        0.0          10    0         0.0            0.0     0.00   \n",
       "8    F        0.0          10    0         0.0            0.0     0.00   \n",
       "9    F        0.0          10    0         0.0            0.0     0.25   \n",
       "\n",
       "     encours  capres_rmc rentier  ...  Opportunite_achats_importants  \\\n",
       "0  a) inf 8k           0       I  ...                      -9.048467   \n",
       "1  a) inf 8k           0       I  ...                      -5.073132   \n",
       "2  a) inf 8k           0       I  ...                      -2.640918   \n",
       "3  a) inf 8k           0       I  ...                      -3.393839   \n",
       "4  a) inf 8k           0       I  ...                      -8.958185   \n",
       "5  a) inf 8k           0       I  ...                      -4.059026   \n",
       "6  a) inf 8k           0       I  ...                      -5.313490   \n",
       "7  a) inf 8k           0       I  ...                      -2.238694   \n",
       "8  a) inf 8k           0       I  ...                      -3.392310   \n",
       "9  a) inf 8k           0       I  ...                      -5.073132   \n",
       "\n",
       "   Opportunite_epargner  Capacite_epargne_actuelle  Sit_fin_perso_passee  \\\n",
       "0              4.671663                  11.908475            -29.431570   \n",
       "1              5.164927                   9.709774            -24.159897   \n",
       "2              4.621879                  10.723456            -17.142681   \n",
       "3              5.009052                  10.543828            -22.883813   \n",
       "4              7.580520                  10.691414            -26.883150   \n",
       "5              4.136823                  11.846073            -19.288271   \n",
       "6              7.601280                   9.866086            -24.971824   \n",
       "7              8.423216                  12.570997            -15.987312   \n",
       "8              3.964662                   9.590150            -26.321109   \n",
       "9              5.164927                   9.709774            -24.159897   \n",
       "\n",
       "   Sit_fin_perso_evolution  Capacite_epargne_future  sortant_sum  entrant_sum  \\\n",
       "0               -15.650491                -8.209142          0.0          0.0   \n",
       "1               -12.251141                -7.697894          0.0          0.0   \n",
       "2                -9.831470                 0.110471          0.0          0.0   \n",
       "3               -18.599835                -8.237354          0.0          0.0   \n",
       "4               -13.402602                -8.633219          0.0          0.0   \n",
       "5                -9.691206                -1.416496          0.0          0.0   \n",
       "6               -12.965254                -3.817514          0.0          0.0   \n",
       "7               -12.333135                -2.695195          0.0          0.0   \n",
       "8               -11.550336                -9.212457          0.0          0.0   \n",
       "9               -12.251141                -7.697894          0.0          0.0   \n",
       "\n",
       "   nb  arb  \n",
       "0   3    0  \n",
       "1   2    0  \n",
       "2   5    0  \n",
       "3   2    0  \n",
       "4   1    0  \n",
       "5   3    0  \n",
       "6   2    0  \n",
       "7   4    0  \n",
       "8   1    0  \n",
       "9   1    0  \n",
       "\n",
       "[10 rows x 30 columns]"
      ]
     },
     "execution_count": 5,
     "metadata": {},
     "output_type": "execute_result"
    }
   ],
   "source": [
    "df.head(10)"
   ]
  },
  {
   "cell_type": "code",
   "execution_count": 6,
   "metadata": {},
   "outputs": [
    {
     "name": "stdout",
     "output_type": "stream",
     "text": [
      "<class 'pandas.core.frame.DataFrame'>\n",
      "RangeIndex: 376339 entries, 0 to 376338\n",
      "Data columns (total 30 columns):\n",
      "sexe                             376339 non-null object\n",
      "tmg_round                        376339 non-null float64\n",
      "nb_support                       376339 non-null int64\n",
      "age                              376339 non-null int64\n",
      "anciennete                       376336 non-null float64\n",
      "anciennete_em                    376336 non-null float64\n",
      "part_uc                          376339 non-null float64\n",
      "encours                          376339 non-null object\n",
      "capres_rmc                       376339 non-null int64\n",
      "rentier                          376339 non-null object\n",
      "cac_m1                           376339 non-null float64\n",
      "cac_m2                           376339 non-null float64\n",
      "cac_m3                           376339 non-null float64\n",
      "cac_m12                          376339 non-null float64\n",
      "Opinion_des_menages              376339 non-null float64\n",
      "Niveau_de_vie_passee             376339 non-null float64\n",
      "Niveau_de_vie_evolution          376339 non-null float64\n",
      "Chomage_evolution                376339 non-null float64\n",
      "Prix_evol_passee                 376339 non-null float64\n",
      "Prix_evol_futur                  376339 non-null float64\n",
      "Opportunite_achats_importants    376339 non-null float64\n",
      "Opportunite_epargner             376339 non-null float64\n",
      "Capacite_epargne_actuelle        376339 non-null float64\n",
      "Sit_fin_perso_passee             376339 non-null float64\n",
      "Sit_fin_perso_evolution          376339 non-null float64\n",
      "Capacite_epargne_future          376339 non-null float64\n",
      "sortant_sum                      376339 non-null float64\n",
      "entrant_sum                      376339 non-null float64\n",
      "nb                               376339 non-null int64\n",
      "arb                              376339 non-null int64\n",
      "dtypes: float64(22), int64(5), object(3)\n",
      "memory usage: 86.1+ MB\n"
     ]
    }
   ],
   "source": [
    "df.info()"
   ]
  },
  {
   "cell_type": "code",
   "execution_count": 7,
   "metadata": {},
   "outputs": [
    {
     "data": {
      "text/html": [
       "<div>\n",
       "<style scoped>\n",
       "    .dataframe tbody tr th:only-of-type {\n",
       "        vertical-align: middle;\n",
       "    }\n",
       "\n",
       "    .dataframe tbody tr th {\n",
       "        vertical-align: top;\n",
       "    }\n",
       "\n",
       "    .dataframe thead th {\n",
       "        text-align: right;\n",
       "    }\n",
       "</style>\n",
       "<table border=\"1\" class=\"dataframe\">\n",
       "  <thead>\n",
       "    <tr style=\"text-align: right;\">\n",
       "      <th></th>\n",
       "      <th>sexe</th>\n",
       "      <th>tmg_round</th>\n",
       "      <th>nb_support</th>\n",
       "      <th>age</th>\n",
       "      <th>anciennete</th>\n",
       "      <th>anciennete_em</th>\n",
       "      <th>part_uc</th>\n",
       "      <th>encours</th>\n",
       "      <th>capres_rmc</th>\n",
       "      <th>rentier</th>\n",
       "      <th>...</th>\n",
       "      <th>Opportunite_achats_importants</th>\n",
       "      <th>Opportunite_epargner</th>\n",
       "      <th>Capacite_epargne_actuelle</th>\n",
       "      <th>Sit_fin_perso_passee</th>\n",
       "      <th>Sit_fin_perso_evolution</th>\n",
       "      <th>Capacite_epargne_future</th>\n",
       "      <th>sortant_sum</th>\n",
       "      <th>entrant_sum</th>\n",
       "      <th>nb</th>\n",
       "      <th>arb</th>\n",
       "    </tr>\n",
       "  </thead>\n",
       "  <tbody>\n",
       "    <tr>\n",
       "      <th>0</th>\n",
       "      <td>M</td>\n",
       "      <td>0.0</td>\n",
       "      <td>10</td>\n",
       "      <td>46</td>\n",
       "      <td>7.0</td>\n",
       "      <td>7.0</td>\n",
       "      <td>0.00</td>\n",
       "      <td>a) inf 8k</td>\n",
       "      <td>0</td>\n",
       "      <td>I</td>\n",
       "      <td>...</td>\n",
       "      <td>-8.305295</td>\n",
       "      <td>6.742057</td>\n",
       "      <td>11.199373</td>\n",
       "      <td>-27.658955</td>\n",
       "      <td>-11.289518</td>\n",
       "      <td>-1.664328</td>\n",
       "      <td>0.0</td>\n",
       "      <td>0.0</td>\n",
       "      <td>6</td>\n",
       "      <td>0</td>\n",
       "    </tr>\n",
       "    <tr>\n",
       "      <th>1</th>\n",
       "      <td>F</td>\n",
       "      <td>0.0</td>\n",
       "      <td>10</td>\n",
       "      <td>78</td>\n",
       "      <td>0.0</td>\n",
       "      <td>0.0</td>\n",
       "      <td>0.00</td>\n",
       "      <td>b) 8k - 20k</td>\n",
       "      <td>0</td>\n",
       "      <td>I</td>\n",
       "      <td>...</td>\n",
       "      <td>-8.958185</td>\n",
       "      <td>7.580520</td>\n",
       "      <td>10.691414</td>\n",
       "      <td>-26.883150</td>\n",
       "      <td>-13.402602</td>\n",
       "      <td>-8.633219</td>\n",
       "      <td>0.0</td>\n",
       "      <td>0.0</td>\n",
       "      <td>1</td>\n",
       "      <td>0</td>\n",
       "    </tr>\n",
       "    <tr>\n",
       "      <th>2</th>\n",
       "      <td>F</td>\n",
       "      <td>0.0</td>\n",
       "      <td>10</td>\n",
       "      <td>62</td>\n",
       "      <td>2.0</td>\n",
       "      <td>2.0</td>\n",
       "      <td>0.00</td>\n",
       "      <td>c) 20k - 44k</td>\n",
       "      <td>0</td>\n",
       "      <td>I</td>\n",
       "      <td>...</td>\n",
       "      <td>-8.343097</td>\n",
       "      <td>5.386757</td>\n",
       "      <td>9.832064</td>\n",
       "      <td>-29.770558</td>\n",
       "      <td>-16.161008</td>\n",
       "      <td>-9.258645</td>\n",
       "      <td>0.0</td>\n",
       "      <td>0.0</td>\n",
       "      <td>4</td>\n",
       "      <td>0</td>\n",
       "    </tr>\n",
       "    <tr>\n",
       "      <th>3</th>\n",
       "      <td>F</td>\n",
       "      <td>0.0</td>\n",
       "      <td>10</td>\n",
       "      <td>66</td>\n",
       "      <td>3.0</td>\n",
       "      <td>3.0</td>\n",
       "      <td>0.00</td>\n",
       "      <td>a) inf 8k</td>\n",
       "      <td>0</td>\n",
       "      <td>I</td>\n",
       "      <td>...</td>\n",
       "      <td>-2.238694</td>\n",
       "      <td>8.423216</td>\n",
       "      <td>12.570997</td>\n",
       "      <td>-15.987312</td>\n",
       "      <td>-12.333135</td>\n",
       "      <td>-2.695195</td>\n",
       "      <td>0.0</td>\n",
       "      <td>0.0</td>\n",
       "      <td>20</td>\n",
       "      <td>0</td>\n",
       "    </tr>\n",
       "    <tr>\n",
       "      <th>4</th>\n",
       "      <td>F</td>\n",
       "      <td>0.0</td>\n",
       "      <td>10</td>\n",
       "      <td>84</td>\n",
       "      <td>3.0</td>\n",
       "      <td>3.0</td>\n",
       "      <td>0.00</td>\n",
       "      <td>e) sup 44k</td>\n",
       "      <td>1</td>\n",
       "      <td>P</td>\n",
       "      <td>...</td>\n",
       "      <td>-5.313490</td>\n",
       "      <td>7.601280</td>\n",
       "      <td>9.866086</td>\n",
       "      <td>-24.971824</td>\n",
       "      <td>-12.965254</td>\n",
       "      <td>-3.817514</td>\n",
       "      <td>0.0</td>\n",
       "      <td>0.0</td>\n",
       "      <td>1</td>\n",
       "      <td>0</td>\n",
       "    </tr>\n",
       "    <tr>\n",
       "      <th>5</th>\n",
       "      <td>F</td>\n",
       "      <td>0.0</td>\n",
       "      <td>10</td>\n",
       "      <td>71</td>\n",
       "      <td>4.0</td>\n",
       "      <td>4.0</td>\n",
       "      <td>0.15</td>\n",
       "      <td>a) inf 8k</td>\n",
       "      <td>0</td>\n",
       "      <td>I</td>\n",
       "      <td>...</td>\n",
       "      <td>-4.059026</td>\n",
       "      <td>4.136823</td>\n",
       "      <td>11.846073</td>\n",
       "      <td>-19.288271</td>\n",
       "      <td>-9.691206</td>\n",
       "      <td>-1.416496</td>\n",
       "      <td>0.0</td>\n",
       "      <td>0.0</td>\n",
       "      <td>1</td>\n",
       "      <td>0</td>\n",
       "    </tr>\n",
       "    <tr>\n",
       "      <th>6</th>\n",
       "      <td>F</td>\n",
       "      <td>0.0</td>\n",
       "      <td>10</td>\n",
       "      <td>54</td>\n",
       "      <td>12.0</td>\n",
       "      <td>11.0</td>\n",
       "      <td>0.00</td>\n",
       "      <td>b) 8k - 20k</td>\n",
       "      <td>0</td>\n",
       "      <td>I</td>\n",
       "      <td>...</td>\n",
       "      <td>-3.392310</td>\n",
       "      <td>3.964662</td>\n",
       "      <td>9.590150</td>\n",
       "      <td>-26.321109</td>\n",
       "      <td>-11.550336</td>\n",
       "      <td>-9.212457</td>\n",
       "      <td>0.0</td>\n",
       "      <td>0.0</td>\n",
       "      <td>1</td>\n",
       "      <td>0</td>\n",
       "    </tr>\n",
       "    <tr>\n",
       "      <th>7</th>\n",
       "      <td>M</td>\n",
       "      <td>0.0</td>\n",
       "      <td>10</td>\n",
       "      <td>83</td>\n",
       "      <td>2.0</td>\n",
       "      <td>2.0</td>\n",
       "      <td>0.19</td>\n",
       "      <td>a) inf 8k</td>\n",
       "      <td>1</td>\n",
       "      <td>P</td>\n",
       "      <td>...</td>\n",
       "      <td>-5.313490</td>\n",
       "      <td>7.601280</td>\n",
       "      <td>9.866086</td>\n",
       "      <td>-24.971824</td>\n",
       "      <td>-12.965254</td>\n",
       "      <td>-3.817514</td>\n",
       "      <td>0.0</td>\n",
       "      <td>0.0</td>\n",
       "      <td>1</td>\n",
       "      <td>0</td>\n",
       "    </tr>\n",
       "    <tr>\n",
       "      <th>8</th>\n",
       "      <td>M</td>\n",
       "      <td>0.0</td>\n",
       "      <td>10</td>\n",
       "      <td>49</td>\n",
       "      <td>9.0</td>\n",
       "      <td>9.0</td>\n",
       "      <td>0.00</td>\n",
       "      <td>a) inf 8k</td>\n",
       "      <td>1</td>\n",
       "      <td>C</td>\n",
       "      <td>...</td>\n",
       "      <td>-3.393839</td>\n",
       "      <td>5.009052</td>\n",
       "      <td>10.543828</td>\n",
       "      <td>-22.883813</td>\n",
       "      <td>-18.599835</td>\n",
       "      <td>-8.237354</td>\n",
       "      <td>0.0</td>\n",
       "      <td>0.0</td>\n",
       "      <td>1</td>\n",
       "      <td>0</td>\n",
       "    </tr>\n",
       "    <tr>\n",
       "      <th>9</th>\n",
       "      <td>F</td>\n",
       "      <td>0.0</td>\n",
       "      <td>10</td>\n",
       "      <td>56</td>\n",
       "      <td>6.0</td>\n",
       "      <td>6.0</td>\n",
       "      <td>0.00</td>\n",
       "      <td>b) 8k - 20k</td>\n",
       "      <td>0</td>\n",
       "      <td>I</td>\n",
       "      <td>...</td>\n",
       "      <td>-2.238694</td>\n",
       "      <td>8.423216</td>\n",
       "      <td>12.570997</td>\n",
       "      <td>-15.987312</td>\n",
       "      <td>-12.333135</td>\n",
       "      <td>-2.695195</td>\n",
       "      <td>0.0</td>\n",
       "      <td>0.0</td>\n",
       "      <td>2</td>\n",
       "      <td>0</td>\n",
       "    </tr>\n",
       "  </tbody>\n",
       "</table>\n",
       "<p>10 rows × 30 columns</p>\n",
       "</div>"
      ],
      "text/plain": [
       "  sexe  tmg_round  nb_support  age  anciennete  anciennete_em  part_uc  \\\n",
       "0    M        0.0          10   46         7.0            7.0     0.00   \n",
       "1    F        0.0          10   78         0.0            0.0     0.00   \n",
       "2    F        0.0          10   62         2.0            2.0     0.00   \n",
       "3    F        0.0          10   66         3.0            3.0     0.00   \n",
       "4    F        0.0          10   84         3.0            3.0     0.00   \n",
       "5    F        0.0          10   71         4.0            4.0     0.15   \n",
       "6    F        0.0          10   54        12.0           11.0     0.00   \n",
       "7    M        0.0          10   83         2.0            2.0     0.19   \n",
       "8    M        0.0          10   49         9.0            9.0     0.00   \n",
       "9    F        0.0          10   56         6.0            6.0     0.00   \n",
       "\n",
       "        encours  capres_rmc rentier  ...  Opportunite_achats_importants  \\\n",
       "0     a) inf 8k           0       I  ...                      -8.305295   \n",
       "1   b) 8k - 20k           0       I  ...                      -8.958185   \n",
       "2  c) 20k - 44k           0       I  ...                      -8.343097   \n",
       "3     a) inf 8k           0       I  ...                      -2.238694   \n",
       "4    e) sup 44k           1       P  ...                      -5.313490   \n",
       "5     a) inf 8k           0       I  ...                      -4.059026   \n",
       "6   b) 8k - 20k           0       I  ...                      -3.392310   \n",
       "7     a) inf 8k           1       P  ...                      -5.313490   \n",
       "8     a) inf 8k           1       C  ...                      -3.393839   \n",
       "9   b) 8k - 20k           0       I  ...                      -2.238694   \n",
       "\n",
       "   Opportunite_epargner  Capacite_epargne_actuelle  Sit_fin_perso_passee  \\\n",
       "0              6.742057                  11.199373            -27.658955   \n",
       "1              7.580520                  10.691414            -26.883150   \n",
       "2              5.386757                   9.832064            -29.770558   \n",
       "3              8.423216                  12.570997            -15.987312   \n",
       "4              7.601280                   9.866086            -24.971824   \n",
       "5              4.136823                  11.846073            -19.288271   \n",
       "6              3.964662                   9.590150            -26.321109   \n",
       "7              7.601280                   9.866086            -24.971824   \n",
       "8              5.009052                  10.543828            -22.883813   \n",
       "9              8.423216                  12.570997            -15.987312   \n",
       "\n",
       "   Sit_fin_perso_evolution  Capacite_epargne_future  sortant_sum  entrant_sum  \\\n",
       "0               -11.289518                -1.664328          0.0          0.0   \n",
       "1               -13.402602                -8.633219          0.0          0.0   \n",
       "2               -16.161008                -9.258645          0.0          0.0   \n",
       "3               -12.333135                -2.695195          0.0          0.0   \n",
       "4               -12.965254                -3.817514          0.0          0.0   \n",
       "5                -9.691206                -1.416496          0.0          0.0   \n",
       "6               -11.550336                -9.212457          0.0          0.0   \n",
       "7               -12.965254                -3.817514          0.0          0.0   \n",
       "8               -18.599835                -8.237354          0.0          0.0   \n",
       "9               -12.333135                -2.695195          0.0          0.0   \n",
       "\n",
       "   nb  arb  \n",
       "0   6    0  \n",
       "1   1    0  \n",
       "2   4    0  \n",
       "3  20    0  \n",
       "4   1    0  \n",
       "5   1    0  \n",
       "6   1    0  \n",
       "7   1    0  \n",
       "8   1    0  \n",
       "9   2    0  \n",
       "\n",
       "[10 rows x 30 columns]"
      ]
     },
     "execution_count": 7,
     "metadata": {},
     "output_type": "execute_result"
    }
   ],
   "source": [
    "# Shuffle rows\n",
    "df = df.sample(frac=1, random_state=42).reset_index(drop=True)\n",
    "df.head(10)"
   ]
  },
  {
   "cell_type": "code",
   "execution_count": 8,
   "metadata": {},
   "outputs": [
    {
     "data": {
      "text/plain": [
       "(376339, 28)"
      ]
     },
     "execution_count": 8,
     "metadata": {},
     "output_type": "execute_result"
    }
   ],
   "source": [
    "df = df.drop(['sortant_sum','entrant_sum'], axis=1)\n",
    "df.shape"
   ]
  },
  {
   "cell_type": "code",
   "execution_count": 9,
   "metadata": {},
   "outputs": [
    {
     "data": {
      "text/plain": [
       " 0    374182\n",
       " 1      1813\n",
       "-1       344\n",
       "Name: arb, dtype: int64"
      ]
     },
     "execution_count": 9,
     "metadata": {},
     "output_type": "execute_result"
    }
   ],
   "source": [
    "df.arb.value_counts()"
   ]
  },
  {
   "cell_type": "code",
   "execution_count": 10,
   "metadata": {},
   "outputs": [
    {
     "data": {
      "text/plain": [
       "0    374526\n",
       "1      1813\n",
       "Name: arb, dtype: int64"
      ]
     },
     "execution_count": 10,
     "metadata": {},
     "output_type": "execute_result"
    }
   ],
   "source": [
    "# Recoder la variable arbitrage\n",
    "df['arb']=df['arb'].eq(1).astype('int')\n",
    "df.arb.value_counts()"
   ]
  },
  {
   "cell_type": "code",
   "execution_count": 11,
   "metadata": {},
   "outputs": [
    {
     "data": {
      "text/plain": [
       "arb\n",
       "0    792859\n",
       "1      1860\n",
       "Name: nb, dtype: int64"
      ]
     },
     "execution_count": 11,
     "metadata": {},
     "output_type": "execute_result"
    }
   ],
   "source": [
    "df.groupby('arb').nb.sum()"
   ]
  },
  {
   "cell_type": "code",
   "execution_count": 12,
   "metadata": {},
   "outputs": [
    {
     "data": {
      "text/html": [
       "<div>\n",
       "<style scoped>\n",
       "    .dataframe tbody tr th:only-of-type {\n",
       "        vertical-align: middle;\n",
       "    }\n",
       "\n",
       "    .dataframe tbody tr th {\n",
       "        vertical-align: top;\n",
       "    }\n",
       "\n",
       "    .dataframe thead th {\n",
       "        text-align: right;\n",
       "    }\n",
       "</style>\n",
       "<table border=\"1\" class=\"dataframe\">\n",
       "  <thead>\n",
       "    <tr style=\"text-align: right;\">\n",
       "      <th></th>\n",
       "      <th>sexe</th>\n",
       "      <th>encours</th>\n",
       "      <th>rentier</th>\n",
       "    </tr>\n",
       "  </thead>\n",
       "  <tbody>\n",
       "    <tr>\n",
       "      <th>count</th>\n",
       "      <td>376339</td>\n",
       "      <td>376339</td>\n",
       "      <td>376339</td>\n",
       "    </tr>\n",
       "    <tr>\n",
       "      <th>unique</th>\n",
       "      <td>2</td>\n",
       "      <td>4</td>\n",
       "      <td>3</td>\n",
       "    </tr>\n",
       "    <tr>\n",
       "      <th>top</th>\n",
       "      <td>F</td>\n",
       "      <td>a) inf 8k</td>\n",
       "      <td>I</td>\n",
       "    </tr>\n",
       "    <tr>\n",
       "      <th>freq</th>\n",
       "      <td>214664</td>\n",
       "      <td>154997</td>\n",
       "      <td>286869</td>\n",
       "    </tr>\n",
       "  </tbody>\n",
       "</table>\n",
       "</div>"
      ],
      "text/plain": [
       "          sexe    encours rentier\n",
       "count   376339     376339  376339\n",
       "unique       2          4       3\n",
       "top          F  a) inf 8k       I\n",
       "freq    214664     154997  286869"
      ]
     },
     "execution_count": 12,
     "metadata": {},
     "output_type": "execute_result"
    }
   ],
   "source": [
    "# List categorical variables\n",
    "df.describe(include='object')"
   ]
  },
  {
   "cell_type": "code",
   "execution_count": 13,
   "metadata": {},
   "outputs": [
    {
     "data": {
      "text/plain": [
       "(array([0, 1, 1, ..., 1, 1, 1]), Index(['M', 'F'], dtype='object'))"
      ]
     },
     "execution_count": 13,
     "metadata": {},
     "output_type": "execute_result"
    }
   ],
   "source": [
    "pd.factorize(df.sexe)"
   ]
  },
  {
   "cell_type": "code",
   "execution_count": 14,
   "metadata": {},
   "outputs": [],
   "source": [
    "char_cols = df.dtypes.pipe(lambda x: x[x == 'object']).index\n",
    "label_mapping = {}\n",
    "\n",
    "for c in char_cols:\n",
    "    df[c], label_mapping[c] = pd.factorize(df[c])"
   ]
  },
  {
   "cell_type": "code",
   "execution_count": 15,
   "metadata": {},
   "outputs": [
    {
     "data": {
      "text/plain": [
       "{'sexe': Index(['M', 'F'], dtype='object'),\n",
       " 'encours': Index(['a) inf 8k', 'b) 8k - 20k', 'c) 20k - 44k', 'e) sup 44k'], dtype='object'),\n",
       " 'rentier': Index(['I', 'P', 'C'], dtype='object')}"
      ]
     },
     "execution_count": 15,
     "metadata": {},
     "output_type": "execute_result"
    }
   ],
   "source": [
    "label_mapping"
   ]
  },
  {
   "cell_type": "code",
   "execution_count": 16,
   "metadata": {},
   "outputs": [
    {
     "data": {
      "text/html": [
       "<div>\n",
       "<style scoped>\n",
       "    .dataframe tbody tr th:only-of-type {\n",
       "        vertical-align: middle;\n",
       "    }\n",
       "\n",
       "    .dataframe tbody tr th {\n",
       "        vertical-align: top;\n",
       "    }\n",
       "\n",
       "    .dataframe thead th {\n",
       "        text-align: right;\n",
       "    }\n",
       "</style>\n",
       "<table border=\"1\" class=\"dataframe\">\n",
       "  <thead>\n",
       "    <tr style=\"text-align: right;\">\n",
       "      <th></th>\n",
       "      <th>sexe</th>\n",
       "      <th>tmg_round</th>\n",
       "      <th>nb_support</th>\n",
       "      <th>age</th>\n",
       "      <th>anciennete</th>\n",
       "      <th>anciennete_em</th>\n",
       "      <th>part_uc</th>\n",
       "      <th>encours</th>\n",
       "      <th>capres_rmc</th>\n",
       "      <th>rentier</th>\n",
       "      <th>...</th>\n",
       "      <th>Prix_evol_passee</th>\n",
       "      <th>Prix_evol_futur</th>\n",
       "      <th>Opportunite_achats_importants</th>\n",
       "      <th>Opportunite_epargner</th>\n",
       "      <th>Capacite_epargne_actuelle</th>\n",
       "      <th>Sit_fin_perso_passee</th>\n",
       "      <th>Sit_fin_perso_evolution</th>\n",
       "      <th>Capacite_epargne_future</th>\n",
       "      <th>nb</th>\n",
       "      <th>arb</th>\n",
       "    </tr>\n",
       "  </thead>\n",
       "  <tbody>\n",
       "    <tr>\n",
       "      <th>count</th>\n",
       "      <td>376339.000000</td>\n",
       "      <td>376339.000000</td>\n",
       "      <td>376339.0</td>\n",
       "      <td>376339.000000</td>\n",
       "      <td>376336.000000</td>\n",
       "      <td>376336.000000</td>\n",
       "      <td>376339.000000</td>\n",
       "      <td>376339.000000</td>\n",
       "      <td>376339.000000</td>\n",
       "      <td>376339.000000</td>\n",
       "      <td>...</td>\n",
       "      <td>376339.000000</td>\n",
       "      <td>376339.000000</td>\n",
       "      <td>376339.000000</td>\n",
       "      <td>376339.000000</td>\n",
       "      <td>376339.000000</td>\n",
       "      <td>376339.000000</td>\n",
       "      <td>376339.000000</td>\n",
       "      <td>376339.000000</td>\n",
       "      <td>376339.00000</td>\n",
       "      <td>376339.000000</td>\n",
       "    </tr>\n",
       "    <tr>\n",
       "      <th>mean</th>\n",
       "      <td>0.570401</td>\n",
       "      <td>0.000060</td>\n",
       "      <td>10.0</td>\n",
       "      <td>65.165170</td>\n",
       "      <td>9.077000</td>\n",
       "      <td>6.655869</td>\n",
       "      <td>0.260249</td>\n",
       "      <td>1.196129</td>\n",
       "      <td>0.222034</td>\n",
       "      <td>0.259335</td>\n",
       "      <td>...</td>\n",
       "      <td>-31.419337</td>\n",
       "      <td>-21.299741</td>\n",
       "      <td>-5.857779</td>\n",
       "      <td>6.298946</td>\n",
       "      <td>10.801240</td>\n",
       "      <td>-24.603328</td>\n",
       "      <td>-12.978399</td>\n",
       "      <td>-5.558621</td>\n",
       "      <td>2.11171</td>\n",
       "      <td>0.004817</td>\n",
       "    </tr>\n",
       "    <tr>\n",
       "      <th>std</th>\n",
       "      <td>0.495020</td>\n",
       "      <td>0.001122</td>\n",
       "      <td>0.0</td>\n",
       "      <td>20.364807</td>\n",
       "      <td>6.643746</td>\n",
       "      <td>4.189708</td>\n",
       "      <td>0.292923</td>\n",
       "      <td>1.180306</td>\n",
       "      <td>0.415614</td>\n",
       "      <td>0.485053</td>\n",
       "      <td>...</td>\n",
       "      <td>10.651979</td>\n",
       "      <td>5.258837</td>\n",
       "      <td>2.588192</td>\n",
       "      <td>2.248272</td>\n",
       "      <td>0.924785</td>\n",
       "      <td>4.543547</td>\n",
       "      <td>2.524500</td>\n",
       "      <td>3.285806</td>\n",
       "      <td>4.90663</td>\n",
       "      <td>0.069241</td>\n",
       "    </tr>\n",
       "    <tr>\n",
       "      <th>min</th>\n",
       "      <td>0.000000</td>\n",
       "      <td>0.000000</td>\n",
       "      <td>10.0</td>\n",
       "      <td>0.000000</td>\n",
       "      <td>0.000000</td>\n",
       "      <td>0.000000</td>\n",
       "      <td>0.000000</td>\n",
       "      <td>0.000000</td>\n",
       "      <td>0.000000</td>\n",
       "      <td>0.000000</td>\n",
       "      <td>...</td>\n",
       "      <td>-47.350682</td>\n",
       "      <td>-33.992008</td>\n",
       "      <td>-9.048467</td>\n",
       "      <td>3.964662</td>\n",
       "      <td>9.590150</td>\n",
       "      <td>-29.770558</td>\n",
       "      <td>-18.599835</td>\n",
       "      <td>-9.258645</td>\n",
       "      <td>1.00000</td>\n",
       "      <td>0.000000</td>\n",
       "    </tr>\n",
       "    <tr>\n",
       "      <th>25%</th>\n",
       "      <td>0.000000</td>\n",
       "      <td>0.000000</td>\n",
       "      <td>10.0</td>\n",
       "      <td>53.000000</td>\n",
       "      <td>3.000000</td>\n",
       "      <td>3.000000</td>\n",
       "      <td>0.000000</td>\n",
       "      <td>0.000000</td>\n",
       "      <td>0.000000</td>\n",
       "      <td>0.000000</td>\n",
       "      <td>...</td>\n",
       "      <td>-37.771723</td>\n",
       "      <td>-24.739691</td>\n",
       "      <td>-8.801243</td>\n",
       "      <td>4.671663</td>\n",
       "      <td>9.832064</td>\n",
       "      <td>-29.320784</td>\n",
       "      <td>-15.650491</td>\n",
       "      <td>-8.633219</td>\n",
       "      <td>1.00000</td>\n",
       "      <td>0.000000</td>\n",
       "    </tr>\n",
       "    <tr>\n",
       "      <th>50%</th>\n",
       "      <td>1.000000</td>\n",
       "      <td>0.000000</td>\n",
       "      <td>10.0</td>\n",
       "      <td>73.000000</td>\n",
       "      <td>8.000000</td>\n",
       "      <td>7.000000</td>\n",
       "      <td>0.200000</td>\n",
       "      <td>1.000000</td>\n",
       "      <td>0.000000</td>\n",
       "      <td>0.000000</td>\n",
       "      <td>...</td>\n",
       "      <td>-29.794865</td>\n",
       "      <td>-20.226812</td>\n",
       "      <td>-5.313490</td>\n",
       "      <td>5.386757</td>\n",
       "      <td>10.691414</td>\n",
       "      <td>-26.321109</td>\n",
       "      <td>-12.333135</td>\n",
       "      <td>-7.697894</td>\n",
       "      <td>1.00000</td>\n",
       "      <td>0.000000</td>\n",
       "    </tr>\n",
       "    <tr>\n",
       "      <th>75%</th>\n",
       "      <td>1.000000</td>\n",
       "      <td>0.000000</td>\n",
       "      <td>10.0</td>\n",
       "      <td>80.000000</td>\n",
       "      <td>14.000000</td>\n",
       "      <td>11.000000</td>\n",
       "      <td>0.400000</td>\n",
       "      <td>2.000000</td>\n",
       "      <td>0.000000</td>\n",
       "      <td>0.000000</td>\n",
       "      <td>...</td>\n",
       "      <td>-25.023733</td>\n",
       "      <td>-16.282375</td>\n",
       "      <td>-3.393839</td>\n",
       "      <td>7.601280</td>\n",
       "      <td>11.203815</td>\n",
       "      <td>-22.883813</td>\n",
       "      <td>-11.550336</td>\n",
       "      <td>-2.695195</td>\n",
       "      <td>1.00000</td>\n",
       "      <td>0.000000</td>\n",
       "    </tr>\n",
       "    <tr>\n",
       "      <th>max</th>\n",
       "      <td>1.000000</td>\n",
       "      <td>0.030000</td>\n",
       "      <td>10.0</td>\n",
       "      <td>105.000000</td>\n",
       "      <td>30.000000</td>\n",
       "      <td>17.000000</td>\n",
       "      <td>1.000000</td>\n",
       "      <td>3.000000</td>\n",
       "      <td>1.000000</td>\n",
       "      <td>2.000000</td>\n",
       "      <td>...</td>\n",
       "      <td>-13.815963</td>\n",
       "      <td>-14.495541</td>\n",
       "      <td>-2.238694</td>\n",
       "      <td>12.010025</td>\n",
       "      <td>12.570997</td>\n",
       "      <td>-15.987312</td>\n",
       "      <td>-9.691206</td>\n",
       "      <td>0.110471</td>\n",
       "      <td>117.00000</td>\n",
       "      <td>1.000000</td>\n",
       "    </tr>\n",
       "  </tbody>\n",
       "</table>\n",
       "<p>8 rows × 28 columns</p>\n",
       "</div>"
      ],
      "text/plain": [
       "                sexe      tmg_round  nb_support            age     anciennete  \\\n",
       "count  376339.000000  376339.000000    376339.0  376339.000000  376336.000000   \n",
       "mean        0.570401       0.000060        10.0      65.165170       9.077000   \n",
       "std         0.495020       0.001122         0.0      20.364807       6.643746   \n",
       "min         0.000000       0.000000        10.0       0.000000       0.000000   \n",
       "25%         0.000000       0.000000        10.0      53.000000       3.000000   \n",
       "50%         1.000000       0.000000        10.0      73.000000       8.000000   \n",
       "75%         1.000000       0.000000        10.0      80.000000      14.000000   \n",
       "max         1.000000       0.030000        10.0     105.000000      30.000000   \n",
       "\n",
       "       anciennete_em        part_uc        encours     capres_rmc  \\\n",
       "count  376336.000000  376339.000000  376339.000000  376339.000000   \n",
       "mean        6.655869       0.260249       1.196129       0.222034   \n",
       "std         4.189708       0.292923       1.180306       0.415614   \n",
       "min         0.000000       0.000000       0.000000       0.000000   \n",
       "25%         3.000000       0.000000       0.000000       0.000000   \n",
       "50%         7.000000       0.200000       1.000000       0.000000   \n",
       "75%        11.000000       0.400000       2.000000       0.000000   \n",
       "max        17.000000       1.000000       3.000000       1.000000   \n",
       "\n",
       "             rentier  ...  Prix_evol_passee  Prix_evol_futur  \\\n",
       "count  376339.000000  ...     376339.000000    376339.000000   \n",
       "mean        0.259335  ...        -31.419337       -21.299741   \n",
       "std         0.485053  ...         10.651979         5.258837   \n",
       "min         0.000000  ...        -47.350682       -33.992008   \n",
       "25%         0.000000  ...        -37.771723       -24.739691   \n",
       "50%         0.000000  ...        -29.794865       -20.226812   \n",
       "75%         0.000000  ...        -25.023733       -16.282375   \n",
       "max         2.000000  ...        -13.815963       -14.495541   \n",
       "\n",
       "       Opportunite_achats_importants  Opportunite_epargner  \\\n",
       "count                  376339.000000         376339.000000   \n",
       "mean                       -5.857779              6.298946   \n",
       "std                         2.588192              2.248272   \n",
       "min                        -9.048467              3.964662   \n",
       "25%                        -8.801243              4.671663   \n",
       "50%                        -5.313490              5.386757   \n",
       "75%                        -3.393839              7.601280   \n",
       "max                        -2.238694             12.010025   \n",
       "\n",
       "       Capacite_epargne_actuelle  Sit_fin_perso_passee  \\\n",
       "count              376339.000000         376339.000000   \n",
       "mean                   10.801240            -24.603328   \n",
       "std                     0.924785              4.543547   \n",
       "min                     9.590150            -29.770558   \n",
       "25%                     9.832064            -29.320784   \n",
       "50%                    10.691414            -26.321109   \n",
       "75%                    11.203815            -22.883813   \n",
       "max                    12.570997            -15.987312   \n",
       "\n",
       "       Sit_fin_perso_evolution  Capacite_epargne_future            nb  \\\n",
       "count            376339.000000            376339.000000  376339.00000   \n",
       "mean                -12.978399                -5.558621       2.11171   \n",
       "std                   2.524500                 3.285806       4.90663   \n",
       "min                 -18.599835                -9.258645       1.00000   \n",
       "25%                 -15.650491                -8.633219       1.00000   \n",
       "50%                 -12.333135                -7.697894       1.00000   \n",
       "75%                 -11.550336                -2.695195       1.00000   \n",
       "max                  -9.691206                 0.110471     117.00000   \n",
       "\n",
       "                 arb  \n",
       "count  376339.000000  \n",
       "mean        0.004817  \n",
       "std         0.069241  \n",
       "min         0.000000  \n",
       "25%         0.000000  \n",
       "50%         0.000000  \n",
       "75%         0.000000  \n",
       "max         1.000000  \n",
       "\n",
       "[8 rows x 28 columns]"
      ]
     },
     "execution_count": 16,
     "metadata": {},
     "output_type": "execute_result"
    }
   ],
   "source": [
    "df.describe()"
   ]
  },
  {
   "cell_type": "code",
   "execution_count": 17,
   "metadata": {},
   "outputs": [
    {
     "data": {
      "text/plain": [
       "sexe                             0\n",
       "tmg_round                        0\n",
       "nb_support                       0\n",
       "age                              0\n",
       "anciennete                       3\n",
       "anciennete_em                    3\n",
       "part_uc                          0\n",
       "encours                          0\n",
       "capres_rmc                       0\n",
       "rentier                          0\n",
       "cac_m1                           0\n",
       "cac_m2                           0\n",
       "cac_m3                           0\n",
       "cac_m12                          0\n",
       "Opinion_des_menages              0\n",
       "Niveau_de_vie_passee             0\n",
       "Niveau_de_vie_evolution          0\n",
       "Chomage_evolution                0\n",
       "Prix_evol_passee                 0\n",
       "Prix_evol_futur                  0\n",
       "Opportunite_achats_importants    0\n",
       "Opportunite_epargner             0\n",
       "Capacite_epargne_actuelle        0\n",
       "Sit_fin_perso_passee             0\n",
       "Sit_fin_perso_evolution          0\n",
       "Capacite_epargne_future          0\n",
       "nb                               0\n",
       "arb                              0\n",
       "dtype: int64"
      ]
     },
     "execution_count": 17,
     "metadata": {},
     "output_type": "execute_result"
    }
   ],
   "source": [
    "df.isnull().sum()"
   ]
  },
  {
   "cell_type": "code",
   "execution_count": 18,
   "metadata": {},
   "outputs": [],
   "source": [
    "df['anciennete'].fillna((df['anciennete'].median()), inplace=True)\n",
    "df['anciennete_em'].fillna((df['anciennete_em'].median()), inplace=True)"
   ]
  },
  {
   "cell_type": "code",
   "execution_count": 19,
   "metadata": {},
   "outputs": [
    {
     "name": "stdout",
     "output_type": "stream",
     "text": [
      "Class 0: 374526\n",
      "Class 1: 1813\n",
      "Proportion: 206.58 : 1\n"
     ]
    },
    {
     "data": {
      "text/plain": [
       "<matplotlib.axes._subplots.AxesSubplot at 0x7f8cef77efd0>"
      ]
     },
     "execution_count": 19,
     "metadata": {},
     "output_type": "execute_result"
    },
    {
     "data": {
      "image/png": "[encoded data removed]",
      "text/plain": [
       "<Figure size 432x288 with 1 Axes>"
      ]
     },
     "metadata": {
      "needs_background": "light"
     },
     "output_type": "display_data"
    }
   ],
   "source": [
    "# Imbalanced datasets\n",
    "target_count = df.arb.value_counts()\n",
    "print('Class 0:', target_count[0])\n",
    "print('Class 1:', target_count[1])\n",
    "print('Proportion:', round(target_count[0] / target_count[1], 2), ': 1')\n",
    "\n",
    "target_count.plot(kind='bar', title='Count (target)')"
   ]
  },
  {
   "cell_type": "code",
   "execution_count": 59,
   "metadata": {},
   "outputs": [],
   "source": [
    "#sns.pairplot(df, hue=\"arb\")"
   ]
  },
  {
   "cell_type": "code",
   "execution_count": 20,
   "metadata": {},
   "outputs": [],
   "source": [
    "normal_df = df[df.arb == 0] #save normal_df observations into a separate df\n",
    "arbitrage_df = df[df.arb == 1] #do the same for arbitrage"
   ]
  },
  {
   "cell_type": "code",
   "execution_count": 21,
   "metadata": {},
   "outputs": [],
   "source": [
    "sexe=arbitrage_df.groupby('sexe')['arb'].count()\n",
    "age=arbitrage_df.groupby('age')['arb'].count()\n",
    "anciennete=arbitrage_df.groupby('anciennete')['arb'].count()\n",
    "part_uc=arbitrage_df.groupby('part_uc')['arb'].count()\n",
    "encours=arbitrage_df.groupby('encours')['arb'].count()"
   ]
  },
  {
   "cell_type": "code",
   "execution_count": 22,
   "metadata": {},
   "outputs": [
    {
     "data": {
      "text/plain": [
       "<matplotlib.axes._subplots.AxesSubplot at 0x7f8cf1949c88>"
      ]
     },
     "execution_count": 22,
     "metadata": {},
     "output_type": "execute_result"
    },
    {
     "data": {
      "image/png": "[encoded data removed]",
      "text/plain": [
       "<Figure size 432x288 with 1 Axes>"
      ]
     },
     "metadata": {
      "needs_background": "light"
     },
     "output_type": "display_data"
    }
   ],
   "source": [
    "sexe.plot(kind='bar', title='Count (target)')"
   ]
  },
  {
   "cell_type": "code",
   "execution_count": 23,
   "metadata": {},
   "outputs": [
    {
     "name": "stdout",
     "output_type": "stream",
     "text": [
      "<class 'pandas.core.frame.DataFrame'> (376339, 27)\n",
      "<class 'pandas.core.series.Series'>\n"
     ]
    }
   ],
   "source": [
    "# split data into X and y\n",
    "#X = pd.DataFrame(df_subset[['sexe','age','anciennete_em','taux_uc','vac_euro_net','capres']])\n",
    "X = df.drop(['arb'], axis=1)\n",
    "y = df.arb\n",
    "print(type(X),X.shape)\n",
    "print(type(y))"
   ]
  },
  {
   "cell_type": "code",
   "execution_count": 24,
   "metadata": {},
   "outputs": [
    {
     "name": "stdout",
     "output_type": "stream",
     "text": [
      "252147 total examples in y_train\n",
      "class 0: 250978 examples, 99.54%\n",
      "class 1: 1169 examples, 0.46%\n",
      "\n",
      "124192 total examples in y_test\n",
      "class 0: 123548 examples, 99.48%\n",
      "class 1: 644 examples, 0.52%\n",
      "\n"
     ]
    }
   ],
   "source": [
    "# split data into train and test sets\n",
    "seed = 42\n",
    "test_size = 0.33\n",
    "X_train, X_test, y_train, y_test = train_test_split(X, y, test_size=test_size,random_state=seed)\n",
    "\n",
    "# Show the class distribution in each label set\n",
    "def get_class_dist(data, name):\n",
    "    unique, counts = np.unique(data, return_counts=True)\n",
    "    pct = 100*(counts/len(data))\n",
    "    d = dict(zip(unique, zip(counts, pct)))\n",
    "    print(len(data), 'total examples in %s' % name)\n",
    "    for key, values in d.items():\n",
    "        print('class %d: %d examples,' % (key, values[0]), \"{0:.2f}%\".format(values[1]))\n",
    "    print('')\n",
    "    return\n",
    " \n",
    "get_class_dist(data=y_train, name='y_train')\n",
    "get_class_dist(data=y_test, name='y_test')"
   ]
  },
  {
   "cell_type": "code",
   "execution_count": 26,
   "metadata": {},
   "outputs": [
    {
     "name": "stdout",
     "output_type": "stream",
     "text": [
      "(252147, 27)\n",
      "<class 'pandas.core.frame.DataFrame'>\n",
      "(124192, 27)\n",
      "<class 'pandas.core.frame.DataFrame'>\n",
      "(376339, 27)\n",
      "<class 'pandas.core.frame.DataFrame'>\n"
     ]
    }
   ],
   "source": [
    "# Normalize the data : MinMaxScaler\n",
    "#mm_scaler = MinMaxScaler()\n",
    "#X_train_std = pd.DataFrame(mm_scaler.fit_transform(X_train),columns = X_train.columns)\n",
    "#X_test_std = pd.DataFrame(mm_scaler.fit_transform(X_test),columns = X_test.columns)\n",
    "\n",
    "mm_scaler = MinMaxScaler().fit(X_train)\n",
    "\n",
    "X_train_std = pd.DataFrame(mm_scaler.transform(X_train),columns = X_train.columns)\n",
    "X_test_std = pd.DataFrame(mm_scaler.transform(X_test),columns = X_test.columns)\n",
    "\n",
    "scaler = MinMaxScaler()\n",
    "X_std = pd.DataFrame(scaler.fit_transform(X),columns = X.columns)\n",
    "\n",
    "print(X_train_std.shape)\n",
    "print(type(X_train_std))\n",
    "print(X_test_std.shape)\n",
    "print(type(X_test_std))\n",
    "print(X_std.shape)\n",
    "print(type(X_std))"
   ]
  },
  {
   "cell_type": "code",
   "execution_count": 27,
   "metadata": {},
   "outputs": [],
   "source": [
    "def plot_2d_space(X, y, label='Classes'):   \n",
    "    colors = ['#1F77B4', '#FF7F0E']\n",
    "    markers = ['o', 's']\n",
    "    for l, c, m in zip(np.unique(y), colors, markers):\n",
    "        plt.scatter(\n",
    "            X[y==l, 0],\n",
    "            X[y==l, 1],\n",
    "            c=c, label=l, marker=m\n",
    "        )\n",
    "    plt.title(label)\n",
    "    plt.legend(loc='upper right')\n",
    "    plt.show()"
   ]
  },
  {
   "cell_type": "code",
   "execution_count": 30,
   "metadata": {},
   "outputs": [
    {
     "data": {
      "image/png": "[encoded data removed]",
      "text/plain": [
       "<Figure size 432x288 with 1 Axes>"
      ]
     },
     "metadata": {
      "needs_background": "light"
     },
     "output_type": "display_data"
    }
   ],
   "source": [
    "pca = PCA(n_components=2)\n",
    "X_pca = pca.fit_transform(X_std)\n",
    "plot_2d_space(X_pca, y, 'Principal Components Analysis')"
   ]
  },
  {
   "cell_type": "code",
   "execution_count": 31,
   "metadata": {},
   "outputs": [
    {
     "name": "stdout",
     "output_type": "stream",
     "text": [
      "Accuracy: 99.48%\n",
      "MCC: 0.00%\n",
      "\n",
      "Confusion Matrix\n"
     ]
    },
    {
     "name": "stderr",
     "output_type": "stream",
     "text": [
      "/home/sylvain/miniconda3/lib/python3.7/site-packages/sklearn/metrics/classification.py:872: RuntimeWarning: invalid value encountered in double_scalars\n",
      "  mcc = cov_ytyp / np.sqrt(cov_ytyt * cov_ypyp)\n"
     ]
    },
    {
     "data": {
      "text/plain": [
       "array([[123548,      0],\n",
       "       [   644,      0]])"
      ]
     },
     "execution_count": 31,
     "metadata": {},
     "output_type": "execute_result"
    }
   ],
   "source": [
    "# Modeling the data as is\n",
    "# Train model\n",
    "lr = LogisticRegression(solver='liblinear').fit(X_train_std, y_train)\n",
    " \n",
    "# Predict on training set\n",
    "lr_pred = lr.predict(X_test_std)\n",
    "\n",
    "# Checking accuracy\n",
    "print(\"Accuracy: %.2f%%\" % (accuracy_score(y_test, lr_pred) * 100.0))\n",
    "print(\"MCC: %.2f%%\" % (matthews_corrcoef(y_test, lr_pred) * 100.0))\n",
    "print('')\n",
    "print('Confusion Matrix')\n",
    "confusion_matrix(y_test, lr_pred)"
   ]
  },
  {
   "cell_type": "code",
   "execution_count": 32,
   "metadata": {},
   "outputs": [
    {
     "name": "stdout",
     "output_type": "stream",
     "text": [
      "Accuracy: 99.60%\n",
      "MCC: 50.81%\n",
      "\n",
      "Confusion Matrix\n"
     ]
    },
    {
     "data": {
      "text/plain": [
       "array([[123477,     71],\n",
       "       [   423,    221]])"
      ]
     },
     "execution_count": 32,
     "metadata": {},
     "output_type": "execute_result"
    }
   ],
   "source": [
    "# train model\n",
    "rfc = RandomForestClassifier(n_jobs=-1, n_estimators=100, random_state=42).fit(X_train_std, y_train)\n",
    "\n",
    "# predict on test set\n",
    "rfc_pred = rfc.predict(X_test_std)\n",
    "\n",
    "print(\"Accuracy: %.2f%%\" % (accuracy_score(y_test, rfc_pred) * 100.0))\n",
    "print(\"MCC: %.2f%%\" % (matthews_corrcoef(y_test, rfc_pred) * 100.0))\n",
    "print('')\n",
    "print('Confusion Matrix')\n",
    "confusion_matrix(y_test, rfc_pred)"
   ]
  },
  {
   "cell_type": "code",
   "execution_count": 33,
   "metadata": {},
   "outputs": [
    {
     "name": "stdout",
     "output_type": "stream",
     "text": [
      "Accuracy: 84.68%\n",
      "MCC: 12.67%\n",
      "\n",
      "Confusion Matrix\n"
     ]
    },
    {
     "data": {
      "text/plain": [
       "array([[104659,  18889],\n",
       "       [   133,    511]])"
      ]
     },
     "execution_count": 33,
     "metadata": {},
     "output_type": "execute_result"
    }
   ],
   "source": [
    "# train model\n",
    "brf = BalancedRandomForestClassifier(n_estimators=100, random_state=42, n_jobs=-1).fit(X_train_std, y_train)\n",
    "\n",
    "# predict on test set\n",
    "brf_pred = brf.predict(X_test_std)\n",
    "\n",
    "print(\"Accuracy: %.2f%%\" % (accuracy_score(y_test, brf_pred) * 100.0))\n",
    "print(\"MCC: %.2f%%\" % (matthews_corrcoef(y_test, brf_pred) * 100.0))\n",
    "print('')\n",
    "print('Confusion Matrix')\n",
    "confusion_matrix(y_test, brf_pred)"
   ]
  },
  {
   "cell_type": "code",
   "execution_count": 34,
   "metadata": {},
   "outputs": [
    {
     "name": "stdout",
     "output_type": "stream",
     "text": [
      "Accuracy: 99.60%\n",
      "MCC: 49.98%\n",
      "\n",
      "Confusion Matrix\n"
     ]
    },
    {
     "data": {
      "text/plain": [
       "array([[123484,     64],\n",
       "       [   433,    211]])"
      ]
     },
     "execution_count": 34,
     "metadata": {},
     "output_type": "execute_result"
    }
   ],
   "source": [
    "# train model\n",
    "xgb = XGBClassifier(n_jobs=-1).fit(X_train_std, y_train)\n",
    "\n",
    "# predict on test set\n",
    "xgb_pred = xgb.predict(X_test_std)\n",
    "\n",
    "print(\"Accuracy: %.2f%%\" % (accuracy_score(y_test, xgb_pred) * 100.0))\n",
    "print(\"MCC: %.2f%%\" % (matthews_corrcoef(y_test, xgb_pred) * 100.0))\n",
    "print('')\n",
    "print('Confusion Matrix')\n",
    "confusion_matrix(y_test, xgb_pred)"
   ]
  },
  {
   "cell_type": "code",
   "execution_count": 35,
   "metadata": {},
   "outputs": [
    {
     "name": "stdout",
     "output_type": "stream",
     "text": [
      "Accuracy: 99.48%\n",
      "MCC: 7.02%\n",
      "\n",
      "Confusion Matrix\n"
     ]
    },
    {
     "data": {
      "text/plain": [
       "array([[123547,      1],\n",
       "       [   640,      4]])"
      ]
     },
     "execution_count": 35,
     "metadata": {},
     "output_type": "execute_result"
    }
   ],
   "source": [
    "# train model\n",
    "abc = AdaBoostClassifier().fit(X_train_std, y_train)\n",
    "\n",
    "# predict on test set\n",
    "abc_pred = abc.predict(X_test_std)\n",
    "\n",
    "print(\"Accuracy: %.2f%%\" % (accuracy_score(y_test, abc_pred) * 100.0))\n",
    "print(\"MCC: %.2f%%\" % (matthews_corrcoef(y_test, abc_pred) * 100.0))\n",
    "print('')\n",
    "print('Confusion Matrix')\n",
    "confusion_matrix(y_test, abc_pred)"
   ]
  },
  {
   "cell_type": "code",
   "execution_count": 36,
   "metadata": {},
   "outputs": [
    {
     "name": "stdout",
     "output_type": "stream",
     "text": [
      "Confusion matrix:\n",
      " [[123484     64]\n",
      " [   433    211]]\n"
     ]
    },
    {
     "data": {
      "image/png": "[encoded data removed]",
      "text/plain": [
       "<Figure size 432x288 with 2 Axes>"
      ]
     },
     "metadata": {
      "needs_background": "light"
     },
     "output_type": "display_data"
    }
   ],
   "source": [
    "# Confusion matrix\n",
    "\n",
    "conf_mat = confusion_matrix(y_true=y_test, y_pred=xgb_pred)\n",
    "print('Confusion matrix:\\n', conf_mat)\n",
    "\n",
    "labels = ['Class 0', 'Class 1']\n",
    "fig = plt.figure()\n",
    "ax = fig.add_subplot(111)\n",
    "cax = ax.matshow(conf_mat, cmap=plt.cm.Blues)\n",
    "fig.colorbar(cax)\n",
    "ax.set_xticklabels([''] + labels)\n",
    "ax.set_yticklabels([''] + labels)\n",
    "plt.xlabel('Predicted')\n",
    "plt.ylabel('Expected')\n",
    "plt.show()"
   ]
  },
  {
   "cell_type": "code",
   "execution_count": 37,
   "metadata": {},
   "outputs": [],
   "source": [
    "def model_resampling(model, X, y, resampling, calibrate, k=5, random_state=42, print_res = True):\n",
    "    # Convert inputs to numpy arrays\n",
    "    X = np.array(X)\n",
    "    y = np.array(y)\n",
    "    \n",
    "    # Define the cross-validation parameters\n",
    "    # Common values of k are 5 and 10, as these have been shown experimentally to produce the best results\n",
    "    cv = StratifiedKFold(n_splits=k, shuffle=True, random_state=random_state)\n",
    "    \n",
    "    # Create lists to save results to\n",
    "    mcc = []\n",
    "    brier = []\n",
    "    actual_goals = []\n",
    "    pred_goals = []\n",
    "    accuracy = []\n",
    "    f1 = []\n",
    "    recall = []\n",
    "    model_name = model.__class__.__name__\n",
    "    \n",
    "    # Create training and test data using cross validation and fit model for each fold\n",
    "    for ii, (train_index, valid_index) in enumerate(cv.split(X, y)):\n",
    "        X_train, X_valid = X[train_index], X[valid_index]\n",
    "        y_train, y_valid = y[train_index], y[valid_index]\n",
    "        \n",
    "        if resampling == None:\n",
    "            res = 'no'\n",
    "        else:\n",
    "            X_train, y_train = resampling.fit_resample(X_train, y_train)\n",
    "            res = resampling.__class__.__name__\n",
    "        \n",
    "        # Normalize the data\n",
    "        #ss = StandardScaler()\n",
    "        mm_scaler = MinMaxScaler().fit(X_train)\n",
    "\n",
    "        X_train_std = mm_scaler.transform(X_train)\n",
    "        X_valid_std = mm_scaler.transform(X_valid)\n",
    "\n",
    "        # Calibrate model if necessary\n",
    "        if calibrate == None:\n",
    "            calibrated_probs = 'uncalibrated probabilities'\n",
    "            model.fit(X_train_std, y_train)\n",
    "        else:\n",
    "            model = CalibratedClassifierCV(model, cv=2, method=calibrate)\n",
    "            model.fit(X_train_std, y_train)\n",
    "            calibrated_probs = '%s calibration' % calibrate\n",
    "            \n",
    "        y_pred = model.predict(X_valid_std)\n",
    "        y_pred_proba = model.predict_proba(X_valid_std)[:,1]\n",
    " \n",
    "        # Calculate mcc score, brier_loss and sum of predicted goal probabilities\n",
    "        actual_goals.append(sum(y_valid))\n",
    "        pred_goals.append(sum(y_pred_proba))\n",
    "        mcc.append(matthews_corrcoef(y_valid, y_pred))\n",
    "        brier.append(brier_score_loss(y_valid, y_pred_proba))\n",
    "        f1.append(f1_score(y_valid, y_pred))\n",
    "        recall.append(recall_score(y_valid, y_pred))\n",
    "        accuracy.append(accuracy_score(y_valid, y_pred))\n",
    "        \n",
    "        # Save the results to a dataframe\n",
    "    check = pd.DataFrame()\n",
    "    check['mcc'] = mcc\n",
    "    check['brier_loss'] = brier\n",
    "    check['actual_goals'] = actual_goals\n",
    "    check['predicted_goals'] = pred_goals\n",
    "    check['goals_diff'] = abs(check['actual_goals'] - check['predicted_goals'])\n",
    "    check['f1'] = f1\n",
    "    check['recall'] = recall\n",
    "    check['accuracy'] = accuracy\n",
    "    \n",
    "    # Print a summary of the results if required\n",
    "    if print_res == True:\n",
    "        print('Method: %s with %s resampling and %s'\n",
    "              % (model_name, res, calibrated_probs))\n",
    "        print('Goals:', '{0:.2f}'.format(check['actual_goals'].mean()))\n",
    "        print('Predicted Goals:', '{0:.2f}'.format(check['predicted_goals'].mean()))\n",
    "        print('MCC:', '{0:.2%}'.format(check['mcc'].mean()))\n",
    "        print('Brier Loss:', '{0:.2%}'.format(check['brier_loss'].mean()))\n",
    "        print('F1_score:', '{:.2%}'.format(check['f1'].mean()))\n",
    "        print('Recall_score:', '{:.2%}'.format(check['recall'].mean()))\n",
    "        print('Accuracy:', '{:.2%}'.format(check['accuracy'].mean()))\n",
    "        print('')\n",
    "    else: pass\n",
    " \n",
    "    return check"
   ]
  },
  {
   "cell_type": "code",
   "execution_count": 38,
   "metadata": {},
   "outputs": [],
   "source": [
    "# Define a function to plot barplot comparisons of models\n",
    "def barplot_comparison(df, x='name', y1='mcc', y2='brier_loss', figsize=(18, 8)):\n",
    "    sns.set(style='white')\n",
    " \n",
    "    f, axs = plt.subplots(ncols=2, figsize=figsize, sharey=False)\n",
    "     \n",
    "    # Plot bars\n",
    "    sns.barplot(x=x, y=y1, data=df, palette='muted', ax=axs[0])\n",
    "    sns.barplot(x=x, y=y2, data=df, palette='muted', ax=axs[1])\n",
    " \n",
    "    # Tweak the visual presentation\n",
    "    axs[0].yaxis.grid(True)\n",
    "    axs[0].set(xlabel=\"\", ylim=(min(df[y1]-0.02),max(df[y1]+0.02)))\n",
    "    axs[1].yaxis.grid(True)\n",
    "    axs[1].set(xlabel=\"\", ylim=(min(df[y2]-0.02),max(df[y2]+0.02)))\n",
    "    sns.despine(trim=True, left=True);\n",
    "     \n",
    "    return"
   ]
  },
  {
   "cell_type": "code",
   "execution_count": 39,
   "metadata": {},
   "outputs": [
    {
     "name": "stderr",
     "output_type": "stream",
     "text": [
      "/home/sylvain/miniconda3/lib/python3.7/site-packages/sklearn/linear_model/logistic.py:947: ConvergenceWarning: lbfgs failed to converge. Increase the number of iterations.\n",
      "  \"of iterations.\", ConvergenceWarning)\n",
      "/home/sylvain/miniconda3/lib/python3.7/site-packages/sklearn/metrics/classification.py:872: RuntimeWarning: invalid value encountered in double_scalars\n",
      "  mcc = cov_ytyp / np.sqrt(cov_ytyt * cov_ypyp)\n",
      "/home/sylvain/miniconda3/lib/python3.7/site-packages/sklearn/metrics/classification.py:1437: UndefinedMetricWarning: F-score is ill-defined and being set to 0.0 due to no predicted samples.\n",
      "  'precision', 'predicted', average, warn_for)\n",
      "/home/sylvain/miniconda3/lib/python3.7/site-packages/sklearn/linear_model/logistic.py:947: ConvergenceWarning: lbfgs failed to converge. Increase the number of iterations.\n",
      "  \"of iterations.\", ConvergenceWarning)\n",
      "/home/sylvain/miniconda3/lib/python3.7/site-packages/sklearn/metrics/classification.py:872: RuntimeWarning: invalid value encountered in double_scalars\n",
      "  mcc = cov_ytyp / np.sqrt(cov_ytyt * cov_ypyp)\n",
      "/home/sylvain/miniconda3/lib/python3.7/site-packages/sklearn/metrics/classification.py:1437: UndefinedMetricWarning: F-score is ill-defined and being set to 0.0 due to no predicted samples.\n",
      "  'precision', 'predicted', average, warn_for)\n",
      "/home/sylvain/miniconda3/lib/python3.7/site-packages/sklearn/linear_model/logistic.py:947: ConvergenceWarning: lbfgs failed to converge. Increase the number of iterations.\n",
      "  \"of iterations.\", ConvergenceWarning)\n",
      "/home/sylvain/miniconda3/lib/python3.7/site-packages/sklearn/metrics/classification.py:872: RuntimeWarning: invalid value encountered in double_scalars\n",
      "  mcc = cov_ytyp / np.sqrt(cov_ytyt * cov_ypyp)\n",
      "/home/sylvain/miniconda3/lib/python3.7/site-packages/sklearn/metrics/classification.py:1437: UndefinedMetricWarning: F-score is ill-defined and being set to 0.0 due to no predicted samples.\n",
      "  'precision', 'predicted', average, warn_for)\n",
      "/home/sylvain/miniconda3/lib/python3.7/site-packages/sklearn/linear_model/logistic.py:947: ConvergenceWarning: lbfgs failed to converge. Increase the number of iterations.\n",
      "  \"of iterations.\", ConvergenceWarning)\n",
      "/home/sylvain/miniconda3/lib/python3.7/site-packages/sklearn/metrics/classification.py:872: RuntimeWarning: invalid value encountered in double_scalars\n",
      "  mcc = cov_ytyp / np.sqrt(cov_ytyt * cov_ypyp)\n",
      "/home/sylvain/miniconda3/lib/python3.7/site-packages/sklearn/metrics/classification.py:1437: UndefinedMetricWarning: F-score is ill-defined and being set to 0.0 due to no predicted samples.\n",
      "  'precision', 'predicted', average, warn_for)\n",
      "/home/sylvain/miniconda3/lib/python3.7/site-packages/sklearn/linear_model/logistic.py:947: ConvergenceWarning: lbfgs failed to converge. Increase the number of iterations.\n",
      "  \"of iterations.\", ConvergenceWarning)\n",
      "/home/sylvain/miniconda3/lib/python3.7/site-packages/sklearn/metrics/classification.py:872: RuntimeWarning: invalid value encountered in double_scalars\n",
      "  mcc = cov_ytyp / np.sqrt(cov_ytyt * cov_ypyp)\n",
      "/home/sylvain/miniconda3/lib/python3.7/site-packages/sklearn/metrics/classification.py:1437: UndefinedMetricWarning: F-score is ill-defined and being set to 0.0 due to no predicted samples.\n",
      "  'precision', 'predicted', average, warn_for)\n"
     ]
    },
    {
     "name": "stdout",
     "output_type": "stream",
     "text": [
      "Method: LogisticRegression with no resampling and uncalibrated probabilities\n",
      "Goals: 362.60\n",
      "Predicted Goals: 362.83\n",
      "MCC: 0.00%\n",
      "Brier Loss: 0.46%\n",
      "F1_score: 0.00%\n",
      "Recall_score: 0.00%\n",
      "Accuracy: 99.52%\n",
      "\n",
      "Method: RandomForestClassifier with no resampling and uncalibrated probabilities\n",
      "Goals: 362.60\n",
      "Predicted Goals: 353.32\n",
      "MCC: 50.41%\n",
      "Brier Loss: 0.34%\n",
      "F1_score: 46.64%\n",
      "Recall_score: 33.70%\n",
      "Accuracy: 99.63%\n",
      "\n",
      "Method: BalancedRandomForestClassifier with no resampling and uncalibrated probabilities\n",
      "Goals: 362.60\n",
      "Predicted Goals: 21695.11\n",
      "MCC: 12.16%\n",
      "Brier Loss: 11.73%\n",
      "F1_score: 4.75%\n",
      "Recall_score: 78.71%\n",
      "Accuracy: 84.79%\n",
      "\n"
     ]
    },
    {
     "name": "stderr",
     "output_type": "stream",
     "text": [
      "/home/sylvain/miniconda3/lib/python3.7/site-packages/sklearn/metrics/classification.py:872: RuntimeWarning: invalid value encountered in double_scalars\n",
      "  mcc = cov_ytyp / np.sqrt(cov_ytyt * cov_ypyp)\n",
      "/home/sylvain/miniconda3/lib/python3.7/site-packages/sklearn/metrics/classification.py:1437: UndefinedMetricWarning: F-score is ill-defined and being set to 0.0 due to no predicted samples.\n",
      "  'precision', 'predicted', average, warn_for)\n"
     ]
    },
    {
     "name": "stdout",
     "output_type": "stream",
     "text": [
      "Method: AdaBoostClassifier with no resampling and uncalibrated probabilities\n",
      "Goals: 362.60\n",
      "Predicted Goals: 35909.20\n",
      "MCC: 4.96%\n",
      "Brier Loss: 22.82%\n",
      "F1_score: 1.09%\n",
      "Recall_score: 0.55%\n",
      "Accuracy: 99.52%\n",
      "\n",
      "Method: XGBClassifier with no resampling and uncalibrated probabilities\n",
      "Goals: 362.60\n",
      "Predicted Goals: 365.07\n",
      "MCC: 50.23%\n",
      "Brier Loss: 0.35%\n",
      "F1_score: 45.47%\n",
      "Recall_score: 31.83%\n",
      "Accuracy: 99.63%\n",
      "\n"
     ]
    },
    {
     "data": {
      "image/png": "[encoded data removed]",
      "text/plain": [
       "<Figure size 1296x576 with 2 Axes>"
      ]
     },
     "metadata": {},
     "output_type": "display_data"
    }
   ],
   "source": [
    "# Model results without resampling\n",
    "rf = RandomForestClassifier(n_estimators=100, n_jobs=-1, random_state=42)\n",
    "lr = LogisticRegression(solver='lbfgs')\n",
    "brf = BalancedRandomForestClassifier(n_estimators=100, random_state=42, n_jobs=-1)\n",
    "ab = AdaBoostClassifier(n_estimators=100, random_state=42)\n",
    "xgb = XGBClassifier(nthread=-1,random_state=42)\n",
    "\n",
    "models = []\n",
    "models.append(('LR', lr, None, None))\n",
    "models.append(('RF', rf, None, None))\n",
    "models.append(('BRF', brf, None, None))\n",
    "models.append(('AB', ab, None, None))\n",
    "models.append(('XGB', xgb, None, None))\n",
    " \n",
    "results_df = pd.DataFrame()\n",
    "for name, model, resampling, calibrate in models:\n",
    "    result = model_resampling(model, X, y, resampling, calibrate)\n",
    "    result['name'] = name\n",
    "    results_df = results_df.append(result)\n",
    "     \n",
    "barplot_comparison(results_df)"
   ]
  },
  {
   "cell_type": "code",
   "execution_count": 202,
   "metadata": {},
   "outputs": [
    {
     "name": "stdout",
     "output_type": "stream",
     "text": [
      "Fitting 5 folds for each of 9 candidates, totalling 45 fits\n"
     ]
    },
    {
     "name": "stderr",
     "output_type": "stream",
     "text": [
      "[Parallel(n_jobs=1)]: Using backend SequentialBackend with 1 concurrent workers.\n",
      "[Parallel(n_jobs=1)]: Done  45 out of  45 | elapsed: 15.0min finished\n"
     ]
    },
    {
     "data": {
      "text/plain": [
       "(-0.0046970043442646865, {'max_depth': 6, 'n_estimators': 100})"
      ]
     },
     "execution_count": 202,
     "metadata": {},
     "output_type": "execute_result"
    }
   ],
   "source": [
    "import joblib  # to check you can parallelize GridSearchCV\n",
    "model = RandomForestClassifier(n_jobs=-1)\n",
    "clf = GridSearchCV(model, \n",
    "                   {'max_depth': [2,4,6], \n",
    "                    'n_estimators': [50,100,200]}, \n",
    "                   scoring = 'brier_score_loss', verbose=1, n_jobs=1, pre_dispatch=1, cv=5)\n",
    "clf.fit(X_std,y)\n",
    "clf.best_score_, clf.best_params_"
   ]
  },
  {
   "cell_type": "code",
   "execution_count": 242,
   "metadata": {},
   "outputs": [
    {
     "name": "stdout",
     "output_type": "stream",
     "text": [
      "MCC: 50.78%\n",
      "Thresh=0.000, n=27, MCC: 50.78%\n",
      "Thresh=0.002, n=19, MCC: 50.78%\n",
      "Thresh=0.003, n=17, MCC: 50.78%\n",
      "Thresh=0.008, n=14, MCC: 50.75%\n",
      "Thresh=0.010, n=12, MCC: 50.61%\n",
      "Thresh=0.016, n=8, MCC: 50.57%\n",
      "Thresh=0.054, n=7, MCC: 50.46%\n",
      "Thresh=0.078, n=6, MCC: 50.72%\n",
      "Thresh=0.110, n=5, MCC: 50.37%\n",
      "Thresh=0.133, n=4, MCC: 50.81%\n"
     ]
    },
    {
     "name": "stderr",
     "output_type": "stream",
     "text": [
      "/home/sylvain/miniconda3/lib/python3.7/site-packages/sklearn/metrics/classification.py:872: RuntimeWarning: invalid value encountered in double_scalars\n",
      "  mcc = cov_ytyp / np.sqrt(cov_ytyt * cov_ypyp)\n"
     ]
    },
    {
     "name": "stdout",
     "output_type": "stream",
     "text": [
      "Thresh=0.140, n=3, MCC: 0.00%\n"
     ]
    },
    {
     "name": "stderr",
     "output_type": "stream",
     "text": [
      "/home/sylvain/miniconda3/lib/python3.7/site-packages/sklearn/metrics/classification.py:872: RuntimeWarning: invalid value encountered in double_scalars\n",
      "  mcc = cov_ytyp / np.sqrt(cov_ytyt * cov_ypyp)\n"
     ]
    },
    {
     "name": "stdout",
     "output_type": "stream",
     "text": [
      "Thresh=0.200, n=2, MCC: 0.00%\n",
      "Thresh=0.203, n=1, MCC: 0.00%\n"
     ]
    },
    {
     "name": "stderr",
     "output_type": "stream",
     "text": [
      "/home/sylvain/miniconda3/lib/python3.7/site-packages/sklearn/metrics/classification.py:872: RuntimeWarning: invalid value encountered in double_scalars\n",
      "  mcc = cov_ytyp / np.sqrt(cov_ytyt * cov_ypyp)\n"
     ]
    }
   ],
   "source": [
    "# fit model on all training data\n",
    "#model = RandomForestClassifier(n_estimators=100, n_jobs=-1, random_state=42)\n",
    "model = XGBClassifier(nthread=-1,random_state=42)\n",
    "model.fit(X_std, y)\n",
    "# make predictions for test data and evaluate\n",
    "y_pred = model.predict(X_std)\n",
    "predictions = [round(value) for value in y_pred]\n",
    "mcc = matthews_corrcoef(y, predictions)\n",
    "print(\"MCC: %.2f%%\" % (mcc * 100.0))\n",
    "# Fit model using each importance as a threshold\n",
    "thresholds = np.unique(sort(model.feature_importances_))\n",
    "for thresh in thresholds:\n",
    "    # select features using threshold\n",
    "    selection = SelectFromModel(model, threshold=thresh, prefit=True)\n",
    "    select_X = selection.transform(X_std)\n",
    "    # train model\n",
    "    #selection_model = RandomForestClassifier(n_estimators=100, n_jobs=-1, random_state=42)\n",
    "    selection_model = XGBClassifier(nthread=-1,random_state=42)\n",
    "    selection_model.fit(select_X, y)\n",
    "    # eval model\n",
    "    select_X = selection.transform(X_std)\n",
    "    y_pred = selection_model.predict(select_X)\n",
    "    predictions = [round(value) for value in y_pred]\n",
    "    mcc = matthews_corrcoef(y, predictions)\n",
    "    print(\"Thresh=%.3f, n=%d, MCC: %.2f%%\" % (thresh, select_X.shape[1], mcc*100.0))"
   ]
  },
  {
   "cell_type": "code",
   "execution_count": 40,
   "metadata": {},
   "outputs": [],
   "source": [
    "rfc = RandomForestClassifier(n_estimators=100, n_jobs=-1, random_state=42)\n",
    "rfc.fit(X_std, y)\n",
    "sfm = SelectFromModel(rfc, threshold = 0.01, prefit=True)\n",
    "X_important = pd.DataFrame(sfm.transform(X), columns = X.columns[sfm.get_support()])"
   ]
  },
  {
   "cell_type": "code",
   "execution_count": 41,
   "metadata": {},
   "outputs": [
    {
     "data": {
      "text/plain": [
       "<matplotlib.axes._subplots.AxesSubplot at 0x7f8d15d04cc0>"
      ]
     },
     "execution_count": 41,
     "metadata": {},
     "output_type": "execute_result"
    },
    {
     "data": {
      "image/png": "[encoded data removed]",
      "text/plain": [
       "<Figure size 432x288 with 1 Axes>"
      ]
     },
     "metadata": {},
     "output_type": "display_data"
    }
   ],
   "source": [
    "feat_importances = pd.Series(rfc.feature_importances_, index=X_std.columns)\n",
    "feat_importances.nlargest(10).plot(kind='barh')"
   ]
  },
  {
   "cell_type": "code",
   "execution_count": 42,
   "metadata": {},
   "outputs": [
    {
     "name": "stdout",
     "output_type": "stream",
     "text": [
      "Accuracy: 99.98%\n",
      "MCC: 97.42%\n",
      "\n",
      "Confusion Matrix\n"
     ]
    },
    {
     "data": {
      "text/plain": [
       "array([[374522,      4],\n",
       "       [    88,   1725]])"
      ]
     },
     "execution_count": 42,
     "metadata": {},
     "output_type": "execute_result"
    }
   ],
   "source": [
    "rfc_pred = rfc.predict(X_std)\n",
    "\n",
    "print(\"Accuracy: %.2f%%\" % (accuracy_score(y, rfc_pred) * 100.0))\n",
    "print(\"MCC: %.2f%%\" % (matthews_corrcoef(y, rfc_pred) * 100.0))\n",
    "print('')\n",
    "print('Confusion Matrix')\n",
    "confusion_matrix(y, rfc_pred)"
   ]
  },
  {
   "cell_type": "code",
   "execution_count": 43,
   "metadata": {},
   "outputs": [
    {
     "data": {
      "image/png": "[encoded data removed]",
      "text/plain": [
       "<Figure size 432x288 with 1 Axes>"
      ]
     },
     "metadata": {},
     "output_type": "display_data"
    }
   ],
   "source": [
    "xgb = XGBClassifier(nthread=-1,random_state=42)\n",
    "xgb.fit(X_std, y)\n",
    "sfm = SelectFromModel(xgb, threshold = 0.01, prefit=True)\n",
    "X_important = pd.DataFrame(sfm.transform(X), columns = X.columns[sfm.get_support()])\n",
    "# plot feature importance\n",
    "plot_importance(xgb,max_num_features=10)\n",
    "plt.show()"
   ]
  },
  {
   "cell_type": "code",
   "execution_count": 44,
   "metadata": {},
   "outputs": [
    {
     "name": "stdout",
     "output_type": "stream",
     "text": [
      "Accuracy: 99.64%\n",
      "MCC: 50.78%\n",
      "\n",
      "Confusion Matrix\n"
     ]
    },
    {
     "data": {
      "text/plain": [
       "array([[374377,    149],\n",
       "       [  1224,    589]])"
      ]
     },
     "execution_count": 44,
     "metadata": {},
     "output_type": "execute_result"
    }
   ],
   "source": [
    "xgb_pred = xgb.predict(X_std)\n",
    "\n",
    "print(\"Accuracy: %.2f%%\" % (accuracy_score(y, xgb_pred) * 100.0))\n",
    "print(\"MCC: %.2f%%\" % (matthews_corrcoef(y, xgb_pred) * 100.0))\n",
    "print('')\n",
    "print('Confusion Matrix')\n",
    "confusion_matrix(y, xgb_pred)"
   ]
  },
  {
   "cell_type": "code",
   "execution_count": 45,
   "metadata": {},
   "outputs": [
    {
     "data": {
      "text/plain": [
       "((376339, 8),\n",
       " pandas.core.frame.DataFrame,\n",
       " Index(['age', 'anciennete', 'anciennete_em', 'part_uc', 'encours',\n",
       "        'Capacite_epargne_actuelle', 'Sit_fin_perso_passee', 'nb'],\n",
       "       dtype='object'))"
      ]
     },
     "execution_count": 45,
     "metadata": {},
     "output_type": "execute_result"
    }
   ],
   "source": [
    "X_important.shape, type(X_important), X_important.columns"
   ]
  },
  {
   "cell_type": "code",
   "execution_count": 46,
   "metadata": {},
   "outputs": [
    {
     "name": "stdout",
     "output_type": "stream",
     "text": [
      "Method: XGBClassifier with no resampling and uncalibrated probabilities\n",
      "Goals: 362.60\n",
      "Predicted Goals: 365.11\n",
      "MCC: 50.32%\n",
      "Brier Loss: 0.35%\n",
      "F1_score: 45.54%\n",
      "Recall_score: 31.88%\n",
      "Accuracy: 99.63%\n",
      "\n",
      "Method: XGBClassifier with SMOTE resampling and uncalibrated probabilities\n",
      "Goals: 362.60\n",
      "Predicted Goals: 11070.14\n",
      "MCC: 17.69%\n",
      "Brier Loss: 4.69%\n",
      "F1_score: 10.43%\n",
      "Recall_score: 61.89%\n",
      "Accuracy: 94.86%\n",
      "\n",
      "Method: XGBClassifier with TomekLinks resampling and uncalibrated probabilities\n",
      "Goals: 362.60\n",
      "Predicted Goals: 366.65\n",
      "MCC: 50.54%\n",
      "Brier Loss: 0.35%\n",
      "F1_score: 45.90%\n",
      "Recall_score: 32.27%\n",
      "Accuracy: 99.63%\n",
      "\n",
      "Method: XGBClassifier with EditedNearestNeighbours resampling and uncalibrated probabilities\n",
      "Goals: 362.60\n",
      "Predicted Goals: 377.90\n",
      "MCC: 50.81%\n",
      "Brier Loss: 0.35%\n",
      "F1_score: 46.47%\n",
      "Recall_score: 32.98%\n",
      "Accuracy: 99.63%\n",
      "\n",
      "Method: XGBClassifier with SMOTETomek resampling and uncalibrated probabilities\n",
      "Goals: 362.60\n",
      "Predicted Goals: 11029.89\n",
      "MCC: 17.76%\n",
      "Brier Loss: 4.66%\n",
      "F1_score: 10.49%\n",
      "Recall_score: 61.94%\n",
      "Accuracy: 94.89%\n",
      "\n",
      "Method: XGBClassifier with SMOTEENN resampling and uncalibrated probabilities\n",
      "Goals: 362.60\n",
      "Predicted Goals: 11401.97\n",
      "MCC: 16.93%\n",
      "Brier Loss: 4.95%\n",
      "F1_score: 9.64%\n",
      "Recall_score: 62.44%\n",
      "Accuracy: 94.35%\n",
      "\n"
     ]
    },
    {
     "data": {
      "image/png": "[encoded data removed]",
      "text/plain": [
       "<Figure size 1296x576 with 2 Axes>"
      ]
     },
     "metadata": {},
     "output_type": "display_data"
    }
   ],
   "source": [
    "# Try different re-sampling methods with a RandomForestClassifier\n",
    "# For some reason sklearn and imblearn's default is to use only one processor core\n",
    "# Most people have multiple cores these days!\n",
    "# n_jobs=-1 will run the model on all cores in parallel, which can speed things up quite a bit\n",
    "\n",
    "smote = SMOTE(random_state=42, ratio='minority')\n",
    "tomek = TomekLinks(n_jobs=-1, ratio='majority', random_state=42)\n",
    "enn = EditedNearestNeighbours(n_jobs=-1, random_state=42)\n",
    "smote_tomek = SMOTETomek(random_state=42, ratio='auto')\n",
    "smote_enn = SMOTEENN(random_state=42, ratio='auto')\n",
    "rus = RandomUnderSampler(random_state=42)\n",
    "ros = RandomOverSampler(random_state=42)\n",
    "\n",
    "#rf = RandomForestClassifier(n_estimators=100, n_jobs=-1, random_state=42)\n",
    "xgb = XGBClassifier(nthread=-1,random_state=42)\n",
    " \n",
    "models = []\n",
    "# Format is name, model, resampling method, probability calibration\n",
    "models.append(('None', xgb, None, None))\n",
    "#models.append(('RUS', rf, rus, None))\n",
    "#models.append(('ROS', rf, ros, None))\n",
    "models.append(('SMOTE', xgb, smote, None))\n",
    "models.append(('Tomek', xgb, tomek, None))\n",
    "models.append(('ENN', xgb, enn, None))\n",
    "models.append(('SMOTETomek', xgb, smote_tomek, None))\n",
    "models.append(('SMOTEENN', xgb, smote_enn, None))\n",
    " \n",
    "results_df = pd.DataFrame()\n",
    "for name, model, resampling, calibrate in models:\n",
    "    result = model_resampling(model, X_important, y, resampling, calibrate)\n",
    "    result['name'] = name\n",
    "    results_df = results_df.append(result)\n",
    "    \n",
    "# Call boxplot_comparison here instead if you like\n",
    "barplot_comparison(results_df) "
   ]
  },
  {
   "cell_type": "code",
   "execution_count": 145,
   "metadata": {
    "scrolled": false
   },
   "outputs": [
    {
     "data": {
      "image/png": "[encoded data removed]",
      "text/plain": [
       "<Figure size 432x288 with 1 Axes>"
      ]
     },
     "metadata": {},
     "output_type": "display_data"
    }
   ],
   "source": [
    "# fit model on all training data\n",
    "xgb_enn = XGBClassifier(nthread=-1,random_state=42)\n",
    "enn = EditedNearestNeighbours(n_jobs=-1, random_state=42)\n",
    "X_enn, y_enn = enn.fit_resample(X_std, y)\n",
    "xgb_enn.fit(pd.DataFrame(X_enn,columns = X_std.columns), y_enn)\n",
    "plot_importance(xgb_enn,max_num_features=10)\n",
    "plt.show()"
   ]
  },
  {
   "cell_type": "code",
   "execution_count": 146,
   "metadata": {},
   "outputs": [
    {
     "data": {
      "text/plain": [
       "((372895, 27), (376339, 27))"
      ]
     },
     "execution_count": 146,
     "metadata": {},
     "output_type": "execute_result"
    }
   ],
   "source": [
    "pd.DataFrame(X_enn,columns = X_std.columns).shape,X_std.shape"
   ]
  },
  {
   "cell_type": "code",
   "execution_count": 147,
   "metadata": {},
   "outputs": [
    {
     "name": "stdout",
     "output_type": "stream",
     "text": [
      "Accuracy: 99.63%\n",
      "MCC: 51.20%\n",
      "\n",
      "Confusion Matrix\n"
     ]
    },
    {
     "data": {
      "text/plain": [
       "array([[374319,    207],\n",
       "       [  1179,    634]])"
      ]
     },
     "execution_count": 147,
     "metadata": {},
     "output_type": "execute_result"
    }
   ],
   "source": [
    "xgb_enn_pred = xgb_enn.predict(X_std)\n",
    "\n",
    "print(\"Accuracy: %.2f%%\" % (accuracy_score(y, xgb_enn_pred) * 100.0))\n",
    "print(\"MCC: %.2f%%\" % (matthews_corrcoef(y, xgb_enn_pred) * 100.0))\n",
    "print('')\n",
    "print('Confusion Matrix')\n",
    "confusion_matrix(y, xgb_enn_pred)"
   ]
  },
  {
   "cell_type": "code",
   "execution_count": null,
   "metadata": {},
   "outputs": [],
   "source": [
    "# fit model on all training data\n",
    "xgb_tomek = XGBClassifier(nthread=-1,random_state=42)\n",
    "tomek = TomekLinks(n_jobs=-1, ratio='majority', random_state=42)\n",
    "X_tomek, y_tomek = tomek.fit_resample(X_std, y)\n",
    "xgb_tomek.fit(pd.DataFrame(X_tomek,columns = X_std.columns), y_tomek)\n",
    "plot_importance(xgb_tomek,max_num_features=10)\n",
    "plt.show()"
   ]
  },
  {
   "cell_type": "code",
   "execution_count": null,
   "metadata": {},
   "outputs": [],
   "source": []
  },
  {
   "cell_type": "code",
   "execution_count": 274,
   "metadata": {},
   "outputs": [
    {
     "data": {
      "text/plain": [
       "<matplotlib.axes._subplots.AxesSubplot at 0x7f8d2f225f60>"
      ]
     },
     "execution_count": 274,
     "metadata": {},
     "output_type": "execute_result"
    },
    {
     "data": {
      "image/png": "[encoded data removed]",
      "text/plain": [
       "<Figure size 432x288 with 1 Axes>"
      ]
     },
     "metadata": {},
     "output_type": "display_data"
    }
   ],
   "source": [
    "feat_importances = pd.Series(model.feature_importances_, index=X_std.columns)\n",
    "feat_importances.nlargest(10).plot(kind='barh')"
   ]
  },
  {
   "cell_type": "code",
   "execution_count": 266,
   "metadata": {},
   "outputs": [
    {
     "name": "stdout",
     "output_type": "stream",
     "text": [
      "('sexe', 0.03599162495106606)\n",
      "('tmg_round', 0.0004765072148666563)\n",
      "('nb_support', 0.0)\n",
      "('age', 0.3225046571181147)\n",
      "('anciennete', 0.2223971437803953)\n",
      "('anciennete_em', 0.12520401124213462)\n",
      "('part_uc', 0.1500089163612176)\n",
      "('encours', 0.06284470595257911)\n",
      "('capres_rmc', 0.013873418202691523)\n",
      "('rentier', 0.02427650758258276)\n",
      "('cac_m1', 0.0010441839136191673)\n",
      "('cac_m2', 0.001181337666393035)\n",
      "('cac_m3', 0.0009938758264552432)\n",
      "('cac_m12', 0.0012954930947141105)\n",
      "('Opinion_des_menages', 0.0014689551826166077)\n",
      "('Niveau_de_vie_passee', 0.001667647068898023)\n",
      "('Niveau_de_vie_evolution', 0.001422464494511546)\n",
      "('Chomage_evolution', 0.0014663198092449334)\n",
      "('Prix_evol_passee', 0.0013623440023211835)\n",
      "('Prix_evol_futur', 0.0010255055879558666)\n",
      "('Opportunite_achats_importants', 0.001057903442326442)\n",
      "('Opportunite_epargner', 0.0010681820987418571)\n",
      "('Capacite_epargne_actuelle', 0.0010463168749356377)\n",
      "('Sit_fin_perso_passee', 0.001938481806104799)\n",
      "('Sit_fin_perso_evolution', 0.0015804173795109014)\n",
      "('Capacite_epargne_future', 0.0010839145005027539)\n",
      "('nb', 0.021719164845499607)\n"
     ]
    }
   ],
   "source": [
    "feat_labels =  X.dtypes.pipe(lambda x: x).index\n",
    "\n",
    "rf = RandomForestClassifier(n_estimators=100, n_jobs=-1, random_state=42)\n",
    "rf.fit(X_std, y)\n",
    "for feature in zip(feat_labels, rf.feature_importances_):\n",
    "    print(feature)"
   ]
  },
  {
   "cell_type": "code",
   "execution_count": 267,
   "metadata": {},
   "outputs": [
    {
     "data": {
      "text/html": [
       "<div>\n",
       "<style scoped>\n",
       "    .dataframe tbody tr th:only-of-type {\n",
       "        vertical-align: middle;\n",
       "    }\n",
       "\n",
       "    .dataframe tbody tr th {\n",
       "        vertical-align: top;\n",
       "    }\n",
       "\n",
       "    .dataframe thead th {\n",
       "        text-align: right;\n",
       "    }\n",
       "</style>\n",
       "<table border=\"1\" class=\"dataframe\">\n",
       "  <thead>\n",
       "    <tr style=\"text-align: right;\">\n",
       "      <th></th>\n",
       "      <th>importance</th>\n",
       "    </tr>\n",
       "  </thead>\n",
       "  <tbody>\n",
       "    <tr>\n",
       "      <th>age</th>\n",
       "      <td>0.322505</td>\n",
       "    </tr>\n",
       "    <tr>\n",
       "      <th>anciennete</th>\n",
       "      <td>0.222397</td>\n",
       "    </tr>\n",
       "    <tr>\n",
       "      <th>part_uc</th>\n",
       "      <td>0.150009</td>\n",
       "    </tr>\n",
       "    <tr>\n",
       "      <th>anciennete_em</th>\n",
       "      <td>0.125204</td>\n",
       "    </tr>\n",
       "    <tr>\n",
       "      <th>encours</th>\n",
       "      <td>0.062845</td>\n",
       "    </tr>\n",
       "    <tr>\n",
       "      <th>sexe</th>\n",
       "      <td>0.035992</td>\n",
       "    </tr>\n",
       "    <tr>\n",
       "      <th>rentier</th>\n",
       "      <td>0.024277</td>\n",
       "    </tr>\n",
       "    <tr>\n",
       "      <th>nb</th>\n",
       "      <td>0.021719</td>\n",
       "    </tr>\n",
       "    <tr>\n",
       "      <th>capres_rmc</th>\n",
       "      <td>0.013873</td>\n",
       "    </tr>\n",
       "    <tr>\n",
       "      <th>Sit_fin_perso_passee</th>\n",
       "      <td>0.001938</td>\n",
       "    </tr>\n",
       "    <tr>\n",
       "      <th>Niveau_de_vie_passee</th>\n",
       "      <td>0.001668</td>\n",
       "    </tr>\n",
       "    <tr>\n",
       "      <th>Sit_fin_perso_evolution</th>\n",
       "      <td>0.001580</td>\n",
       "    </tr>\n",
       "    <tr>\n",
       "      <th>Opinion_des_menages</th>\n",
       "      <td>0.001469</td>\n",
       "    </tr>\n",
       "    <tr>\n",
       "      <th>Chomage_evolution</th>\n",
       "      <td>0.001466</td>\n",
       "    </tr>\n",
       "    <tr>\n",
       "      <th>Niveau_de_vie_evolution</th>\n",
       "      <td>0.001422</td>\n",
       "    </tr>\n",
       "    <tr>\n",
       "      <th>Prix_evol_passee</th>\n",
       "      <td>0.001362</td>\n",
       "    </tr>\n",
       "    <tr>\n",
       "      <th>cac_m12</th>\n",
       "      <td>0.001295</td>\n",
       "    </tr>\n",
       "    <tr>\n",
       "      <th>cac_m2</th>\n",
       "      <td>0.001181</td>\n",
       "    </tr>\n",
       "    <tr>\n",
       "      <th>Capacite_epargne_future</th>\n",
       "      <td>0.001084</td>\n",
       "    </tr>\n",
       "    <tr>\n",
       "      <th>Opportunite_epargner</th>\n",
       "      <td>0.001068</td>\n",
       "    </tr>\n",
       "    <tr>\n",
       "      <th>Opportunite_achats_importants</th>\n",
       "      <td>0.001058</td>\n",
       "    </tr>\n",
       "    <tr>\n",
       "      <th>Capacite_epargne_actuelle</th>\n",
       "      <td>0.001046</td>\n",
       "    </tr>\n",
       "    <tr>\n",
       "      <th>cac_m1</th>\n",
       "      <td>0.001044</td>\n",
       "    </tr>\n",
       "    <tr>\n",
       "      <th>Prix_evol_futur</th>\n",
       "      <td>0.001026</td>\n",
       "    </tr>\n",
       "    <tr>\n",
       "      <th>cac_m3</th>\n",
       "      <td>0.000994</td>\n",
       "    </tr>\n",
       "    <tr>\n",
       "      <th>tmg_round</th>\n",
       "      <td>0.000477</td>\n",
       "    </tr>\n",
       "    <tr>\n",
       "      <th>nb_support</th>\n",
       "      <td>0.000000</td>\n",
       "    </tr>\n",
       "  </tbody>\n",
       "</table>\n",
       "</div>"
      ],
      "text/plain": [
       "                               importance\n",
       "age                              0.322505\n",
       "anciennete                       0.222397\n",
       "part_uc                          0.150009\n",
       "anciennete_em                    0.125204\n",
       "encours                          0.062845\n",
       "sexe                             0.035992\n",
       "rentier                          0.024277\n",
       "nb                               0.021719\n",
       "capres_rmc                       0.013873\n",
       "Sit_fin_perso_passee             0.001938\n",
       "Niveau_de_vie_passee             0.001668\n",
       "Sit_fin_perso_evolution          0.001580\n",
       "Opinion_des_menages              0.001469\n",
       "Chomage_evolution                0.001466\n",
       "Niveau_de_vie_evolution          0.001422\n",
       "Prix_evol_passee                 0.001362\n",
       "cac_m12                          0.001295\n",
       "cac_m2                           0.001181\n",
       "Capacite_epargne_future          0.001084\n",
       "Opportunite_epargner             0.001068\n",
       "Opportunite_achats_importants    0.001058\n",
       "Capacite_epargne_actuelle        0.001046\n",
       "cac_m1                           0.001044\n",
       "Prix_evol_futur                  0.001026\n",
       "cac_m3                           0.000994\n",
       "tmg_round                        0.000477\n",
       "nb_support                       0.000000"
      ]
     },
     "execution_count": 267,
     "metadata": {},
     "output_type": "execute_result"
    }
   ],
   "source": [
    "feature_importances = pd.DataFrame(rf.feature_importances_, index = X.columns,\n",
    "                                    columns=['importance']).sort_values('importance',ascending=False)\n",
    "feature_importances"
   ]
  },
  {
   "cell_type": "code",
   "execution_count": 268,
   "metadata": {},
   "outputs": [
    {
     "name": "stdout",
     "output_type": "stream",
     "text": [
      "[3.53707087e-02 2.82518297e-04 0.00000000e+00 3.14965851e-01\n",
      " 2.24487213e-01 1.29433284e-01 1.44096416e-01 6.54294973e-02\n",
      " 1.55422387e-02 2.53261848e-02 1.19997890e-03 1.43127917e-03\n",
      " 1.42503765e-03 1.11481793e-03 1.84416815e-03 1.65302776e-03\n",
      " 1.59410988e-03 1.64461446e-03 1.50232565e-03 1.36937690e-03\n",
      " 1.78018334e-03 1.22100398e-03 1.25430953e-03 1.72948154e-03\n",
      " 1.58028917e-03 1.65955807e-03 2.10625264e-02]\n"
     ]
    },
    {
     "data": {
      "image/png": "[encoded data removed]",
      "text/plain": [
       "<Figure size 432x288 with 1 Axes>"
      ]
     },
     "metadata": {},
     "output_type": "display_data"
    }
   ],
   "source": [
    "# feature importance\n",
    "print(model.feature_importances_)\n",
    "# plot\n",
    "plt.bar(range(len(model.feature_importances_)), model.feature_importances_)\n",
    "plt.show()"
   ]
  },
  {
   "cell_type": "code",
   "execution_count": 269,
   "metadata": {},
   "outputs": [
    {
     "data": {
      "text/plain": [
       "<matplotlib.axes._subplots.AxesSubplot at 0x7f8d2f225278>"
      ]
     },
     "execution_count": 269,
     "metadata": {},
     "output_type": "execute_result"
    },
    {
     "data": {
      "image/png": "[encoded data removed]",
      "text/plain": [
       "<Figure size 432x288 with 1 Axes>"
      ]
     },
     "metadata": {},
     "output_type": "display_data"
    }
   ],
   "source": [
    "feat_importances = pd.Series(model.feature_importances_, index=X_std.columns)\n",
    "feat_importances.nlargest(10).plot(kind='barh')"
   ]
  },
  {
   "cell_type": "code",
   "execution_count": 103,
   "metadata": {},
   "outputs": [],
   "source": [
    "# import packages\n",
    "# matplotlib inline\n",
    "from scipy import stats\n",
    "import tensorflow as tf\n",
    "import pickle\n",
    "from pylab import rcParams\n",
    "from keras.models import Model, load_model, Sequential\n",
    "from keras.layers import Input, Dense\n",
    "from keras.callbacks import ModelCheckpoint, TensorBoard\n",
    "from keras import regularizers"
   ]
  },
  {
   "cell_type": "code",
   "execution_count": 154,
   "metadata": {},
   "outputs": [],
   "source": [
    "rfc = RandomForestClassifier(n_estimators=100, n_jobs=-1, random_state=42)\n",
    "rfc.fit(X_std, y)\n",
    "sfm = SelectFromModel(rfc, threshold = 0.01, prefit=True)\n",
    "X_auto = pd.DataFrame(sfm.transform(X), columns = X.columns[sfm.get_support()])"
   ]
  },
  {
   "cell_type": "code",
   "execution_count": 155,
   "metadata": {},
   "outputs": [
    {
     "data": {
      "text/plain": [
       "(Index(['sexe', 'age', 'anciennete', 'anciennete_em', 'part_uc', 'encours',\n",
       "        'capres_rmc', 'rentier', 'nb', 'arb'],\n",
       "       dtype='object'), (376339, 10), pandas.core.frame.DataFrame)"
      ]
     },
     "execution_count": 155,
     "metadata": {},
     "output_type": "execute_result"
    }
   ],
   "source": [
    "df_auto = X_auto.join(y)\n",
    "df_auto.columns, df_auto.shape, type(df_auto)"
   ]
  },
  {
   "cell_type": "code",
   "execution_count": 48,
   "metadata": {},
   "outputs": [],
   "source": [
    "xgb = XGBClassifier(n_estimators=100, nthread=-1,random_state=42)\n",
    "xgb.fit(X_std, y)\n",
    "sfm = SelectFromModel(xgb, threshold = 0.01, prefit=True)\n",
    "X_auto = pd.DataFrame(sfm.transform(X), columns = X.columns[sfm.get_support()])"
   ]
  },
  {
   "cell_type": "code",
   "execution_count": 49,
   "metadata": {},
   "outputs": [
    {
     "data": {
      "text/plain": [
       "array([0.        , 0.0015873 , 0.0031746 , 0.00793651, 0.00952381,\n",
       "       0.01587302, 0.05396825, 0.07777778, 0.10952381, 0.13333334,\n",
       "       0.13968255, 0.2       , 0.2031746 ], dtype=float32)"
      ]
     },
     "execution_count": 49,
     "metadata": {},
     "output_type": "execute_result"
    }
   ],
   "source": [
    "np.unique(xgb.feature_importances_)"
   ]
  },
  {
   "cell_type": "code",
   "execution_count": 50,
   "metadata": {},
   "outputs": [
    {
     "data": {
      "text/plain": [
       "(Index(['age', 'anciennete', 'anciennete_em', 'part_uc', 'encours',\n",
       "        'Capacite_epargne_actuelle', 'Sit_fin_perso_passee', 'nb', 'arb'],\n",
       "       dtype='object'), (376339, 9), pandas.core.frame.DataFrame)"
      ]
     },
     "execution_count": 50,
     "metadata": {},
     "output_type": "execute_result"
    }
   ],
   "source": [
    "df_auto = pd.merge(X_auto, y, left_index=True, right_index=True)\n",
    "df_auto.columns, df_auto.shape, type(df_auto)"
   ]
  },
  {
   "cell_type": "code",
   "execution_count": 51,
   "metadata": {},
   "outputs": [],
   "source": [
    "# split data into train and test sets\n",
    "seed = 42\n",
    "test_size = 0.33\n",
    "X_train, X_test = train_test_split(df, test_size=test_size, random_state=seed)\n",
    "\n",
    "X_train = X_train[X_train.arb == 0] #where normal transactions\n",
    "X_train = X_train.drop(['arb'], axis=1) #drop the class column\n",
    "\n",
    "y_test = X_test['arb'] #save the class column for the test set\n",
    "X_test = X_test.drop(['arb'], axis=1) #drop the class column\n",
    "\n",
    "mm_scaler = MinMaxScaler().fit(X_train)\n",
    "X_train_std = mm_scaler.transform(X_train)\n",
    "X_test_std = mm_scaler.transform(X_test)"
   ]
  },
  {
   "cell_type": "code",
   "execution_count": 52,
   "metadata": {},
   "outputs": [
    {
     "name": "stdout",
     "output_type": "stream",
     "text": [
      "WARNING:tensorflow:From /home/sylvain/miniconda3/lib/python3.7/site-packages/tensorflow/python/framework/op_def_library.py:263: colocate_with (from tensorflow.python.framework.ops) is deprecated and will be removed in a future version.\n",
      "Instructions for updating:\n",
      "Colocations handled automatically by placer.\n"
     ]
    }
   ],
   "source": [
    "# Autoencoder Layer Structure and Parameters\n",
    "nb_epoch = 50\n",
    "batch_size = 128\n",
    "input_dim = X_train_std.shape[1] #num of columns\n",
    "encoding_dim = 14\n",
    "hidden_dim = int(encoding_dim / 2) #i.e. 7\n",
    "learning_rate = 1e-7\n",
    "\n",
    "input_layer = Input(shape=(input_dim, ))\n",
    "encoder = Dense(encoding_dim, activation=\"tanh\", activity_regularizer=regularizers.l1(learning_rate))(input_layer)\n",
    "encoder = Dense(hidden_dim, activation=\"relu\")(encoder)\n",
    "decoder = Dense(hidden_dim, activation='tanh')(encoder)\n",
    "decoder = Dense(input_dim, activation='relu')(decoder)\n",
    "autoencoder = Model(inputs=input_layer, outputs=decoder)"
   ]
  },
  {
   "cell_type": "code",
   "execution_count": 59,
   "metadata": {},
   "outputs": [
    {
     "name": "stdout",
     "output_type": "stream",
     "text": [
      "WARNING:tensorflow:From /home/sylvain/miniconda3/lib/python3.7/site-packages/tensorflow/python/ops/math_ops.py:3066: to_int32 (from tensorflow.python.ops.math_ops) is deprecated and will be removed in a future version.\n",
      "Instructions for updating:\n",
      "Use tf.cast instead.\n",
      "Train on 250978 samples, validate on 124192 samples\n",
      "Epoch 1/50\n",
      "250978/250978 [==============================] - 8s 33us/step - loss: 2.9862 - acc: 0.2823 - matthews_correlation: 0.2909 - val_loss: 2.4294 - val_acc: 0.2959 - val_matthews_correlation: 0.3865\n",
      "Epoch 2/50\n",
      "250978/250978 [==============================] - 8s 30us/step - loss: 1.6724 - acc: 0.3055 - matthews_correlation: 0.4943 - val_loss: 1.4411 - val_acc: 0.3126 - val_matthews_correlation: 0.5525\n",
      "Epoch 3/50\n",
      "250978/250978 [==============================] - 7s 30us/step - loss: 0.9475 - acc: 0.3178 - matthews_correlation: 0.5850 - val_loss: 0.7170 - val_acc: 0.3230 - val_matthews_correlation: 0.6116\n",
      "Epoch 4/50\n",
      "250978/250978 [==============================] - 8s 30us/step - loss: 0.7190 - acc: 0.3229 - matthews_correlation: 0.6171 - val_loss: 0.7149 - val_acc: 0.3245 - val_matthews_correlation: 0.6290\n",
      "Epoch 5/50\n",
      "250978/250978 [==============================] - 8s 32us/step - loss: 0.7338 - acc: 0.3212 - matthews_correlation: 0.6303 - val_loss: 0.9195 - val_acc: 0.2793 - val_matthews_correlation: 0.5731\n",
      "Epoch 6/50\n",
      "250978/250978 [==============================] - 7s 30us/step - loss: 0.7250 - acc: 0.3163 - matthews_correlation: 0.6222 - val_loss: 0.7036 - val_acc: 0.3231 - val_matthews_correlation: 0.6344\n",
      "Epoch 7/50\n",
      "250978/250978 [==============================] - 8s 33us/step - loss: 0.6980 - acc: 0.3270 - matthews_correlation: 0.6608 - val_loss: 0.6913 - val_acc: 0.3300 - val_matthews_correlation: 0.6954\n",
      "Epoch 8/50\n",
      "250978/250978 [==============================] - 9s 35us/step - loss: 0.6889 - acc: 0.3314 - matthews_correlation: 0.7054 - val_loss: 0.6842 - val_acc: 0.3319 - val_matthews_correlation: 0.7154\n",
      "Epoch 9/50\n",
      "250978/250978 [==============================] - 7s 29us/step - loss: 0.6857 - acc: 0.3300 - matthews_correlation: 0.6993 - val_loss: 0.6804 - val_acc: 0.3301 - val_matthews_correlation: 0.6936\n",
      "Epoch 10/50\n",
      "250978/250978 [==============================] - 7s 29us/step - loss: 0.6310 - acc: 0.3301 - matthews_correlation: 0.6884 - val_loss: 0.4237 - val_acc: 0.3315 - val_matthews_correlation: 0.7029\n",
      "Epoch 11/50\n",
      "250978/250978 [==============================] - 14s 57us/step - loss: 0.4212 - acc: 0.3337 - matthews_correlation: 0.7202 - val_loss: 0.4172 - val_acc: 0.3349 - val_matthews_correlation: 0.7368\n",
      "Epoch 12/50\n",
      "250978/250978 [==============================] - 13s 50us/step - loss: 0.4199 - acc: 0.3341 - matthews_correlation: 0.7329 - val_loss: 0.4156 - val_acc: 0.3338 - val_matthews_correlation: 0.7351\n",
      "Epoch 13/50\n",
      "250978/250978 [==============================] - 16s 63us/step - loss: 0.4204 - acc: 0.3342 - matthews_correlation: 0.7331 - val_loss: 0.4167 - val_acc: 0.3370 - val_matthews_correlation: 0.7313\n",
      "Epoch 14/50\n",
      "250978/250978 [==============================] - 13s 52us/step - loss: 0.4180 - acc: 0.3374 - matthews_correlation: 0.7451 - val_loss: 0.4117 - val_acc: 0.3391 - val_matthews_correlation: 0.7577\n",
      "Epoch 15/50\n",
      "250978/250978 [==============================] - 15s 59us/step - loss: 0.4171 - acc: 0.3384 - matthews_correlation: 0.7491 - val_loss: 0.4101 - val_acc: 0.3402 - val_matthews_correlation: 0.7467\n",
      "Epoch 16/50\n",
      "250978/250978 [==============================] - 15s 60us/step - loss: 0.4143 - acc: 0.3397 - matthews_correlation: 0.7397 - val_loss: 0.3999 - val_acc: 0.3429 - val_matthews_correlation: 0.7544\n",
      "Epoch 17/50\n",
      "250978/250978 [==============================] - 14s 56us/step - loss: 0.4006 - acc: 0.3428 - matthews_correlation: 0.7562 - val_loss: 0.3962 - val_acc: 0.3433 - val_matthews_correlation: 0.7620\n",
      "Epoch 18/50\n",
      "250978/250978 [==============================] - 14s 57us/step - loss: 0.3955 - acc: 0.3423 - matthews_correlation: 0.7717 - val_loss: 0.3914 - val_acc: 0.3417 - val_matthews_correlation: 0.7868\n",
      "Epoch 19/50\n",
      "250978/250978 [==============================] - 14s 56us/step - loss: 0.3970 - acc: 0.3414 - matthews_correlation: 0.7710 - val_loss: 0.3905 - val_acc: 0.3419 - val_matthews_correlation: 0.7713\n",
      "Epoch 20/50\n",
      "250978/250978 [==============================] - 15s 60us/step - loss: 0.3952 - acc: 0.3408 - matthews_correlation: 0.7731 - val_loss: 0.3907 - val_acc: 0.3409 - val_matthews_correlation: 0.7831\n",
      "Epoch 21/50\n",
      "250978/250978 [==============================] - 16s 63us/step - loss: 0.3886 - acc: 0.3412 - matthews_correlation: 0.7786 - val_loss: 0.3878 - val_acc: 0.3410 - val_matthews_correlation: 0.7735\n",
      "Epoch 22/50\n",
      "250978/250978 [==============================] - 15s 59us/step - loss: 0.3916 - acc: 0.3414 - matthews_correlation: 0.7719 - val_loss: 0.4066 - val_acc: 0.3396 - val_matthews_correlation: 0.7577\n",
      "Epoch 23/50\n",
      "250978/250978 [==============================] - 14s 56us/step - loss: 0.3913 - acc: 0.3392 - matthews_correlation: 0.7741 - val_loss: 0.3863 - val_acc: 0.3404 - val_matthews_correlation: 0.7835\n",
      "Epoch 24/50\n",
      "250978/250978 [==============================] - 16s 62us/step - loss: 0.3865 - acc: 0.3402 - matthews_correlation: 0.7788 - val_loss: 0.3849 - val_acc: 0.3403 - val_matthews_correlation: 0.7829\n",
      "Epoch 25/50\n",
      "250978/250978 [==============================] - 14s 57us/step - loss: 0.3858 - acc: 0.3401 - matthews_correlation: 0.7805 - val_loss: 0.3846 - val_acc: 0.3398 - val_matthews_correlation: 0.7792\n",
      "Epoch 26/50\n",
      "250978/250978 [==============================] - 14s 55us/step - loss: 0.4065 - acc: 0.3383 - matthews_correlation: 0.7543 - val_loss: 0.5471 - val_acc: 0.3292 - val_matthews_correlation: 0.7026\n",
      "Epoch 27/50\n",
      "250978/250978 [==============================] - 16s 65us/step - loss: 0.4693 - acc: 0.3315 - matthews_correlation: 0.7330 - val_loss: 0.3942 - val_acc: 0.3396 - val_matthews_correlation: 0.7568\n",
      "Epoch 28/50\n",
      "250978/250978 [==============================] - 17s 66us/step - loss: 0.3927 - acc: 0.3387 - matthews_correlation: 0.7590 - val_loss: 0.3878 - val_acc: 0.3401 - val_matthews_correlation: 0.7569\n",
      "Epoch 29/50\n",
      "250978/250978 [==============================] - 16s 63us/step - loss: 0.3857 - acc: 0.3403 - matthews_correlation: 0.7624 - val_loss: 0.3849 - val_acc: 0.3404 - val_matthews_correlation: 0.7691\n",
      "Epoch 30/50\n",
      "250978/250978 [==============================] - 15s 58us/step - loss: 0.4192 - acc: 0.3317 - matthews_correlation: 0.7596 - val_loss: 0.3921 - val_acc: 0.3360 - val_matthews_correlation: 0.7581\n",
      "Epoch 31/50\n",
      "250978/250978 [==============================] - 15s 61us/step - loss: 0.3879 - acc: 0.3386 - matthews_correlation: 0.7890 - val_loss: 0.3855 - val_acc: 0.3390 - val_matthews_correlation: 0.8001\n",
      "Epoch 32/50\n",
      "250978/250978 [==============================] - 14s 58us/step - loss: 0.3852 - acc: 0.3381 - matthews_correlation: 0.7985 - val_loss: 0.3882 - val_acc: 0.3375 - val_matthews_correlation: 0.7859\n",
      "Epoch 33/50\n",
      "250978/250978 [==============================] - 16s 65us/step - loss: 0.3837 - acc: 0.3372 - matthews_correlation: 0.7943 - val_loss: 0.3823 - val_acc: 0.3374 - val_matthews_correlation: 0.7973\n",
      "Epoch 34/50\n",
      "250978/250978 [==============================] - 14s 55us/step - loss: 0.3830 - acc: 0.3372 - matthews_correlation: 0.8000 - val_loss: 0.3814 - val_acc: 0.3374 - val_matthews_correlation: 0.8048\n",
      "Epoch 35/50\n",
      "250978/250978 [==============================] - 14s 57us/step - loss: 0.4333 - acc: 0.3357 - matthews_correlation: 0.7659 - val_loss: 0.4009 - val_acc: 0.3365 - val_matthews_correlation: 0.7389\n",
      "Epoch 36/50\n",
      "250978/250978 [==============================] - 14s 55us/step - loss: 0.3871 - acc: 0.3375 - matthews_correlation: 0.7665 - val_loss: 0.3826 - val_acc: 0.3374 - val_matthews_correlation: 0.7896\n",
      "Epoch 37/50\n",
      "250978/250978 [==============================] - 15s 61us/step - loss: 0.3818 - acc: 0.3374 - matthews_correlation: 0.7926 - val_loss: 0.3811 - val_acc: 0.3374 - val_matthews_correlation: 0.7947\n",
      "Epoch 38/50\n",
      "250978/250978 [==============================] - 14s 57us/step - loss: 0.3822 - acc: 0.3370 - matthews_correlation: 0.7877 - val_loss: 0.3808 - val_acc: 0.3375 - val_matthews_correlation: 0.7867\n",
      "Epoch 39/50\n"
     ]
    },
    {
     "name": "stdout",
     "output_type": "stream",
     "text": [
      "250978/250978 [==============================] - 13s 52us/step - loss: 0.4133 - acc: 0.3354 - matthews_correlation: 0.7638 - val_loss: 0.3823 - val_acc: 0.3367 - val_matthews_correlation: 0.7877\n",
      "Epoch 40/50\n",
      "250978/250978 [==============================] - 13s 53us/step - loss: 0.3817 - acc: 0.3370 - matthews_correlation: 0.7823 - val_loss: 0.3810 - val_acc: 0.3370 - val_matthews_correlation: 0.7810\n",
      "Epoch 41/50\n",
      "250978/250978 [==============================] - 15s 59us/step - loss: 0.3816 - acc: 0.3367 - matthews_correlation: 0.7763 - val_loss: 0.3855 - val_acc: 0.3365 - val_matthews_correlation: 0.7715\n",
      "Epoch 42/50\n",
      "250978/250978 [==============================] - 14s 57us/step - loss: 0.3813 - acc: 0.3368 - matthews_correlation: 0.7773 - val_loss: 0.3805 - val_acc: 0.3373 - val_matthews_correlation: 0.7788\n",
      "Epoch 43/50\n",
      "250978/250978 [==============================] - 8s 33us/step - loss: 0.3889 - acc: 0.3364 - matthews_correlation: 0.7641 - val_loss: 0.3816 - val_acc: 0.3370 - val_matthews_correlation: 0.7735\n",
      "Epoch 44/50\n",
      "250978/250978 [==============================] - 8s 32us/step - loss: 0.3818 - acc: 0.3365 - matthews_correlation: 0.7736 - val_loss: 0.3821 - val_acc: 0.3375 - val_matthews_correlation: 0.7771\n",
      "Epoch 45/50\n",
      "250978/250978 [==============================] - 8s 33us/step - loss: 0.3803 - acc: 0.3374 - matthews_correlation: 0.7730 - val_loss: 0.3798 - val_acc: 0.3375 - val_matthews_correlation: 0.7753\n",
      "Epoch 46/50\n",
      "250978/250978 [==============================] - 8s 32us/step - loss: 0.3799 - acc: 0.3373 - matthews_correlation: 0.7695 - val_loss: 0.3797 - val_acc: 0.3371 - val_matthews_correlation: 0.7666\n",
      "Epoch 47/50\n",
      "250978/250978 [==============================] - 8s 32us/step - loss: 0.3881 - acc: 0.3374 - matthews_correlation: 0.7579 - val_loss: 0.3799 - val_acc: 0.3375 - val_matthews_correlation: 0.7686\n",
      "Epoch 48/50\n",
      "250978/250978 [==============================] - 8s 32us/step - loss: 0.3852 - acc: 0.3367 - matthews_correlation: 0.7630 - val_loss: 0.3826 - val_acc: 0.3370 - val_matthews_correlation: 0.7642\n",
      "Epoch 49/50\n",
      "250978/250978 [==============================] - 8s 33us/step - loss: 0.3867 - acc: 0.3366 - matthews_correlation: 0.7565 - val_loss: 0.3811 - val_acc: 0.3368 - val_matthews_correlation: 0.7550\n",
      "Epoch 50/50\n",
      "250978/250978 [==============================] - 8s 33us/step - loss: 0.3849 - acc: 0.3363 - matthews_correlation: 0.7563 - val_loss: 0.3837 - val_acc: 0.3368 - val_matthews_correlation: 0.7571\n"
     ]
    }
   ],
   "source": [
    "# Model Training and Logging\n",
    "from keras import backend as K\n",
    "\n",
    "def matthews_correlation(y_true, y_pred):\n",
    "    y_pred_pos = K.round(K.clip(y_pred, 0, 1))\n",
    "    y_pred_neg = 1 - y_pred_pos\n",
    "\n",
    "    y_pos = K.round(K.clip(y_true, 0, 1))\n",
    "    y_neg = 1 - y_pos\n",
    "\n",
    "    tp = K.sum(y_pos * y_pred_pos)\n",
    "    tn = K.sum(y_neg * y_pred_neg)\n",
    "\n",
    "    fp = K.sum(y_neg * y_pred_pos)\n",
    "    fn = K.sum(y_pos * y_pred_neg)\n",
    "\n",
    "    numerator = (tp * tn - fp * fn)\n",
    "    denominator = K.sqrt((tp + fp) * (tp + fn) * (tn + fp) * (tn + fn))\n",
    "\n",
    "    return numerator / (denominator + K.epsilon())\n",
    "\n",
    "autoencoder.compile(metrics=['accuracy', matthews_correlation],\n",
    "                    loss='binary_crossentropy',\n",
    "                    optimizer='adam')\n",
    "\n",
    "cp = ModelCheckpoint(filepath=\"autoencoder_fraud_agg.h5\",\n",
    "                               save_best_only=True,\n",
    "                               verbose=0)\n",
    "\n",
    "tb = TensorBoard(log_dir='./logs',\n",
    "                histogram_freq=0,\n",
    "                write_graph=True,\n",
    "                write_images=True)\n",
    "\n",
    "history = autoencoder.fit(X_train_std, X_train_std,\n",
    "                    epochs=nb_epoch,\n",
    "                    batch_size=batch_size,\n",
    "                    shuffle=True,\n",
    "                    validation_data=(X_test_std, X_test_std),\n",
    "                    verbose=1,\n",
    "                    callbacks=[cp, tb]).history"
   ]
  },
  {
   "cell_type": "code",
   "execution_count": 90,
   "metadata": {},
   "outputs": [
    {
     "name": "stdout",
     "output_type": "stream",
     "text": [
      "_________________________________________________________________\n",
      "Layer (type)                 Output Shape              Param #   \n",
      "=================================================================\n",
      "input_1 (InputLayer)         (None, 27)                0         \n",
      "_________________________________________________________________\n",
      "dense_1 (Dense)              (None, 14)                392       \n",
      "_________________________________________________________________\n",
      "dense_2 (Dense)              (None, 7)                 105       \n",
      "_________________________________________________________________\n",
      "dense_3 (Dense)              (None, 7)                 56        \n",
      "_________________________________________________________________\n",
      "dense_4 (Dense)              (None, 27)                216       \n",
      "=================================================================\n",
      "Total params: 769\n",
      "Trainable params: 769\n",
      "Non-trainable params: 0\n",
      "_________________________________________________________________\n"
     ]
    }
   ],
   "source": [
    "autoencoder.summary()"
   ]
  },
  {
   "cell_type": "code",
   "execution_count": 61,
   "metadata": {},
   "outputs": [
    {
     "data": {
      "image/png": "[encoded data removed]",
      "text/plain": [
       "<Figure size 432x288 with 1 Axes>"
      ]
     },
     "metadata": {},
     "output_type": "display_data"
    }
   ],
   "source": [
    "# Model Loss\n",
    "plt.plot(history['loss'], linewidth=2, label='Train')\n",
    "plt.plot(history['val_loss'], linewidth=2, label='Test')\n",
    "plt.legend(loc='upper right')\n",
    "plt.title('Model loss')\n",
    "plt.ylabel('Loss')\n",
    "plt.xlabel('Epoch')\n",
    "#plt.ylim(ymin=0.70,ymax=1)\n",
    "plt.show()"
   ]
  },
  {
   "cell_type": "code",
   "execution_count": 76,
   "metadata": {},
   "outputs": [
    {
     "data": {
      "text/html": [
       "<div>\n",
       "<style scoped>\n",
       "    .dataframe tbody tr th:only-of-type {\n",
       "        vertical-align: middle;\n",
       "    }\n",
       "\n",
       "    .dataframe tbody tr th {\n",
       "        vertical-align: top;\n",
       "    }\n",
       "\n",
       "    .dataframe thead th {\n",
       "        text-align: right;\n",
       "    }\n",
       "</style>\n",
       "<table border=\"1\" class=\"dataframe\">\n",
       "  <thead>\n",
       "    <tr style=\"text-align: right;\">\n",
       "      <th></th>\n",
       "      <th>Reconstruction_error</th>\n",
       "      <th>True_class</th>\n",
       "    </tr>\n",
       "  </thead>\n",
       "  <tbody>\n",
       "    <tr>\n",
       "      <th>count</th>\n",
       "      <td>124192.000000</td>\n",
       "      <td>124192.000000</td>\n",
       "    </tr>\n",
       "    <tr>\n",
       "      <th>mean</th>\n",
       "      <td>0.031986</td>\n",
       "      <td>0.005186</td>\n",
       "    </tr>\n",
       "    <tr>\n",
       "      <th>std</th>\n",
       "      <td>0.028890</td>\n",
       "      <td>0.071824</td>\n",
       "    </tr>\n",
       "    <tr>\n",
       "      <th>min</th>\n",
       "      <td>0.003146</td>\n",
       "      <td>0.000000</td>\n",
       "    </tr>\n",
       "    <tr>\n",
       "      <th>25%</th>\n",
       "      <td>0.012457</td>\n",
       "      <td>0.000000</td>\n",
       "    </tr>\n",
       "    <tr>\n",
       "      <th>50%</th>\n",
       "      <td>0.018723</td>\n",
       "      <td>0.000000</td>\n",
       "    </tr>\n",
       "    <tr>\n",
       "      <th>75%</th>\n",
       "      <td>0.048185</td>\n",
       "      <td>0.000000</td>\n",
       "    </tr>\n",
       "    <tr>\n",
       "      <th>max</th>\n",
       "      <td>0.210081</td>\n",
       "      <td>1.000000</td>\n",
       "    </tr>\n",
       "  </tbody>\n",
       "</table>\n",
       "</div>"
      ],
      "text/plain": [
       "       Reconstruction_error     True_class\n",
       "count         124192.000000  124192.000000\n",
       "mean               0.031986       0.005186\n",
       "std                0.028890       0.071824\n",
       "min                0.003146       0.000000\n",
       "25%                0.012457       0.000000\n",
       "50%                0.018723       0.000000\n",
       "75%                0.048185       0.000000\n",
       "max                0.210081       1.000000"
      ]
     },
     "execution_count": 76,
     "metadata": {},
     "output_type": "execute_result"
    }
   ],
   "source": [
    "# Reconstruction Error Check\n",
    "X_test_predictions = autoencoder.predict(X_test_std)\n",
    "mse = np.mean(np.power(X_test_std - X_test_predictions, 2), axis=1)\n",
    "error_df = pd.DataFrame({'Reconstruction_error': mse,\n",
    "                        'True_class': y_test})\n",
    "error_df.describe()"
   ]
  },
  {
   "cell_type": "code",
   "execution_count": 77,
   "metadata": {},
   "outputs": [
    {
     "data": {
      "image/png": "[encoded data removed]",
      "text/plain": [
       "<Figure size 432x288 with 1 Axes>"
      ]
     },
     "metadata": {},
     "output_type": "display_data"
    }
   ],
   "source": [
    "# ROC Curve Check\n",
    "false_pos_rate, true_pos_rate, thresholds = roc_curve(error_df.True_class, error_df.Reconstruction_error)\n",
    "roc_auc = auc(false_pos_rate, true_pos_rate,)\n",
    "\n",
    "plt.plot(false_pos_rate, true_pos_rate, linewidth=5, label='AUC = %0.3f'% roc_auc)\n",
    "plt.plot([0,1],[0,1], linewidth=5)\n",
    "\n",
    "plt.xlim([-0.01, 1])\n",
    "plt.ylim([0, 1.01])\n",
    "plt.legend(loc='lower right')\n",
    "plt.title('Receiver operating characteristic curve (ROC)')\n",
    "plt.ylabel('True Positive Rate')\n",
    "plt.xlabel('False Positive Rate')\n",
    "plt.show()"
   ]
  },
  {
   "cell_type": "code",
   "execution_count": 66,
   "metadata": {},
   "outputs": [
    {
     "data": {
      "image/png": "[encoded data removed]",
      "text/plain": [
       "<Figure size 432x288 with 1 Axes>"
      ]
     },
     "metadata": {},
     "output_type": "display_data"
    }
   ],
   "source": [
    "# Recall vs. Precision Thresholding\n",
    "precision_rt, recall_rt, threshold_rt = precision_recall_curve(error_df.True_class, error_df.Reconstruction_error)\n",
    "plt.plot(recall_rt, precision_rt, linewidth=5, label='Precision-Recall curve')\n",
    "plt.title('Recall vs Precision')\n",
    "plt.xlabel('Recall')\n",
    "plt.ylabel('Precision')\n",
    "plt.show()"
   ]
  },
  {
   "cell_type": "code",
   "execution_count": 67,
   "metadata": {},
   "outputs": [
    {
     "name": "stderr",
     "output_type": "stream",
     "text": [
      "/home/sylvain/miniconda3/lib/python3.7/site-packages/IPython/core/pylabtools.py:128: UserWarning: Creating legend with loc=\"best\" can be slow with large amounts of data.\n",
      "  fig.canvas.print_figure(bytes_io, **kw)\n",
      "/home/sylvain/miniconda3/lib/python3.7/site-packages/IPython/core/pylabtools.py:128: UserWarning: Creating legend with loc=\"best\" can be slow with large amounts of data.\n",
      "  fig.canvas.print_figure(bytes_io, **kw)\n",
      "/home/sylvain/miniconda3/lib/python3.7/site-packages/IPython/core/pylabtools.py:128: UserWarning: Creating legend with loc=\"best\" can be slow with large amounts of data.\n",
      "  fig.canvas.print_figure(bytes_io, **kw)\n",
      "/home/sylvain/miniconda3/lib/python3.7/site-packages/IPython/core/pylabtools.py:128: UserWarning: Creating legend with loc=\"best\" can be slow with large amounts of data.\n",
      "  fig.canvas.print_figure(bytes_io, **kw)\n",
      "/home/sylvain/miniconda3/lib/python3.7/site-packages/IPython/core/pylabtools.py:128: UserWarning: Creating legend with loc=\"best\" can be slow with large amounts of data.\n",
      "  fig.canvas.print_figure(bytes_io, **kw)\n",
      "/home/sylvain/miniconda3/lib/python3.7/site-packages/IPython/core/pylabtools.py:128: UserWarning: Creating legend with loc=\"best\" can be slow with large amounts of data.\n",
      "  fig.canvas.print_figure(bytes_io, **kw)\n",
      "/home/sylvain/miniconda3/lib/python3.7/site-packages/IPython/core/pylabtools.py:128: UserWarning: Creating legend with loc=\"best\" can be slow with large amounts of data.\n",
      "  fig.canvas.print_figure(bytes_io, **kw)\n"
     ]
    },
    {
     "data": {
      "image/png": "[encoded data removed]",
      "text/plain": [
       "<Figure size 432x288 with 1 Axes>"
      ]
     },
     "metadata": {},
     "output_type": "display_data"
    }
   ],
   "source": [
    "plt.plot(threshold_rt, precision_rt[1:], label=\"Precision\",linewidth=5)\n",
    "plt.plot(threshold_rt, recall_rt[1:], label=\"Recall\",linewidth=5)\n",
    "plt.title('Precision and recall for different threshold values')\n",
    "plt.xlabel('Threshold')\n",
    "plt.ylabel('Precision/Recall')\n",
    "plt.legend()\n",
    "plt.show()"
   ]
  },
  {
   "cell_type": "code",
   "execution_count": 233,
   "metadata": {},
   "outputs": [
    {
     "data": {
      "image/png": "[encoded data removed]",
      "text/plain": [
       "<Figure size 432x288 with 1 Axes>"
      ]
     },
     "metadata": {},
     "output_type": "display_data"
    }
   ],
   "source": [
    "plt.plot(threshold_rt, precision_rt[1:], 'b', label='Threshold-Precision curve')\n",
    "plt.title('Precision for different threshold values')\n",
    "plt.xlabel('Threshold')\n",
    "plt.ylabel('Precision')\n",
    "plt.show()"
   ]
  },
  {
   "cell_type": "code",
   "execution_count": 234,
   "metadata": {},
   "outputs": [
    {
     "data": {
      "image/png": "[encoded data removed]",
      "text/plain": [
       "<Figure size 432x288 with 1 Axes>"
      ]
     },
     "metadata": {},
     "output_type": "display_data"
    }
   ],
   "source": [
    "# Reconstruction Error vs Threshold Check\n",
    "threshold_fixed = 0.02\n",
    "groups = error_df.groupby('True_class')\n",
    "fig, ax = plt.subplots()\n",
    "\n",
    "for name, group in groups:\n",
    "    ax.plot(group.index, group.Reconstruction_error, marker='o', ms=3.5, linestyle='',\n",
    "            label= \"Arbitrage\" if name == 1 else \"Normal\")\n",
    "ax.hlines(threshold_fixed, ax.get_xlim()[0], ax.get_xlim()[1], colors=\"r\", zorder=100, label='Threshold')\n",
    "ax.legend()\n",
    "plt.title(\"Reconstruction error for different classes\")\n",
    "plt.ylabel(\"Reconstruction error\")\n",
    "plt.xlabel(\"Data point index\")\n",
    "plt.show();"
   ]
  },
  {
   "cell_type": "code",
   "execution_count": 235,
   "metadata": {},
   "outputs": [
    {
     "data": {
      "image/png": "[encoded data removed]",
      "text/plain": [
       "<Figure size 864x864 with 2 Axes>"
      ]
     },
     "metadata": {},
     "output_type": "display_data"
    }
   ],
   "source": [
    "# Confusion Matrix\n",
    "LABELS = [\"Normal\",\"Arbitrage\"]\n",
    "\n",
    "pred_y = [1 if e > threshold_fixed else 0 for e in error_df.Reconstruction_error.values]\n",
    "conf_matrix = confusion_matrix(error_df.True_class, pred_y)\n",
    "\n",
    "plt.figure(figsize=(12, 12))\n",
    "sns.heatmap(conf_matrix, xticklabels=LABELS, yticklabels=LABELS, annot=True, fmt=\"d\");\n",
    "plt.title(\"Confusion matrix\")\n",
    "plt.ylabel('True class')\n",
    "plt.xlabel('Predicted class')\n",
    "plt.show()"
   ]
  },
  {
   "cell_type": "code",
   "execution_count": 110,
   "metadata": {},
   "outputs": [
    {
     "ename": "ValueError",
     "evalue": "bad input shape (124192, 2)",
     "output_type": "error",
     "traceback": [
      "\u001b[0;31m---------------------------------------------------------------------------\u001b[0m",
      "\u001b[0;31mValueError\u001b[0m                                Traceback (most recent call last)",
      "\u001b[0;32m<ipython-input-110-d555dafb2329>\u001b[0m in \u001b[0;36m<module>\u001b[0;34m\u001b[0m\n\u001b[1;32m      1\u001b[0m \u001b[0mthresholds\u001b[0m \u001b[0;34m=\u001b[0m \u001b[0mnp\u001b[0m\u001b[0;34m.\u001b[0m\u001b[0mlinspace\u001b[0m\u001b[0;34m(\u001b[0m\u001b[0;36m0.001\u001b[0m\u001b[0;34m,\u001b[0m \u001b[0;36m0.99\u001b[0m\u001b[0;34m,\u001b[0m\u001b[0;36m990\u001b[0m\u001b[0;34m)\u001b[0m\u001b[0;34m\u001b[0m\u001b[0;34m\u001b[0m\u001b[0m\n\u001b[1;32m      2\u001b[0m \u001b[0mYhat\u001b[0m \u001b[0;34m=\u001b[0m \u001b[0mautoencoder\u001b[0m\u001b[0;34m.\u001b[0m\u001b[0mpredict\u001b[0m\u001b[0;34m(\u001b[0m\u001b[0mX_test_std\u001b[0m\u001b[0;34m)\u001b[0m\u001b[0;34m\u001b[0m\u001b[0;34m\u001b[0m\u001b[0m\n\u001b[0;32m----> 3\u001b[0;31m \u001b[0mroc_auc_\u001b[0m \u001b[0;34m=\u001b[0m \u001b[0mnp\u001b[0m\u001b[0;34m.\u001b[0m\u001b[0marray\u001b[0m\u001b[0;34m(\u001b[0m\u001b[0;34m[\u001b[0m\u001b[0mroc_auc_score\u001b[0m\u001b[0;34m(\u001b[0m\u001b[0my_test\u001b[0m\u001b[0;34m,\u001b[0m \u001b[0merror_df\u001b[0m\u001b[0;34m>\u001b[0m\u001b[0mthr\u001b[0m\u001b[0;34m)\u001b[0m \u001b[0;32mfor\u001b[0m \u001b[0mthr\u001b[0m \u001b[0;32min\u001b[0m \u001b[0mthresholds\u001b[0m\u001b[0;34m]\u001b[0m\u001b[0;34m)\u001b[0m\u001b[0;34m\u001b[0m\u001b[0;34m\u001b[0m\u001b[0m\n\u001b[0m\u001b[1;32m      4\u001b[0m \u001b[0mplt\u001b[0m\u001b[0;34m.\u001b[0m\u001b[0mplot\u001b[0m\u001b[0;34m(\u001b[0m\u001b[0mthresholds\u001b[0m\u001b[0;34m,\u001b[0m \u001b[0mroc_auc_\u001b[0m\u001b[0;34m)\u001b[0m\u001b[0;34m\u001b[0m\u001b[0;34m\u001b[0m\u001b[0m\n\u001b[1;32m      5\u001b[0m \u001b[0mbest_threshold\u001b[0m \u001b[0;34m=\u001b[0m \u001b[0mthresholds\u001b[0m\u001b[0;34m[\u001b[0m\u001b[0mroc_auc_\u001b[0m\u001b[0;34m.\u001b[0m\u001b[0margmax\u001b[0m\u001b[0;34m(\u001b[0m\u001b[0;34m)\u001b[0m\u001b[0;34m]\u001b[0m\u001b[0;34m\u001b[0m\u001b[0;34m\u001b[0m\u001b[0m\n",
      "\u001b[0;32m<ipython-input-110-d555dafb2329>\u001b[0m in \u001b[0;36m<listcomp>\u001b[0;34m(.0)\u001b[0m\n\u001b[1;32m      1\u001b[0m \u001b[0mthresholds\u001b[0m \u001b[0;34m=\u001b[0m \u001b[0mnp\u001b[0m\u001b[0;34m.\u001b[0m\u001b[0mlinspace\u001b[0m\u001b[0;34m(\u001b[0m\u001b[0;36m0.001\u001b[0m\u001b[0;34m,\u001b[0m \u001b[0;36m0.99\u001b[0m\u001b[0;34m,\u001b[0m\u001b[0;36m990\u001b[0m\u001b[0;34m)\u001b[0m\u001b[0;34m\u001b[0m\u001b[0;34m\u001b[0m\u001b[0m\n\u001b[1;32m      2\u001b[0m \u001b[0mYhat\u001b[0m \u001b[0;34m=\u001b[0m \u001b[0mautoencoder\u001b[0m\u001b[0;34m.\u001b[0m\u001b[0mpredict\u001b[0m\u001b[0;34m(\u001b[0m\u001b[0mX_test_std\u001b[0m\u001b[0;34m)\u001b[0m\u001b[0;34m\u001b[0m\u001b[0;34m\u001b[0m\u001b[0m\n\u001b[0;32m----> 3\u001b[0;31m \u001b[0mroc_auc_\u001b[0m \u001b[0;34m=\u001b[0m \u001b[0mnp\u001b[0m\u001b[0;34m.\u001b[0m\u001b[0marray\u001b[0m\u001b[0;34m(\u001b[0m\u001b[0;34m[\u001b[0m\u001b[0mroc_auc_score\u001b[0m\u001b[0;34m(\u001b[0m\u001b[0my_test\u001b[0m\u001b[0;34m,\u001b[0m \u001b[0merror_df\u001b[0m\u001b[0;34m>\u001b[0m\u001b[0mthr\u001b[0m\u001b[0;34m)\u001b[0m \u001b[0;32mfor\u001b[0m \u001b[0mthr\u001b[0m \u001b[0;32min\u001b[0m \u001b[0mthresholds\u001b[0m\u001b[0;34m]\u001b[0m\u001b[0;34m)\u001b[0m\u001b[0;34m\u001b[0m\u001b[0;34m\u001b[0m\u001b[0m\n\u001b[0m\u001b[1;32m      4\u001b[0m \u001b[0mplt\u001b[0m\u001b[0;34m.\u001b[0m\u001b[0mplot\u001b[0m\u001b[0;34m(\u001b[0m\u001b[0mthresholds\u001b[0m\u001b[0;34m,\u001b[0m \u001b[0mroc_auc_\u001b[0m\u001b[0;34m)\u001b[0m\u001b[0;34m\u001b[0m\u001b[0;34m\u001b[0m\u001b[0m\n\u001b[1;32m      5\u001b[0m \u001b[0mbest_threshold\u001b[0m \u001b[0;34m=\u001b[0m \u001b[0mthresholds\u001b[0m\u001b[0;34m[\u001b[0m\u001b[0mroc_auc_\u001b[0m\u001b[0;34m.\u001b[0m\u001b[0margmax\u001b[0m\u001b[0;34m(\u001b[0m\u001b[0;34m)\u001b[0m\u001b[0;34m]\u001b[0m\u001b[0;34m\u001b[0m\u001b[0;34m\u001b[0m\u001b[0m\n",
      "\u001b[0;32m~/miniconda3/lib/python3.7/site-packages/sklearn/metrics/ranking.py\u001b[0m in \u001b[0;36mroc_auc_score\u001b[0;34m(y_true, y_score, average, sample_weight, max_fpr)\u001b[0m\n\u001b[1;32m    353\u001b[0m     return _average_binary_score(\n\u001b[1;32m    354\u001b[0m         \u001b[0m_binary_roc_auc_score\u001b[0m\u001b[0;34m,\u001b[0m \u001b[0my_true\u001b[0m\u001b[0;34m,\u001b[0m \u001b[0my_score\u001b[0m\u001b[0;34m,\u001b[0m \u001b[0maverage\u001b[0m\u001b[0;34m,\u001b[0m\u001b[0;34m\u001b[0m\u001b[0;34m\u001b[0m\u001b[0m\n\u001b[0;32m--> 355\u001b[0;31m         sample_weight=sample_weight)\n\u001b[0m\u001b[1;32m    356\u001b[0m \u001b[0;34m\u001b[0m\u001b[0m\n\u001b[1;32m    357\u001b[0m \u001b[0;34m\u001b[0m\u001b[0m\n",
      "\u001b[0;32m~/miniconda3/lib/python3.7/site-packages/sklearn/metrics/base.py\u001b[0m in \u001b[0;36m_average_binary_score\u001b[0;34m(binary_metric, y_true, y_score, average, sample_weight)\u001b[0m\n\u001b[1;32m     74\u001b[0m \u001b[0;34m\u001b[0m\u001b[0m\n\u001b[1;32m     75\u001b[0m     \u001b[0;32mif\u001b[0m \u001b[0my_type\u001b[0m \u001b[0;34m==\u001b[0m \u001b[0;34m\"binary\"\u001b[0m\u001b[0;34m:\u001b[0m\u001b[0;34m\u001b[0m\u001b[0;34m\u001b[0m\u001b[0m\n\u001b[0;32m---> 76\u001b[0;31m         \u001b[0;32mreturn\u001b[0m \u001b[0mbinary_metric\u001b[0m\u001b[0;34m(\u001b[0m\u001b[0my_true\u001b[0m\u001b[0;34m,\u001b[0m \u001b[0my_score\u001b[0m\u001b[0;34m,\u001b[0m \u001b[0msample_weight\u001b[0m\u001b[0;34m=\u001b[0m\u001b[0msample_weight\u001b[0m\u001b[0;34m)\u001b[0m\u001b[0;34m\u001b[0m\u001b[0;34m\u001b[0m\u001b[0m\n\u001b[0m\u001b[1;32m     77\u001b[0m \u001b[0;34m\u001b[0m\u001b[0m\n\u001b[1;32m     78\u001b[0m     \u001b[0mcheck_consistent_length\u001b[0m\u001b[0;34m(\u001b[0m\u001b[0my_true\u001b[0m\u001b[0;34m,\u001b[0m \u001b[0my_score\u001b[0m\u001b[0;34m,\u001b[0m \u001b[0msample_weight\u001b[0m\u001b[0;34m)\u001b[0m\u001b[0;34m\u001b[0m\u001b[0;34m\u001b[0m\u001b[0m\n",
      "\u001b[0;32m~/miniconda3/lib/python3.7/site-packages/sklearn/metrics/ranking.py\u001b[0m in \u001b[0;36m_binary_roc_auc_score\u001b[0;34m(y_true, y_score, sample_weight)\u001b[0m\n\u001b[1;32m    325\u001b[0m \u001b[0;34m\u001b[0m\u001b[0m\n\u001b[1;32m    326\u001b[0m         fpr, tpr, _ = roc_curve(y_true, y_score,\n\u001b[0;32m--> 327\u001b[0;31m                                 sample_weight=sample_weight)\n\u001b[0m\u001b[1;32m    328\u001b[0m         \u001b[0;32mif\u001b[0m \u001b[0mmax_fpr\u001b[0m \u001b[0;32mis\u001b[0m \u001b[0;32mNone\u001b[0m \u001b[0;32mor\u001b[0m \u001b[0mmax_fpr\u001b[0m \u001b[0;34m==\u001b[0m \u001b[0;36m1\u001b[0m\u001b[0;34m:\u001b[0m\u001b[0;34m\u001b[0m\u001b[0;34m\u001b[0m\u001b[0m\n\u001b[1;32m    329\u001b[0m             \u001b[0;32mreturn\u001b[0m \u001b[0mauc\u001b[0m\u001b[0;34m(\u001b[0m\u001b[0mfpr\u001b[0m\u001b[0;34m,\u001b[0m \u001b[0mtpr\u001b[0m\u001b[0;34m)\u001b[0m\u001b[0;34m\u001b[0m\u001b[0;34m\u001b[0m\u001b[0m\n",
      "\u001b[0;32m~/miniconda3/lib/python3.7/site-packages/sklearn/metrics/ranking.py\u001b[0m in \u001b[0;36mroc_curve\u001b[0;34m(y_true, y_score, pos_label, sample_weight, drop_intermediate)\u001b[0m\n\u001b[1;32m    620\u001b[0m     \"\"\"\n\u001b[1;32m    621\u001b[0m     fps, tps, thresholds = _binary_clf_curve(\n\u001b[0;32m--> 622\u001b[0;31m         y_true, y_score, pos_label=pos_label, sample_weight=sample_weight)\n\u001b[0m\u001b[1;32m    623\u001b[0m \u001b[0;34m\u001b[0m\u001b[0m\n\u001b[1;32m    624\u001b[0m     \u001b[0;31m# Attempt to drop thresholds corresponding to points in between and\u001b[0m\u001b[0;34m\u001b[0m\u001b[0;34m\u001b[0m\u001b[0;34m\u001b[0m\u001b[0m\n",
      "\u001b[0;32m~/miniconda3/lib/python3.7/site-packages/sklearn/metrics/ranking.py\u001b[0m in \u001b[0;36m_binary_clf_curve\u001b[0;34m(y_true, y_score, pos_label, sample_weight)\u001b[0m\n\u001b[1;32m    398\u001b[0m     \u001b[0mcheck_consistent_length\u001b[0m\u001b[0;34m(\u001b[0m\u001b[0my_true\u001b[0m\u001b[0;34m,\u001b[0m \u001b[0my_score\u001b[0m\u001b[0;34m,\u001b[0m \u001b[0msample_weight\u001b[0m\u001b[0;34m)\u001b[0m\u001b[0;34m\u001b[0m\u001b[0;34m\u001b[0m\u001b[0m\n\u001b[1;32m    399\u001b[0m     \u001b[0my_true\u001b[0m \u001b[0;34m=\u001b[0m \u001b[0mcolumn_or_1d\u001b[0m\u001b[0;34m(\u001b[0m\u001b[0my_true\u001b[0m\u001b[0;34m)\u001b[0m\u001b[0;34m\u001b[0m\u001b[0;34m\u001b[0m\u001b[0m\n\u001b[0;32m--> 400\u001b[0;31m     \u001b[0my_score\u001b[0m \u001b[0;34m=\u001b[0m \u001b[0mcolumn_or_1d\u001b[0m\u001b[0;34m(\u001b[0m\u001b[0my_score\u001b[0m\u001b[0;34m)\u001b[0m\u001b[0;34m\u001b[0m\u001b[0;34m\u001b[0m\u001b[0m\n\u001b[0m\u001b[1;32m    401\u001b[0m     \u001b[0massert_all_finite\u001b[0m\u001b[0;34m(\u001b[0m\u001b[0my_true\u001b[0m\u001b[0;34m)\u001b[0m\u001b[0;34m\u001b[0m\u001b[0;34m\u001b[0m\u001b[0m\n\u001b[1;32m    402\u001b[0m     \u001b[0massert_all_finite\u001b[0m\u001b[0;34m(\u001b[0m\u001b[0my_score\u001b[0m\u001b[0;34m)\u001b[0m\u001b[0;34m\u001b[0m\u001b[0;34m\u001b[0m\u001b[0m\n",
      "\u001b[0;32m~/miniconda3/lib/python3.7/site-packages/sklearn/utils/validation.py\u001b[0m in \u001b[0;36mcolumn_or_1d\u001b[0;34m(y, warn)\u001b[0m\n\u001b[1;32m    758\u001b[0m         \u001b[0;32mreturn\u001b[0m \u001b[0mnp\u001b[0m\u001b[0;34m.\u001b[0m\u001b[0mravel\u001b[0m\u001b[0;34m(\u001b[0m\u001b[0my\u001b[0m\u001b[0;34m)\u001b[0m\u001b[0;34m\u001b[0m\u001b[0;34m\u001b[0m\u001b[0m\n\u001b[1;32m    759\u001b[0m \u001b[0;34m\u001b[0m\u001b[0m\n\u001b[0;32m--> 760\u001b[0;31m     \u001b[0;32mraise\u001b[0m \u001b[0mValueError\u001b[0m\u001b[0;34m(\u001b[0m\u001b[0;34m\"bad input shape {0}\"\u001b[0m\u001b[0;34m.\u001b[0m\u001b[0mformat\u001b[0m\u001b[0;34m(\u001b[0m\u001b[0mshape\u001b[0m\u001b[0;34m)\u001b[0m\u001b[0;34m)\u001b[0m\u001b[0;34m\u001b[0m\u001b[0;34m\u001b[0m\u001b[0m\n\u001b[0m\u001b[1;32m    761\u001b[0m \u001b[0;34m\u001b[0m\u001b[0m\n\u001b[1;32m    762\u001b[0m \u001b[0;34m\u001b[0m\u001b[0m\n",
      "\u001b[0;31mValueError\u001b[0m: bad input shape (124192, 2)"
     ]
    }
   ],
   "source": [
    "thresholds = np.linspace(0.001, 0.99,990)\n",
    "Yhat = autoencoder.predict(X_test_std)\n",
    "roc_auc_ = np.array([roc_auc_score(y_test, Yhat>thr) for thr in thresholds])\n",
    "plt.plot(thresholds, roc_auc_)\n",
    "best_threshold = thresholds[roc_auc_.argmax()]\n",
    "print(best_threshold)\n",
    "print(roc_auc_.max())"
   ]
  },
  {
   "cell_type": "code",
   "execution_count": 109,
   "metadata": {},
   "outputs": [
    {
     "data": {
      "text/plain": [
       "(124192, 27)"
      ]
     },
     "execution_count": 109,
     "metadata": {},
     "output_type": "execute_result"
    }
   ],
   "source": []
  },
  {
   "cell_type": "code",
   "execution_count": null,
   "metadata": {},
   "outputs": [],
   "source": [
    "predictions = (Yhat>best_threshold)\n",
    "\n",
    "print(confusion_matrix(reel, predictions))\n",
    "print('accuracy_score: %f' % accuracy_score(reel, predictions ))\n",
    "print('test roc score: %f' % roc_auc_score(reel, Yhat ))\n",
    "print('mcc score: %f' %matthews_corrcoef(reel, predictions ))\n",
    "print('F1 score: %f' %f1_score(reel, predictions ))\n",
    "print('precision score: %f' %precision_score(reel, predictions ))\n",
    "print('recall score: %f' %recall_score(reel, predictions ))\n"
   ]
  }
 ],
 "metadata": {
  "kernelspec": {
   "display_name": "Python 3",
   "language": "python",
   "name": "python3"
  },
  "language_info": {
   "codemirror_mode": {
    "name": "ipython",
    "version": 3
   },
   "file_extension": ".py",
   "mimetype": "text/x-python",
   "name": "python",
   "nbconvert_exporter": "python",
   "pygments_lexer": "ipython3",
   "version": "3.7.3"
  }
 },
 "nbformat": 4,
 "nbformat_minor": 2
}
