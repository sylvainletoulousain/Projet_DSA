{
 "cells": [
  {
   "cell_type": "code",
   "execution_count": 230,
   "metadata": {},
   "outputs": [
    {
     "name": "stderr",
     "output_type": "stream",
     "text": [
      "/home/sylvain/miniconda3/lib/python3.7/multiprocessing/semaphore_tracker.py:55: UserWarning: semaphore_tracker: process died unexpectedly, relaunching.  Some semaphores might leak.\n",
      "  warnings.warn('semaphore_tracker: process died unexpectedly, '\n",
      "/home/sylvain/miniconda3/lib/python3.7/site-packages/joblib/_multiprocessing_helpers.py:38: UserWarning: [Errno 12] Cannot allocate memory.  joblib will operate in serial mode\n",
      "  warnings.warn('%s.  joblib will operate in serial mode' % (e,))\n"
     ]
    }
   ],
   "source": [
    "# necessary imports\n",
    "# Pandas to read in the CSV file and create the data frame\n",
    "import pandas as pd\n",
    "# NumPy for some basic mathematical functions\n",
    "import numpy as np\n",
    "from numpy import sort\n",
    "# Xgboost for optimized distributed gradient boosting\n",
    "from xgboost import XGBClassifier, plot_tree\n",
    "# scikit-learn for simple and efficient tools for data mining and data analysis\n",
    "from sklearn.model_selection import (train_test_split, GridSearchCV, StratifiedShuffleSplit,\n",
    "cross_val_score, cross_val_predict, StratifiedKFold, KFold)\n",
    "from sklearn.metrics import (accuracy_score, auc, confusion_matrix, make_scorer, \n",
    "precision_recall_curve, recall_score, precision_score,f1_score, matthews_corrcoef,\n",
    "brier_score_loss)\n",
    "from sklearn.feature_selection import SelectFromModel\n",
    "from sklearn.linear_model import LogisticRegression\n",
    "from sklearn.preprocessing import StandardScaler\n",
    "from sklearn.decomposition import PCA\n",
    "from sklearn.ensemble import AdaBoostClassifier, RandomForestClassifier\n",
    "from sklearn.calibration import CalibratedClassifierCV\n",
    "# Imblearn for imbalanced-learn package\n",
    "from imblearn.ensemble import BalancedRandomForestClassifier\n",
    "from imblearn.under_sampling import EditedNearestNeighbours\n",
    "from imblearn.combine import SMOTEENN\n",
    "# matplotlib : Python 2D plotting library\n",
    "import matplotlib.pyplot as plt\n",
    "# seaborn : Python data visualization library based on matplotlib\n",
    "import seaborn as sns"
   ]
  },
  {
   "cell_type": "code",
   "execution_count": 2,
   "metadata": {},
   "outputs": [],
   "source": [
    "# load data\n",
    "df = pd.read_csv('Base_ptf.csv', engine='python',sep=';',parse_dates=['date'],index_col=['date'])"
   ]
  },
  {
   "cell_type": "code",
   "execution_count": 3,
   "metadata": {},
   "outputs": [
    {
     "data": {
      "text/plain": [
       "pandas.core.frame.DataFrame"
      ]
     },
     "execution_count": 3,
     "metadata": {},
     "output_type": "execute_result"
    }
   ],
   "source": [
    "type(df)"
   ]
  },
  {
   "cell_type": "code",
   "execution_count": 4,
   "metadata": {},
   "outputs": [
    {
     "data": {
      "text/plain": [
       "(5245689, 34)"
      ]
     },
     "execution_count": 4,
     "metadata": {},
     "output_type": "execute_result"
    }
   ],
   "source": [
    "df.shape"
   ]
  },
  {
   "cell_type": "code",
   "execution_count": 5,
   "metadata": {},
   "outputs": [
    {
     "name": "stdout",
     "output_type": "stream",
     "text": [
      "<class 'pandas.core.frame.DataFrame'>\n",
      "DatetimeIndex: 5245689 entries, 2011-03-31 to 2019-01-31\n",
      "Data columns (total 34 columns):\n",
      "sou_id               int64\n",
      "prd_id               object\n",
      "num                  int64\n",
      "dt_inv               object\n",
      "tmg                  float64\n",
      "vac_euro_net         float64\n",
      "vac_euro_brut        float64\n",
      "vac_uc               float64\n",
      "dt_origine           object\n",
      "dt_effet             object\n",
      "sexe                 object\n",
      "dt_naissance         object\n",
      "DAT_INV              float64\n",
      "ARRETE               object\n",
      "sortant              float64\n",
      "chp_sortant          float64\n",
      "arb_sortant          float64\n",
      "entrant              float64\n",
      "chp_entrant          float64\n",
      "arb_entrant          float64\n",
      "Pos                  object\n",
      "capres               float64\n",
      "nb_support           float64\n",
      "age                  float64\n",
      "lib_age              object\n",
      "anciennete           float64\n",
      "lib_anciennete       object\n",
      "anciennete_em        float64\n",
      "lib_anciennete_em    object\n",
      "taux_uc              float64\n",
      "lib_euro             object\n",
      "lib_total            object\n",
      "lib_capres           object\n",
      "arb                  int64\n",
      "dtypes: float64(17), int64(3), object(14)\n",
      "memory usage: 1.4+ GB\n"
     ]
    }
   ],
   "source": [
    "df.info()"
   ]
  },
  {
   "cell_type": "code",
   "execution_count": 6,
   "metadata": {},
   "outputs": [
    {
     "data": {
      "text/plain": [
       "pandas.core.frame.DataFrame"
      ]
     },
     "execution_count": 6,
     "metadata": {},
     "output_type": "execute_result"
    }
   ],
   "source": [
    "df_subset=pd.DataFrame(df[df.index.year==2018])\n",
    "type(df_subset)"
   ]
  },
  {
   "cell_type": "code",
   "execution_count": 7,
   "metadata": {},
   "outputs": [
    {
     "name": "stdout",
     "output_type": "stream",
     "text": [
      "2018-01-31 00:00:00\n",
      "2018-12-31 00:00:00\n",
      "(794729, 34)\n"
     ]
    }
   ],
   "source": [
    "print(df_subset.index.min())\n",
    "print(df_subset.index.max())\n",
    "print(df_subset.shape)"
   ]
  },
  {
   "cell_type": "code",
   "execution_count": 8,
   "metadata": {},
   "outputs": [
    {
     "data": {
      "text/plain": [
       " 0    793219\n",
       " 1      1189\n",
       "-1       321\n",
       "Name: arb, dtype: int64"
      ]
     },
     "execution_count": 8,
     "metadata": {},
     "output_type": "execute_result"
    }
   ],
   "source": [
    "df_subset.arb.value_counts()"
   ]
  },
  {
   "cell_type": "code",
   "execution_count": 9,
   "metadata": {},
   "outputs": [
    {
     "data": {
      "text/plain": [
       "0    793540\n",
       "1      1189\n",
       "Name: arb, dtype: int64"
      ]
     },
     "execution_count": 9,
     "metadata": {},
     "output_type": "execute_result"
    }
   ],
   "source": [
    "# Recoder la variable arbitrage\n",
    "df_subset['arb']=df_subset['arb'].eq(1).astype('int')\n",
    "df_subset.arb.value_counts()"
   ]
  },
  {
   "cell_type": "code",
   "execution_count": 10,
   "metadata": {},
   "outputs": [],
   "source": [
    "# List categorical variables\n",
    "df_subset.describe(include='object')\n",
    "# d: dictionary {old:new}\n",
    "d = {'M': 1, 'F': 2}\n",
    "df_subset['sexe'] = df_subset['sexe'].map(d)\n",
    "df_subset['sexe'] = df_subset['sexe'].astype(float)"
   ]
  },
  {
   "cell_type": "code",
   "execution_count": 11,
   "metadata": {},
   "outputs": [
    {
     "data": {
      "text/plain": [
       "sou_id                    0\n",
       "prd_id                    0\n",
       "num                       0\n",
       "dt_inv                    0\n",
       "tmg                       0\n",
       "vac_euro_net              0\n",
       "vac_euro_brut             0\n",
       "vac_uc                    0\n",
       "dt_origine           672297\n",
       "dt_effet                  3\n",
       "sexe                      0\n",
       "dt_naissance             10\n",
       "DAT_INV              794729\n",
       "ARRETE               793219\n",
       "sortant              793219\n",
       "chp_sortant          793219\n",
       "arb_sortant          793219\n",
       "entrant              793219\n",
       "chp_entrant          793219\n",
       "arb_entrant          793219\n",
       "Pos                  646901\n",
       "capres                    0\n",
       "nb_support                0\n",
       "age                       0\n",
       "lib_age                   0\n",
       "anciennete                0\n",
       "lib_anciennete            0\n",
       "anciennete_em             0\n",
       "lib_anciennete_em         0\n",
       "taux_uc                   0\n",
       "lib_euro                  0\n",
       "lib_total                 0\n",
       "lib_capres                0\n",
       "arb                       0\n",
       "dtype: int64"
      ]
     },
     "execution_count": 11,
     "metadata": {},
     "output_type": "execute_result"
    }
   ],
   "source": [
    "df_subset['age'].fillna((df_subset['age'].mean()), inplace=True)\n",
    "df_subset['anciennete'].fillna((df_subset['anciennete'].mean()), inplace=True)\n",
    "df_subset['anciennete_em'].fillna((df_subset['anciennete_em'].mean()), inplace=True)\n",
    "df_subset['taux_uc'].fillna(0, inplace=True)\n",
    "df_subset['capres'].fillna(0, inplace=True)\n",
    "df_subset.isnull().sum()\n",
    "# mark zero values as missing or NaN\n",
    "#X = X.replace(0, np.NaN)\n",
    "# fill missing values with mean column values\n",
    "#X.fillna(X.mean(), inplace=True)\n",
    "# count the number of NaN values in each column\n",
    "#print(X.isnull().sum())"
   ]
  },
  {
   "cell_type": "code",
   "execution_count": 12,
   "metadata": {},
   "outputs": [
    {
     "name": "stdout",
     "output_type": "stream",
     "text": [
      "Class 0: 793540\n",
      "Class 1: 1189\n",
      "Proportion: 667.4 : 1\n"
     ]
    },
    {
     "data": {
      "text/plain": [
       "<matplotlib.axes._subplots.AxesSubplot at 0x7fd678cac898>"
      ]
     },
     "execution_count": 12,
     "metadata": {},
     "output_type": "execute_result"
    },
    {
     "data": {
      "image/png": "[encoded data removed]",
      "text/plain": [
       "<Figure size 432x288 with 1 Axes>"
      ]
     },
     "metadata": {
      "needs_background": "light"
     },
     "output_type": "display_data"
    }
   ],
   "source": [
    "# Imbalanced datasets\n",
    "target_count = df_subset.arb.value_counts()\n",
    "print('Class 0:', target_count[0])\n",
    "print('Class 1:', target_count[1])\n",
    "print('Proportion:', round(target_count[0] / target_count[1], 2), ': 1')\n",
    "\n",
    "target_count.plot(kind='bar', title='Count (target)')"
   ]
  },
  {
   "cell_type": "code",
   "execution_count": 121,
   "metadata": {},
   "outputs": [
    {
     "name": "stdout",
     "output_type": "stream",
     "text": [
      "<class 'pandas.core.frame.DataFrame'>\n",
      "<class 'pandas.core.series.Series'>\n"
     ]
    }
   ],
   "source": [
    "# split data into X and y\n",
    "X = pd.DataFrame(df_subset[['sexe','age','anciennete','anciennete_em','taux_uc','vac_euro_net','capres']])\n",
    "y = df_subset.arb\n",
    "print(type(X))\n",
    "print(type(y))"
   ]
  },
  {
   "cell_type": "code",
   "execution_count": 14,
   "metadata": {},
   "outputs": [
    {
     "data": {
      "text/html": [
       "<div>\n",
       "<style scoped>\n",
       "    .dataframe tbody tr th:only-of-type {\n",
       "        vertical-align: middle;\n",
       "    }\n",
       "\n",
       "    .dataframe tbody tr th {\n",
       "        vertical-align: top;\n",
       "    }\n",
       "\n",
       "    .dataframe thead th {\n",
       "        text-align: right;\n",
       "    }\n",
       "</style>\n",
       "<table border=\"1\" class=\"dataframe\">\n",
       "  <thead>\n",
       "    <tr style=\"text-align: right;\">\n",
       "      <th></th>\n",
       "      <th>sexe</th>\n",
       "      <th>age</th>\n",
       "      <th>anciennete</th>\n",
       "      <th>anciennete_em</th>\n",
       "      <th>taux_uc</th>\n",
       "      <th>vac_euro_net</th>\n",
       "      <th>capres</th>\n",
       "    </tr>\n",
       "  </thead>\n",
       "  <tbody>\n",
       "    <tr>\n",
       "      <th>count</th>\n",
       "      <td>794729.000000</td>\n",
       "      <td>794729.000000</td>\n",
       "      <td>794729.000000</td>\n",
       "      <td>794729.000000</td>\n",
       "      <td>794729.000000</td>\n",
       "      <td>7.947290e+05</td>\n",
       "      <td>7.947290e+05</td>\n",
       "    </tr>\n",
       "    <tr>\n",
       "      <th>mean</th>\n",
       "      <td>1.652911</td>\n",
       "      <td>67.350950</td>\n",
       "      <td>7.077673</td>\n",
       "      <td>5.867625</td>\n",
       "      <td>0.145344</td>\n",
       "      <td>2.326614e+04</td>\n",
       "      <td>6.505586e+03</td>\n",
       "    </tr>\n",
       "    <tr>\n",
       "      <th>std</th>\n",
       "      <td>0.476045</td>\n",
       "      <td>18.490632</td>\n",
       "      <td>5.543388</td>\n",
       "      <td>3.739483</td>\n",
       "      <td>0.262956</td>\n",
       "      <td>4.317846e+04</td>\n",
       "      <td>1.673165e+04</td>\n",
       "    </tr>\n",
       "    <tr>\n",
       "      <th>min</th>\n",
       "      <td>1.000000</td>\n",
       "      <td>0.000000</td>\n",
       "      <td>0.000000</td>\n",
       "      <td>0.000000</td>\n",
       "      <td>0.000000</td>\n",
       "      <td>0.000000e+00</td>\n",
       "      <td>-3.325340e-12</td>\n",
       "    </tr>\n",
       "    <tr>\n",
       "      <th>25%</th>\n",
       "      <td>1.000000</td>\n",
       "      <td>56.000000</td>\n",
       "      <td>3.000000</td>\n",
       "      <td>3.000000</td>\n",
       "      <td>0.000000</td>\n",
       "      <td>7.126800e+02</td>\n",
       "      <td>0.000000e+00</td>\n",
       "    </tr>\n",
       "    <tr>\n",
       "      <th>50%</th>\n",
       "      <td>2.000000</td>\n",
       "      <td>75.000000</td>\n",
       "      <td>6.000000</td>\n",
       "      <td>6.000000</td>\n",
       "      <td>0.000000</td>\n",
       "      <td>7.213650e+03</td>\n",
       "      <td>0.000000e+00</td>\n",
       "    </tr>\n",
       "    <tr>\n",
       "      <th>75%</th>\n",
       "      <td>2.000000</td>\n",
       "      <td>80.000000</td>\n",
       "      <td>10.000000</td>\n",
       "      <td>9.000000</td>\n",
       "      <td>0.214601</td>\n",
       "      <td>2.816440e+04</td>\n",
       "      <td>0.000000e+00</td>\n",
       "    </tr>\n",
       "    <tr>\n",
       "      <th>max</th>\n",
       "      <td>2.000000</td>\n",
       "      <td>105.000000</td>\n",
       "      <td>30.000000</td>\n",
       "      <td>17.000000</td>\n",
       "      <td>1.000000</td>\n",
       "      <td>1.264357e+06</td>\n",
       "      <td>3.285635e+05</td>\n",
       "    </tr>\n",
       "  </tbody>\n",
       "</table>\n",
       "</div>"
      ],
      "text/plain": [
       "                sexe            age     anciennete  anciennete_em  \\\n",
       "count  794729.000000  794729.000000  794729.000000  794729.000000   \n",
       "mean        1.652911      67.350950       7.077673       5.867625   \n",
       "std         0.476045      18.490632       5.543388       3.739483   \n",
       "min         1.000000       0.000000       0.000000       0.000000   \n",
       "25%         1.000000      56.000000       3.000000       3.000000   \n",
       "50%         2.000000      75.000000       6.000000       6.000000   \n",
       "75%         2.000000      80.000000      10.000000       9.000000   \n",
       "max         2.000000     105.000000      30.000000      17.000000   \n",
       "\n",
       "             taux_uc  vac_euro_net        capres  \n",
       "count  794729.000000  7.947290e+05  7.947290e+05  \n",
       "mean        0.145344  2.326614e+04  6.505586e+03  \n",
       "std         0.262956  4.317846e+04  1.673165e+04  \n",
       "min         0.000000  0.000000e+00 -3.325340e-12  \n",
       "25%         0.000000  7.126800e+02  0.000000e+00  \n",
       "50%         0.000000  7.213650e+03  0.000000e+00  \n",
       "75%         0.214601  2.816440e+04  0.000000e+00  \n",
       "max         1.000000  1.264357e+06  3.285635e+05  "
      ]
     },
     "execution_count": 14,
     "metadata": {},
     "output_type": "execute_result"
    }
   ],
   "source": [
    "X.describe()"
   ]
  },
  {
   "cell_type": "code",
   "execution_count": 122,
   "metadata": {},
   "outputs": [
    {
     "name": "stdout",
     "output_type": "stream",
     "text": [
      "sexe             0\n",
      "age              0\n",
      "anciennete       0\n",
      "anciennete_em    0\n",
      "taux_uc          0\n",
      "vac_euro_net     0\n",
      "capres           0\n",
      "dtype: int64\n"
     ]
    }
   ],
   "source": [
    "# count the number of NaN values in each column\n",
    "print(X.isnull().sum())"
   ]
  },
  {
   "cell_type": "code",
   "execution_count": 212,
   "metadata": {},
   "outputs": [
    {
     "name": "stdout",
     "output_type": "stream",
     "text": [
      "532468 total examples in y_train\n",
      "class 0: 531664 examples, 99.85%\n",
      "class 1: 804 examples, 0.15%\n",
      "\n",
      "262261 total examples in y_test\n",
      "class 0: 261876 examples, 99.85%\n",
      "class 1: 385 examples, 0.15%\n",
      "\n"
     ]
    }
   ],
   "source": [
    "# split data into train and test sets\n",
    "seed = 7\n",
    "test_size = 0.33\n",
    "X_train, X_test, y_train, y_test = train_test_split(X, y, test_size=test_size,random_state=seed)\n",
    "\n",
    "# Show the class distribution in each label set\n",
    "def get_class_dist(data, name):\n",
    "    unique, counts = np.unique(data, return_counts=True)\n",
    "    pct = 100*(counts/len(data))\n",
    "    d = dict(zip(unique, zip(counts, pct)))\n",
    "    print(len(data), 'total examples in %s' % name)\n",
    "    for key, values in d.items():\n",
    "        print('class %d: %d examples,' % (key, values[0]), \"{0:.2f}%\".format(values[1]))\n",
    "    print('')\n",
    "    return\n",
    " \n",
    "get_class_dist(data=y_train, name='y_train')\n",
    "get_class_dist(data=y_test, name='y_test')"
   ]
  },
  {
   "cell_type": "code",
   "execution_count": 213,
   "metadata": {},
   "outputs": [
    {
     "name": "stdout",
     "output_type": "stream",
     "text": [
      "(532468, 7)\n",
      "<class 'pandas.core.frame.DataFrame'>\n",
      "(262261, 7)\n",
      "<class 'pandas.core.frame.DataFrame'>\n"
     ]
    }
   ],
   "source": [
    "# Normalize the data\n",
    "#scaler = StandardScaler().fit(X_train)\n",
    "#X_train_sdt = scaler.transform(X_train)\n",
    "\n",
    "#scaler = StandardScaler().fit(X_test)\n",
    "#X_test_sdt = scaler.transform(X_test)\n",
    "\n",
    "ss = StandardScaler()\n",
    "X_train_sdt = pd.DataFrame(ss.fit_transform(X_train),columns = X_train.columns)\n",
    "X_test_sdt = pd.DataFrame(ss.fit_transform(X_test),columns = X_test.columns)\n",
    "\n",
    "print(X_train_sdt.shape)\n",
    "print(type(X_train_sdt))\n",
    "print(X_test_sdt.shape)\n",
    "print(type(X_test_sdt))"
   ]
  },
  {
   "cell_type": "code",
   "execution_count": 211,
   "metadata": {},
   "outputs": [
    {
     "name": "stdout",
     "output_type": "stream",
     "text": [
      "0    531664\n",
      "1       804\n",
      "Name: arb, dtype: int64\n",
      "0    261876\n",
      "1       385\n",
      "Name: arb, dtype: int64\n"
     ]
    }
   ],
   "source": [
    "print(y_train.value_counts())\n",
    "print(y_test.value_counts())"
   ]
  },
  {
   "cell_type": "code",
   "execution_count": 189,
   "metadata": {},
   "outputs": [
    {
     "name": "stdout",
     "output_type": "stream",
     "text": [
      "Accuracy: 99.85%\n",
      "\n",
      "Confusion Matrix\n"
     ]
    },
    {
     "data": {
      "text/plain": [
       "array([[261876,      0],\n",
       "       [   385,      0]])"
      ]
     },
     "execution_count": 189,
     "metadata": {},
     "output_type": "execute_result"
    }
   ],
   "source": [
    "# Modeling the data as is\n",
    "# Train model\n",
    "lr = LogisticRegression(solver='liblinear').fit(X_train_sdt, y_train)\n",
    " \n",
    "# Predict on training set\n",
    "lr_pred = lr.predict(X_test_sdt)\n",
    "\n",
    "# Checking accuracy\n",
    "print(\"Accuracy: %.2f%%\" % (accuracy_score(y_test, lr_pred) * 100.0))\n",
    "print('')\n",
    "print('Confusion Matrix')\n",
    "confusion_matrix(y_test, lr_pred)"
   ]
  },
  {
   "cell_type": "code",
   "execution_count": 190,
   "metadata": {},
   "outputs": [
    {
     "name": "stdout",
     "output_type": "stream",
     "text": [
      "Accuracy: 99.84%\n",
      "Confusion Matrix\n"
     ]
    },
    {
     "data": {
      "text/plain": [
       "array([[261846,     30],\n",
       "       [   385,      0]])"
      ]
     },
     "execution_count": 190,
     "metadata": {},
     "output_type": "execute_result"
    }
   ],
   "source": [
    "# train model\n",
    "rfc = RandomForestClassifier(n_estimators=10).fit(X_train_sdt, y_train)\n",
    "\n",
    "# predict on test set\n",
    "rfc_pred = rfc.predict(X_test_sdt)\n",
    "\n",
    "print(\"Accuracy: %.2f%%\" % (accuracy_score(y_test, rfc_pred) * 100.0))\n",
    "print('Confusion Matrix')\n",
    "confusion_matrix(y_test, rfc_pred)"
   ]
  },
  {
   "cell_type": "code",
   "execution_count": 191,
   "metadata": {},
   "outputs": [
    {
     "name": "stdout",
     "output_type": "stream",
     "text": [
      "Accuracy: 99.85%\n",
      "Confusion Matrix\n"
     ]
    },
    {
     "data": {
      "text/plain": [
       "array([[261876,      0],\n",
       "       [   385,      0]])"
      ]
     },
     "execution_count": 191,
     "metadata": {},
     "output_type": "execute_result"
    }
   ],
   "source": [
    "xgb = XGBClassifier()\n",
    "# train model\n",
    "xgb.fit(X_train_sdt, y_train)\n",
    "# predict on test set\n",
    "xgb_pred = xgb.predict(X_test_sdt)\n",
    "\n",
    "print(\"Accuracy: %.2f%%\" % (accuracy_score(y_test, xgb_pred) * 100.0))\n",
    "print('Confusion Matrix')\n",
    "confusion_matrix(y_test, xgb_pred)"
   ]
  },
  {
   "cell_type": "code",
   "execution_count": 192,
   "metadata": {},
   "outputs": [
    {
     "name": "stdout",
     "output_type": "stream",
     "text": [
      "Accuracy: 99.85%\n",
      "Confusion Matrix\n"
     ]
    },
    {
     "data": {
      "text/plain": [
       "array([[261876,      0],\n",
       "       [   385,      0]])"
      ]
     },
     "execution_count": 192,
     "metadata": {},
     "output_type": "execute_result"
    }
   ],
   "source": [
    "model = XGBClassifier()\n",
    "model.fit(X_train_sdt[['age']], y_train)\n",
    "y_pred = model.predict(X_test_sdt[['age']])\n",
    "\n",
    "print(\"Accuracy: %.2f%%\" % (accuracy_score(y_test, xgb_pred) * 100.0))\n",
    "print('Confusion Matrix')\n",
    "confusion_matrix(y_test, xgb_pred)"
   ]
  },
  {
   "cell_type": "code",
   "execution_count": 140,
   "metadata": {},
   "outputs": [
    {
     "name": "stdout",
     "output_type": "stream",
     "text": [
      "Confusion matrix:\n",
      " [[261876      0]\n",
      " [   385      0]]\n"
     ]
    },
    {
     "data": {
      "image/png": "[encoded data removed]",
      "text/plain": [
       "<Figure size 432x288 with 2 Axes>"
      ]
     },
     "metadata": {
      "needs_background": "light"
     },
     "output_type": "display_data"
    }
   ],
   "source": [
    "# Confusion matrix\n",
    "\n",
    "conf_mat = confusion_matrix(y_true=y_test, y_pred=y_pred)\n",
    "print('Confusion matrix:\\n', conf_mat)\n",
    "\n",
    "labels = ['Class 0', 'Class 1']\n",
    "fig = plt.figure()\n",
    "ax = fig.add_subplot(111)\n",
    "cax = ax.matshow(conf_mat, cmap=plt.cm.Blues)\n",
    "fig.colorbar(cax)\n",
    "ax.set_xticklabels([''] + labels)\n",
    "ax.set_yticklabels([''] + labels)\n",
    "plt.xlabel('Predicted')\n",
    "plt.ylabel('Expected')\n",
    "plt.show()"
   ]
  },
  {
   "cell_type": "code",
   "execution_count": 234,
   "metadata": {},
   "outputs": [],
   "source": [
    "def model_resampling(model, X, y, resampling, calibrate, k=5, random_state=42, print_res = True):\n",
    "    # Convert inputs to numpy arrays\n",
    "    X = np.array(X)\n",
    "    y = np.array(y)\n",
    "    \n",
    "    # Define the cross-validation parameters\n",
    "    # Common values of k are 5 and 10, as these have been shown experimentally to produce the best results\n",
    "    cv = StratifiedKFold(n_splits=k, shuffle=True, random_state=random_state)\n",
    "    \n",
    "    # Create lists to save results to\n",
    "    mcc = []\n",
    "    brier = []\n",
    "    actual_goals = []\n",
    "    pred_goals = []\n",
    "    accuracy = []\n",
    "    f1 = []\n",
    "    recall = []\n",
    "    model_name = model.__class__.__name__\n",
    "    \n",
    "    # Create training and test data using cross validation and fit model for each fold\n",
    "    for ii, (train_index, valid_index) in enumerate(cv.split(X, y)):\n",
    "        X_train, X_valid = X[train_index], X[valid_index]\n",
    "        y_train, y_valid = y[train_index], y[valid_index]\n",
    "        \n",
    "        if resampling == None:\n",
    "            res = 'no'\n",
    "        else:\n",
    "            X_train, y_train = resampling.fit_resample(X_train, y_train)\n",
    "            res = resampling.__class__.__name__\n",
    "        \n",
    "        # Normalize the data\n",
    "        ss = StandardScaler()\n",
    "        X_train_sdt = ss.fit_transform(X_train)\n",
    "        X_valid_sdt = ss.fit_transform(X_valid)\n",
    "\n",
    "        # Calibrate model if necessary\n",
    "        if calibrate == None:\n",
    "            calibrated_probs = 'uncalibrated probabilities'\n",
    "            model.fit(X_train_sdt, y_train)\n",
    "        else:\n",
    "            model = CalibratedClassifierCV(model, cv=2, method=calibrate)\n",
    "            model.fit(X_train_sdt, y_train)\n",
    "            calibrated_probs = '%s calibration' % calibrate\n",
    "            \n",
    "        y_pred = model.predict(X_valid_sdt)\n",
    "        y_pred_proba = model.predict_proba(X_valid_sdt)[:,1]\n",
    " \n",
    "        # Calculate mcc score, brier_loss and sum of predicted goal probabilities\n",
    "        actual_goals.append(sum(y_valid))\n",
    "        pred_goals.append(sum(y_pred_proba))\n",
    "        mcc.append(matthews_corrcoef(y_valid, y_pred))\n",
    "        brier.append(brier_score_loss(y_valid, y_pred_proba))\n",
    "        f1.append(f1_score(y_valid, y_pred))\n",
    "        recall.append(recall_score(y_valid, y_pred))\n",
    "        accuracy.append(accuracy_score(y_valid, y_pred))\n",
    "        \n",
    "        # Save the results to a dataframe\n",
    "    check = pd.DataFrame()\n",
    "    check['mcc'] = mcc\n",
    "    check['brier_loss'] = brier\n",
    "    check['actual_goals'] = actual_goals\n",
    "    check['predicted_goals'] = pred_goals\n",
    "    check['goals_diff'] = abs(check['actual_goals'] - check['predicted_goals'])\n",
    "    check['f1'] = f1\n",
    "    check['recall'] = recall\n",
    "    check['accuracy'] = accuracy\n",
    "    \n",
    "    # Print a summary of the results if required\n",
    "    if print_res == True:\n",
    "        print('Method: %s with %s resampling and %s'\n",
    "              % (model_name, res, calibrated_probs))\n",
    "        print('Goals:', '{0:.2f}'.format(check['actual_goals'].mean()))\n",
    "        print('Predicted Goals:', '{0:.2f}'.format(check['predicted_goals'].mean()))\n",
    "        print('MCC:', '{0:.3f}'.format(check['mcc'].mean()))\n",
    "        print('Brier Loss:', '{0:.3f}'.format(check['brier_loss'].mean()))\n",
    "        print('F1_score:', '{:.2%}'.format(check['f1'].mean()))\n",
    "        print('Recall_score:', '{:.2%}'.format(check['recall'].mean()))\n",
    "        print('Accuracy:', '{:.2%}'.format(check['accuracy'].mean()))\n",
    "        print('')\n",
    "    else: pass\n",
    " \n",
    "    return check"
   ]
  },
  {
   "cell_type": "code",
   "execution_count": 221,
   "metadata": {},
   "outputs": [
    {
     "name": "stdout",
     "output_type": "stream",
     "text": [
      "Method: RandomForestClassifier with no resampling and uncalibrated probabilities\n",
      "Goals: 237.80\n",
      "Predicted Goals: 300.90\n",
      "MCC: 0.003\n",
      "Brier Loss: 0.002\n",
      "F1_score: 0.16%\n",
      "Recall_score: 0.08%\n",
      "Accuracy: 99.84%\n",
      "\n",
      "Method: RandomForestClassifier with SMOTE resampling and uncalibrated probabilities\n",
      "Goals: 237.80\n",
      "Predicted Goals: 132270.41\n",
      "MCC: -0.000\n",
      "Brier Loss: 0.744\n",
      "F1_score: 0.30%\n",
      "Recall_score: 86.55%\n",
      "Accuracy: 13.11%\n",
      "\n",
      "Method: RandomForestClassifier with TomekLinks resampling and uncalibrated probabilities\n",
      "Goals: 237.80\n",
      "Predicted Goals: 295.30\n",
      "MCC: 0.002\n",
      "Brier Loss: 0.002\n",
      "F1_score: 0.15%\n",
      "Recall_score: 0.08%\n",
      "Accuracy: 99.84%\n",
      "\n",
      "Method: RandomForestClassifier with EditedNearestNeighbours resampling and uncalibrated probabilities\n",
      "Goals: 237.80\n",
      "Predicted Goals: 394.59\n",
      "MCC: 0.006\n",
      "Brier Loss: 0.002\n",
      "F1_score: 0.43%\n",
      "Recall_score: 0.25%\n",
      "Accuracy: 99.83%\n",
      "\n",
      "Method: RandomForestClassifier with SMOTETomek resampling and uncalibrated probabilities\n",
      "Goals: 237.80\n",
      "Predicted Goals: 131890.82\n",
      "MCC: -0.001\n",
      "Brier Loss: 0.741\n",
      "F1_score: 0.29%\n",
      "Recall_score: 85.37%\n",
      "Accuracy: 13.24%\n",
      "\n",
      "Method: RandomForestClassifier with SMOTEENN resampling and uncalibrated probabilities\n",
      "Goals: 237.80\n",
      "Predicted Goals: 131906.89\n",
      "MCC: 0.000\n",
      "Brier Loss: 0.742\n",
      "F1_score: 0.30%\n",
      "Recall_score: 86.46%\n",
      "Accuracy: 13.61%\n",
      "\n"
     ]
    }
   ],
   "source": [
    "# Try different re-sampling methods with a RandomForestClassifier\n",
    "# For some reason sklearn and imblearn's default is to use only one processor core\n",
    "# Most people have multiple cores these days!\n",
    "# n_jobs=-1 will run the model on all cores in parallel, which can speed things up quite a bit\n",
    " \n",
    "tomek = TomekLinks(n_jobs=-1, random_state=42)\n",
    "enn = EditedNearestNeighbours(n_jobs=-1, random_state=42)\n",
    "smote_tomek = SMOTETomek(random_state=42)\n",
    "smote_enn = SMOTEENN(random_state=42)\n",
    "rf = RandomForestClassifier(n_estimators=100, n_jobs=-1, random_state=42)\n",
    " \n",
    "models = []\n",
    "# Format is name, model, resampling method, probability calibration\n",
    "models.append(('None', rf, None, None))\n",
    "models.append(('SMOTE', rf, smote, None))\n",
    "models.append(('Tomek', rf, tomek, None))\n",
    "models.append(('ENN', rf, enn, None))\n",
    "models.append(('SMOTETomek', rf, smote_tomek, None))\n",
    "models.append(('SMOTEENN', rf, smote_enn, None))\n",
    " \n",
    "results_df = pd.DataFrame()\n",
    "for name, model, resampling, calibrate in models:\n",
    "    result = model_resampling(model, X, y, resampling, calibrate)\n",
    "    result['name'] = name\n",
    "    results_df = results_df.append(result)"
   ]
  },
  {
   "cell_type": "code",
   "execution_count": 222,
   "metadata": {},
   "outputs": [],
   "source": [
    "# Define a function to plot barplot comparisons of models\n",
    "def barplot_comparison(df, x='name', y1='mcc', y2='brier_loss', figsize=(18, 8)):\n",
    "    sns.set(style='white')\n",
    " \n",
    "    f, axs = plt.subplots(ncols=2, figsize=figsize, sharey=False)\n",
    "     \n",
    "    # Plot bars\n",
    "    sns.barplot(x=x, y=y1, data=df, palette='muted', ax=axs[0])\n",
    "    sns.barplot(x=x, y=y2, data=df, palette='muted', ax=axs[1])\n",
    " \n",
    "    # Tweak the visual presentation\n",
    "    axs[0].yaxis.grid(True)\n",
    "    axs[0].set(xlabel=\"\", ylim=(min(df[y1]-0.02),max(df[y1]+0.02)))\n",
    "    axs[1].yaxis.grid(True)\n",
    "    axs[1].set(xlabel=\"\", ylim=(min(df[y2]-0.02),max(df[y2]+0.02)))\n",
    "    sns.despine(trim=True, left=True);\n",
    "     \n",
    "    return"
   ]
  },
  {
   "cell_type": "code",
   "execution_count": 231,
   "metadata": {},
   "outputs": [
    {
     "data": {
      "image/png": "[encoded data removed]",
      "text/plain": [
       "<Figure size 1296x576 with 2 Axes>"
      ]
     },
     "metadata": {},
     "output_type": "display_data"
    }
   ],
   "source": [
    "# Call boxplot_comparison here instead if you like\n",
    "barplot_comparison(results_df)"
   ]
  },
  {
   "cell_type": "code",
   "execution_count": 249,
   "metadata": {},
   "outputs": [
    {
     "name": "stdout",
     "output_type": "stream",
     "text": [
      "Method: RandomForestClassifier with RandomUnderSampler resampling and uncalibrated probabilities\n",
      "Goals: 237.80\n",
      "Predicted Goals: 83809.58\n",
      "MCC: 0.015\n",
      "Brier Loss: 0.313\n",
      "F1_score: 0.41%\n",
      "Recall_score: 74.43%\n",
      "Accuracy: 45.23%\n",
      "\n",
      "Method: BalancedRandomForestClassifier with RandomUnderSampler resampling and uncalibrated probabilities\n",
      "Goals: 237.80\n",
      "Predicted Goals: 86474.94\n",
      "MCC: 0.014\n",
      "Brier Loss: 0.319\n",
      "F1_score: 0.39%\n",
      "Recall_score: 77.80%\n",
      "Accuracy: 39.93%\n",
      "\n",
      "Method: AdaBoostClassifier with RandomUnderSampler resampling and uncalibrated probabilities\n",
      "Goals: 237.80\n",
      "Predicted Goals: 79559.19\n",
      "MCC: 0.016\n",
      "Brier Loss: 0.251\n",
      "F1_score: 0.39%\n",
      "Recall_score: 83.86%\n",
      "Accuracy: 35.85%\n",
      "\n",
      "Method: XGBClassifier with RandomUnderSampler resampling and uncalibrated probabilities\n",
      "Goals: 237.80\n",
      "Predicted Goals: 85425.46\n",
      "MCC: 0.017\n",
      "Brier Loss: 0.309\n",
      "F1_score: 0.41%\n",
      "Recall_score: 82.51%\n",
      "Accuracy: 39.21%\n",
      "\n"
     ]
    },
    {
     "data": {
      "image/png": "[encoded data removed]",
      "text/plain": [
       "<Figure size 1296x576 with 2 Axes>"
      ]
     },
     "metadata": {},
     "output_type": "display_data"
    }
   ],
   "source": [
    "brf = BalancedRandomForestClassifier(n_estimators=100, random_state=42, n_jobs=-1)\n",
    "ab = AdaBoostClassifier(n_estimators=100, random_state=42)\n",
    "xgb = XGBClassifier(random_state=42)\n",
    "rus = RandomUnderSampler(random_state=42)\n",
    "\n",
    "models = []\n",
    "models.append(('RF', rf, rus, None))\n",
    "models.append(('BRF', brf, rus, None))\n",
    "models.append(('AB', ab, rus, None))\n",
    "models.append(('XGB', xgb, rus, None))\n",
    " \n",
    "results_df = pd.DataFrame()\n",
    "for name, model, resampling, calibrate in models:\n",
    "    result = model_resampling(model, X, y, resampling, calibrate)\n",
    "    result['name'] = name\n",
    "    results_df = results_df.append(result)\n",
    "     \n",
    "barplot_comparison(results_df)"
   ]
  },
  {
   "cell_type": "code",
   "execution_count": null,
   "metadata": {},
   "outputs": [
    {
     "name": "stdout",
     "output_type": "stream",
     "text": [
      "Method: RandomForestClassifier with RandomOverSampler resampling and uncalibrated probabilities\n",
      "Goals: 237.80\n",
      "Predicted Goals: 1112.83\n",
      "MCC: 0.002\n",
      "Brier Loss: 0.002\n",
      "F1_score: 0.15%\n",
      "Recall_score: 0.08%\n",
      "Accuracy: 99.83%\n",
      "\n"
     ]
    }
   ],
   "source": [
    "brf = BalancedRandomForestClassifier(n_estimators=100, random_state=42, n_jobs=-1)\n",
    "ab = AdaBoostClassifier(n_estimators=100, random_state=42)\n",
    "xgb = XGBClassifier(random_state=42)\n",
    "ros = RandomOverSampler(random_state=42)\n",
    "\n",
    "models = []\n",
    "models.append(('RF', rf, ros, None))\n",
    "models.append(('BRF', brf, ros, None))\n",
    "models.append(('AB', ab, ros, None))\n",
    "models.append(('XGB', xgb, ros, None))\n",
    " \n",
    "results_df = pd.DataFrame()\n",
    "for name, model, resampling, calibrate in models:\n",
    "    result = model_resampling(model, X, y, resampling, calibrate)\n",
    "    result['name'] = name\n",
    "    results_df = results_df.append(result)\n",
    "     \n",
    "barplot_comparison(results_df)"
   ]
  },
  {
   "cell_type": "code",
   "execution_count": 85,
   "metadata": {},
   "outputs": [],
   "source": [
    "# Models used for comparing resampling methods\n",
    "brf = BalancedRandomForestClassifier(n_estimators=100, random_state=42, n_jobs=-1)\n",
    "ab = AdaBoostClassifier(n_estimators=100, random_state=42)\n",
    "xgb = XGBClassifier(nthread=-1,random_state=42)"
   ]
  },
  {
   "cell_type": "code",
   "execution_count": 143,
   "metadata": {},
   "outputs": [
    {
     "name": "stdout",
     "output_type": "stream",
     "text": [
      "Random under-sampling:\n",
      "1    1189\n",
      "0    1189\n",
      "Name: arb, dtype: int64\n"
     ]
    },
    {
     "data": {
      "image/png": "[encoded data removed]",
      "text/plain": [
       "<Figure size 432x288 with 1 Axes>"
      ]
     },
     "metadata": {
      "needs_background": "light"
     },
     "output_type": "display_data"
    }
   ],
   "source": [
    "# Resampling\n",
    "\n",
    "# Class count\n",
    "count_class_0, count_class_1 = df_subset.arb.value_counts()\n",
    "\n",
    "# Divide by class\n",
    "df_class_0 = df_subset[df_subset['arb'] == 0]\n",
    "df_class_1 = df_subset[df_subset['arb'] == 1]\n",
    "\n",
    "df_class_0_under = df_class_0.sample(count_class_1)\n",
    "df_test_under = pd.concat([df_class_0_under, df_class_1], axis=0)\n",
    "\n",
    "print('Random under-sampling:')\n",
    "print(df_test_under.arb.value_counts())\n",
    "\n",
    "df_test_under.arb.value_counts().plot(kind='bar', title='Count (target)');\n",
    "\n",
    "# split data into train and test sets\n",
    "X = df_test_under[['sexe','age','anciennete','anciennete_em','taux_uc','vac_euro_net','capres']]\n",
    "y = df_test_under.arb"
   ]
  },
  {
   "cell_type": "code",
   "execution_count": 150,
   "metadata": {},
   "outputs": [
    {
     "name": "stdout",
     "output_type": "stream",
     "text": [
      "Method: BalancedRandomForestClassifier with Random under-sampling resampling and uncalibrated probabilities\n",
      "Goals: 237.80\n",
      "Predicted Goals: 238.58\n",
      "MCC: 0.255\n",
      "Brier Loss: 0.227\n",
      "F1_score: 63.66%\n",
      "Recall_score: 65.52%\n",
      "Accuracy: 62.66%\n",
      "\n"
     ]
    },
    {
     "data": {
      "text/html": [
       "<div>\n",
       "<style scoped>\n",
       "    .dataframe tbody tr th:only-of-type {\n",
       "        vertical-align: middle;\n",
       "    }\n",
       "\n",
       "    .dataframe tbody tr th {\n",
       "        vertical-align: top;\n",
       "    }\n",
       "\n",
       "    .dataframe thead th {\n",
       "        text-align: right;\n",
       "    }\n",
       "</style>\n",
       "<table border=\"1\" class=\"dataframe\">\n",
       "  <thead>\n",
       "    <tr style=\"text-align: right;\">\n",
       "      <th></th>\n",
       "      <th>mcc</th>\n",
       "      <th>brier_loss</th>\n",
       "      <th>actual_goals</th>\n",
       "      <th>predicted_goals</th>\n",
       "      <th>goals_diff</th>\n",
       "      <th>f1</th>\n",
       "      <th>recall</th>\n",
       "      <th>accuracy</th>\n",
       "    </tr>\n",
       "  </thead>\n",
       "  <tbody>\n",
       "    <tr>\n",
       "      <th>0</th>\n",
       "      <td>0.241832</td>\n",
       "      <td>0.228406</td>\n",
       "      <td>238</td>\n",
       "      <td>248.638701</td>\n",
       "      <td>10.638701</td>\n",
       "      <td>0.644401</td>\n",
       "      <td>0.689076</td>\n",
       "      <td>0.619748</td>\n",
       "    </tr>\n",
       "    <tr>\n",
       "      <th>1</th>\n",
       "      <td>0.218222</td>\n",
       "      <td>0.232487</td>\n",
       "      <td>238</td>\n",
       "      <td>258.126913</td>\n",
       "      <td>20.126913</td>\n",
       "      <td>0.641075</td>\n",
       "      <td>0.701681</td>\n",
       "      <td>0.607143</td>\n",
       "    </tr>\n",
       "    <tr>\n",
       "      <th>2</th>\n",
       "      <td>0.296174</td>\n",
       "      <td>0.218594</td>\n",
       "      <td>238</td>\n",
       "      <td>214.482159</td>\n",
       "      <td>23.517841</td>\n",
       "      <td>0.625000</td>\n",
       "      <td>0.588235</td>\n",
       "      <td>0.647059</td>\n",
       "    </tr>\n",
       "    <tr>\n",
       "      <th>3</th>\n",
       "      <td>0.256323</td>\n",
       "      <td>0.229263</td>\n",
       "      <td>238</td>\n",
       "      <td>233.743294</td>\n",
       "      <td>4.256706</td>\n",
       "      <td>0.630480</td>\n",
       "      <td>0.634454</td>\n",
       "      <td>0.628151</td>\n",
       "    </tr>\n",
       "    <tr>\n",
       "      <th>4</th>\n",
       "      <td>0.262129</td>\n",
       "      <td>0.228608</td>\n",
       "      <td>237</td>\n",
       "      <td>237.885151</td>\n",
       "      <td>0.885151</td>\n",
       "      <td>0.642127</td>\n",
       "      <td>0.662447</td>\n",
       "      <td>0.630802</td>\n",
       "    </tr>\n",
       "  </tbody>\n",
       "</table>\n",
       "</div>"
      ],
      "text/plain": [
       "        mcc  brier_loss  actual_goals  predicted_goals  goals_diff        f1  \\\n",
       "0  0.241832    0.228406           238       248.638701   10.638701  0.644401   \n",
       "1  0.218222    0.232487           238       258.126913   20.126913  0.641075   \n",
       "2  0.296174    0.218594           238       214.482159   23.517841  0.625000   \n",
       "3  0.256323    0.229263           238       233.743294    4.256706  0.630480   \n",
       "4  0.262129    0.228608           237       237.885151    0.885151  0.642127   \n",
       "\n",
       "     recall  accuracy  \n",
       "0  0.689076  0.619748  \n",
       "1  0.701681  0.607143  \n",
       "2  0.588235  0.647059  \n",
       "3  0.634454  0.628151  \n",
       "4  0.662447  0.630802  "
      ]
     },
     "execution_count": 150,
     "metadata": {},
     "output_type": "execute_result"
    }
   ],
   "source": [
    "test_resampling(brf, X, y, 'Random under-sampling')"
   ]
  },
  {
   "cell_type": "code",
   "execution_count": 151,
   "metadata": {},
   "outputs": [
    {
     "name": "stdout",
     "output_type": "stream",
     "text": [
      "Method: AdaBoostClassifier with Random under-sampling resampling and uncalibrated probabilities\n",
      "Goals: 237.80\n",
      "Predicted Goals: 235.66\n",
      "MCC: 0.260\n",
      "Brier Loss: 0.247\n",
      "F1_score: 66.36%\n",
      "Recall_score: 75.36%\n",
      "Accuracy: 62.07%\n",
      "\n"
     ]
    },
    {
     "data": {
      "text/html": [
       "<div>\n",
       "<style scoped>\n",
       "    .dataframe tbody tr th:only-of-type {\n",
       "        vertical-align: middle;\n",
       "    }\n",
       "\n",
       "    .dataframe tbody tr th {\n",
       "        vertical-align: top;\n",
       "    }\n",
       "\n",
       "    .dataframe thead th {\n",
       "        text-align: right;\n",
       "    }\n",
       "</style>\n",
       "<table border=\"1\" class=\"dataframe\">\n",
       "  <thead>\n",
       "    <tr style=\"text-align: right;\">\n",
       "      <th></th>\n",
       "      <th>mcc</th>\n",
       "      <th>brier_loss</th>\n",
       "      <th>actual_goals</th>\n",
       "      <th>predicted_goals</th>\n",
       "      <th>goals_diff</th>\n",
       "      <th>f1</th>\n",
       "      <th>recall</th>\n",
       "      <th>accuracy</th>\n",
       "    </tr>\n",
       "  </thead>\n",
       "  <tbody>\n",
       "    <tr>\n",
       "      <th>0</th>\n",
       "      <td>0.209913</td>\n",
       "      <td>0.249225</td>\n",
       "      <td>238</td>\n",
       "      <td>237.872111</td>\n",
       "      <td>0.127889</td>\n",
       "      <td>0.649446</td>\n",
       "      <td>0.739496</td>\n",
       "      <td>0.600840</td>\n",
       "    </tr>\n",
       "    <tr>\n",
       "      <th>1</th>\n",
       "      <td>0.239040</td>\n",
       "      <td>0.250007</td>\n",
       "      <td>238</td>\n",
       "      <td>239.073767</td>\n",
       "      <td>1.073767</td>\n",
       "      <td>0.692668</td>\n",
       "      <td>0.932773</td>\n",
       "      <td>0.586134</td>\n",
       "    </tr>\n",
       "    <tr>\n",
       "      <th>2</th>\n",
       "      <td>0.361664</td>\n",
       "      <td>0.247487</td>\n",
       "      <td>238</td>\n",
       "      <td>235.948318</td>\n",
       "      <td>2.051682</td>\n",
       "      <td>0.673820</td>\n",
       "      <td>0.659664</td>\n",
       "      <td>0.680672</td>\n",
       "    </tr>\n",
       "    <tr>\n",
       "      <th>3</th>\n",
       "      <td>0.268908</td>\n",
       "      <td>0.240139</td>\n",
       "      <td>238</td>\n",
       "      <td>228.012295</td>\n",
       "      <td>9.987705</td>\n",
       "      <td>0.634454</td>\n",
       "      <td>0.634454</td>\n",
       "      <td>0.634454</td>\n",
       "    </tr>\n",
       "    <tr>\n",
       "      <th>4</th>\n",
       "      <td>0.221069</td>\n",
       "      <td>0.248973</td>\n",
       "      <td>237</td>\n",
       "      <td>237.392703</td>\n",
       "      <td>0.392703</td>\n",
       "      <td>0.667838</td>\n",
       "      <td>0.801688</td>\n",
       "      <td>0.601266</td>\n",
       "    </tr>\n",
       "  </tbody>\n",
       "</table>\n",
       "</div>"
      ],
      "text/plain": [
       "        mcc  brier_loss  actual_goals  predicted_goals  goals_diff        f1  \\\n",
       "0  0.209913    0.249225           238       237.872111    0.127889  0.649446   \n",
       "1  0.239040    0.250007           238       239.073767    1.073767  0.692668   \n",
       "2  0.361664    0.247487           238       235.948318    2.051682  0.673820   \n",
       "3  0.268908    0.240139           238       228.012295    9.987705  0.634454   \n",
       "4  0.221069    0.248973           237       237.392703    0.392703  0.667838   \n",
       "\n",
       "     recall  accuracy  \n",
       "0  0.739496  0.600840  \n",
       "1  0.932773  0.586134  \n",
       "2  0.659664  0.680672  \n",
       "3  0.634454  0.634454  \n",
       "4  0.801688  0.601266  "
      ]
     },
     "execution_count": 151,
     "metadata": {},
     "output_type": "execute_result"
    }
   ],
   "source": [
    "test_resampling(ab, X, y, 'Random under-sampling')"
   ]
  },
  {
   "cell_type": "code",
   "execution_count": 152,
   "metadata": {},
   "outputs": [
    {
     "name": "stdout",
     "output_type": "stream",
     "text": [
      "Method: XGBClassifier with Random under-sampling resampling and uncalibrated probabilities\n",
      "Goals: 237.80\n",
      "Predicted Goals: 242.96\n",
      "MCC: 0.285\n",
      "Brier Loss: 0.231\n",
      "F1_score: 67.39%\n",
      "Recall_score: 75.62%\n",
      "Accuracy: 63.58%\n",
      "\n"
     ]
    },
    {
     "data": {
      "text/html": [
       "<div>\n",
       "<style scoped>\n",
       "    .dataframe tbody tr th:only-of-type {\n",
       "        vertical-align: middle;\n",
       "    }\n",
       "\n",
       "    .dataframe tbody tr th {\n",
       "        vertical-align: top;\n",
       "    }\n",
       "\n",
       "    .dataframe thead th {\n",
       "        text-align: right;\n",
       "    }\n",
       "</style>\n",
       "<table border=\"1\" class=\"dataframe\">\n",
       "  <thead>\n",
       "    <tr style=\"text-align: right;\">\n",
       "      <th></th>\n",
       "      <th>mcc</th>\n",
       "      <th>brier_loss</th>\n",
       "      <th>actual_goals</th>\n",
       "      <th>predicted_goals</th>\n",
       "      <th>goals_diff</th>\n",
       "      <th>f1</th>\n",
       "      <th>recall</th>\n",
       "      <th>accuracy</th>\n",
       "    </tr>\n",
       "  </thead>\n",
       "  <tbody>\n",
       "    <tr>\n",
       "      <th>0</th>\n",
       "      <td>0.240832</td>\n",
       "      <td>0.231956</td>\n",
       "      <td>238</td>\n",
       "      <td>256.934145</td>\n",
       "      <td>18.934145</td>\n",
       "      <td>0.662983</td>\n",
       "      <td>0.756303</td>\n",
       "      <td>0.615546</td>\n",
       "    </tr>\n",
       "    <tr>\n",
       "      <th>1</th>\n",
       "      <td>0.269468</td>\n",
       "      <td>0.234897</td>\n",
       "      <td>238</td>\n",
       "      <td>283.654481</td>\n",
       "      <td>45.654481</td>\n",
       "      <td>0.692568</td>\n",
       "      <td>0.861345</td>\n",
       "      <td>0.617647</td>\n",
       "    </tr>\n",
       "    <tr>\n",
       "      <th>2</th>\n",
       "      <td>0.336241</td>\n",
       "      <td>0.233759</td>\n",
       "      <td>238</td>\n",
       "      <td>191.662520</td>\n",
       "      <td>46.337480</td>\n",
       "      <td>0.663830</td>\n",
       "      <td>0.655462</td>\n",
       "      <td>0.668067</td>\n",
       "    </tr>\n",
       "    <tr>\n",
       "      <th>3</th>\n",
       "      <td>0.286728</td>\n",
       "      <td>0.228231</td>\n",
       "      <td>238</td>\n",
       "      <td>216.701569</td>\n",
       "      <td>21.298431</td>\n",
       "      <td>0.657258</td>\n",
       "      <td>0.684874</td>\n",
       "      <td>0.642857</td>\n",
       "    </tr>\n",
       "    <tr>\n",
       "      <th>4</th>\n",
       "      <td>0.291367</td>\n",
       "      <td>0.227709</td>\n",
       "      <td>237</td>\n",
       "      <td>265.832212</td>\n",
       "      <td>28.832212</td>\n",
       "      <td>0.692718</td>\n",
       "      <td>0.822785</td>\n",
       "      <td>0.635021</td>\n",
       "    </tr>\n",
       "  </tbody>\n",
       "</table>\n",
       "</div>"
      ],
      "text/plain": [
       "        mcc  brier_loss  actual_goals  predicted_goals  goals_diff        f1  \\\n",
       "0  0.240832    0.231956           238       256.934145   18.934145  0.662983   \n",
       "1  0.269468    0.234897           238       283.654481   45.654481  0.692568   \n",
       "2  0.336241    0.233759           238       191.662520   46.337480  0.663830   \n",
       "3  0.286728    0.228231           238       216.701569   21.298431  0.657258   \n",
       "4  0.291367    0.227709           237       265.832212   28.832212  0.692718   \n",
       "\n",
       "     recall  accuracy  \n",
       "0  0.756303  0.615546  \n",
       "1  0.861345  0.617647  \n",
       "2  0.655462  0.668067  \n",
       "3  0.684874  0.642857  \n",
       "4  0.822785  0.635021  "
      ]
     },
     "execution_count": 152,
     "metadata": {},
     "output_type": "execute_result"
    }
   ],
   "source": [
    "test_resampling(xgb, X, y, 'Random under-sampling')"
   ]
  },
  {
   "cell_type": "code",
   "execution_count": 154,
   "metadata": {},
   "outputs": [
    {
     "name": "stdout",
     "output_type": "stream",
     "text": [
      "Random over-sampling:\n",
      "1    793540\n",
      "0    793540\n",
      "Name: arb, dtype: int64\n"
     ]
    },
    {
     "data": {
      "image/png": "[encoded data removed]",
      "text/plain": [
       "<Figure size 432x288 with 1 Axes>"
      ]
     },
     "metadata": {
      "needs_background": "light"
     },
     "output_type": "display_data"
    }
   ],
   "source": [
    "# Random over-sampling\n",
    "df_class_1_over = df_class_1.sample(count_class_0, replace=True)\n",
    "df_test_over = pd.concat([df_class_0, df_class_1_over], axis=0)\n",
    "\n",
    "print('Random over-sampling:')\n",
    "print(df_test_over.arb.value_counts())\n",
    "\n",
    "df_test_over.arb.value_counts().plot(kind='bar', title='Count (target)');\n",
    "\n",
    "# split data into train and test sets\n",
    "X = df_test_over[['sexe','age','anciennete','anciennete_em','taux_uc','vac_euro_net','capres']]\n",
    "y = df_test_over.arb"
   ]
  },
  {
   "cell_type": "code",
   "execution_count": 155,
   "metadata": {},
   "outputs": [
    {
     "name": "stdout",
     "output_type": "stream",
     "text": [
      "Method: BalancedRandomForestClassifier with Random over-sampling resampling and uncalibrated probabilities\n",
      "Goals: 158708.00\n",
      "Predicted Goals: 82851.32\n",
      "MCC: 0.621\n",
      "Brier Loss: 0.161\n",
      "F1_score: 71.16%\n",
      "Recall_score: 55.85%\n",
      "Accuracy: 77.85%\n",
      "\n"
     ]
    },
    {
     "data": {
      "text/html": [
       "<div>\n",
       "<style scoped>\n",
       "    .dataframe tbody tr th:only-of-type {\n",
       "        vertical-align: middle;\n",
       "    }\n",
       "\n",
       "    .dataframe tbody tr th {\n",
       "        vertical-align: top;\n",
       "    }\n",
       "\n",
       "    .dataframe thead th {\n",
       "        text-align: right;\n",
       "    }\n",
       "</style>\n",
       "<table border=\"1\" class=\"dataframe\">\n",
       "  <thead>\n",
       "    <tr style=\"text-align: right;\">\n",
       "      <th></th>\n",
       "      <th>mcc</th>\n",
       "      <th>brier_loss</th>\n",
       "      <th>actual_goals</th>\n",
       "      <th>predicted_goals</th>\n",
       "      <th>goals_diff</th>\n",
       "      <th>f1</th>\n",
       "      <th>recall</th>\n",
       "      <th>accuracy</th>\n",
       "    </tr>\n",
       "  </thead>\n",
       "  <tbody>\n",
       "    <tr>\n",
       "      <th>0</th>\n",
       "      <td>0.706747</td>\n",
       "      <td>0.127223</td>\n",
       "      <td>158708</td>\n",
       "      <td>93180.461795</td>\n",
       "      <td>65527.538205</td>\n",
       "      <td>0.800979</td>\n",
       "      <td>0.669248</td>\n",
       "      <td>0.833710</td>\n",
       "    </tr>\n",
       "    <tr>\n",
       "      <th>1</th>\n",
       "      <td>0.699442</td>\n",
       "      <td>0.136064</td>\n",
       "      <td>158708</td>\n",
       "      <td>93176.867499</td>\n",
       "      <td>65531.132501</td>\n",
       "      <td>0.794536</td>\n",
       "      <td>0.660471</td>\n",
       "      <td>0.829205</td>\n",
       "    </tr>\n",
       "    <tr>\n",
       "      <th>2</th>\n",
       "      <td>0.560005</td>\n",
       "      <td>0.188988</td>\n",
       "      <td>158708</td>\n",
       "      <td>73256.938686</td>\n",
       "      <td>85451.061314</td>\n",
       "      <td>0.648357</td>\n",
       "      <td>0.480360</td>\n",
       "      <td>0.739471</td>\n",
       "    </tr>\n",
       "    <tr>\n",
       "      <th>3</th>\n",
       "      <td>0.533438</td>\n",
       "      <td>0.178589</td>\n",
       "      <td>158708</td>\n",
       "      <td>73555.495062</td>\n",
       "      <td>85152.504938</td>\n",
       "      <td>0.615606</td>\n",
       "      <td>0.445113</td>\n",
       "      <td>0.722065</td>\n",
       "    </tr>\n",
       "    <tr>\n",
       "      <th>4</th>\n",
       "      <td>0.603902</td>\n",
       "      <td>0.172818</td>\n",
       "      <td>158708</td>\n",
       "      <td>81086.833998</td>\n",
       "      <td>77621.166002</td>\n",
       "      <td>0.698474</td>\n",
       "      <td>0.537503</td>\n",
       "      <td>0.767964</td>\n",
       "    </tr>\n",
       "  </tbody>\n",
       "</table>\n",
       "</div>"
      ],
      "text/plain": [
       "        mcc  brier_loss  actual_goals  predicted_goals    goals_diff  \\\n",
       "0  0.706747    0.127223        158708     93180.461795  65527.538205   \n",
       "1  0.699442    0.136064        158708     93176.867499  65531.132501   \n",
       "2  0.560005    0.188988        158708     73256.938686  85451.061314   \n",
       "3  0.533438    0.178589        158708     73555.495062  85152.504938   \n",
       "4  0.603902    0.172818        158708     81086.833998  77621.166002   \n",
       "\n",
       "         f1    recall  accuracy  \n",
       "0  0.800979  0.669248  0.833710  \n",
       "1  0.794536  0.660471  0.829205  \n",
       "2  0.648357  0.480360  0.739471  \n",
       "3  0.615606  0.445113  0.722065  \n",
       "4  0.698474  0.537503  0.767964  "
      ]
     },
     "execution_count": 155,
     "metadata": {},
     "output_type": "execute_result"
    }
   ],
   "source": [
    "test_resampling(brf, X, y, 'Random over-sampling')"
   ]
  },
  {
   "cell_type": "code",
   "execution_count": 156,
   "metadata": {},
   "outputs": [
    {
     "name": "stdout",
     "output_type": "stream",
     "text": [
      "Method: AdaBoostClassifier with Random over-sampling resampling and uncalibrated probabilities\n",
      "Goals: 158708.00\n",
      "Predicted Goals: 158561.03\n",
      "MCC: 0.329\n",
      "Brier Loss: 0.249\n",
      "F1_score: 68.22%\n",
      "Recall_score: 72.35%\n",
      "Accuracy: 66.30%\n",
      "\n"
     ]
    },
    {
     "data": {
      "text/html": [
       "<div>\n",
       "<style scoped>\n",
       "    .dataframe tbody tr th:only-of-type {\n",
       "        vertical-align: middle;\n",
       "    }\n",
       "\n",
       "    .dataframe tbody tr th {\n",
       "        vertical-align: top;\n",
       "    }\n",
       "\n",
       "    .dataframe thead th {\n",
       "        text-align: right;\n",
       "    }\n",
       "</style>\n",
       "<table border=\"1\" class=\"dataframe\">\n",
       "  <thead>\n",
       "    <tr style=\"text-align: right;\">\n",
       "      <th></th>\n",
       "      <th>mcc</th>\n",
       "      <th>brier_loss</th>\n",
       "      <th>actual_goals</th>\n",
       "      <th>predicted_goals</th>\n",
       "      <th>goals_diff</th>\n",
       "      <th>f1</th>\n",
       "      <th>recall</th>\n",
       "      <th>accuracy</th>\n",
       "    </tr>\n",
       "  </thead>\n",
       "  <tbody>\n",
       "    <tr>\n",
       "      <th>0</th>\n",
       "      <td>0.334742</td>\n",
       "      <td>0.248798</td>\n",
       "      <td>158708</td>\n",
       "      <td>158551.660781</td>\n",
       "      <td>156.339219</td>\n",
       "      <td>0.685558</td>\n",
       "      <td>0.728023</td>\n",
       "      <td>0.666082</td>\n",
       "    </tr>\n",
       "    <tr>\n",
       "      <th>1</th>\n",
       "      <td>0.343194</td>\n",
       "      <td>0.249063</td>\n",
       "      <td>158708</td>\n",
       "      <td>158681.187117</td>\n",
       "      <td>26.812883</td>\n",
       "      <td>0.688663</td>\n",
       "      <td>0.729031</td>\n",
       "      <td>0.670414</td>\n",
       "    </tr>\n",
       "    <tr>\n",
       "      <th>2</th>\n",
       "      <td>0.310666</td>\n",
       "      <td>0.249175</td>\n",
       "      <td>158708</td>\n",
       "      <td>158718.931059</td>\n",
       "      <td>10.931059</td>\n",
       "      <td>0.680416</td>\n",
       "      <td>0.738709</td>\n",
       "      <td>0.653036</td>\n",
       "    </tr>\n",
       "    <tr>\n",
       "      <th>3</th>\n",
       "      <td>0.325165</td>\n",
       "      <td>0.248804</td>\n",
       "      <td>158708</td>\n",
       "      <td>158561.563076</td>\n",
       "      <td>146.436924</td>\n",
       "      <td>0.676506</td>\n",
       "      <td>0.707009</td>\n",
       "      <td>0.661920</td>\n",
       "    </tr>\n",
       "    <tr>\n",
       "      <th>4</th>\n",
       "      <td>0.328875</td>\n",
       "      <td>0.248408</td>\n",
       "      <td>158708</td>\n",
       "      <td>158291.789618</td>\n",
       "      <td>416.210382</td>\n",
       "      <td>0.679927</td>\n",
       "      <td>0.714658</td>\n",
       "      <td>0.663577</td>\n",
       "    </tr>\n",
       "  </tbody>\n",
       "</table>\n",
       "</div>"
      ],
      "text/plain": [
       "        mcc  brier_loss  actual_goals  predicted_goals  goals_diff        f1  \\\n",
       "0  0.334742    0.248798        158708    158551.660781  156.339219  0.685558   \n",
       "1  0.343194    0.249063        158708    158681.187117   26.812883  0.688663   \n",
       "2  0.310666    0.249175        158708    158718.931059   10.931059  0.680416   \n",
       "3  0.325165    0.248804        158708    158561.563076  146.436924  0.676506   \n",
       "4  0.328875    0.248408        158708    158291.789618  416.210382  0.679927   \n",
       "\n",
       "     recall  accuracy  \n",
       "0  0.728023  0.666082  \n",
       "1  0.729031  0.670414  \n",
       "2  0.738709  0.653036  \n",
       "3  0.707009  0.661920  \n",
       "4  0.714658  0.663577  "
      ]
     },
     "execution_count": 156,
     "metadata": {},
     "output_type": "execute_result"
    }
   ],
   "source": [
    "test_resampling(ab, X, y, 'Random over-sampling')"
   ]
  },
  {
   "cell_type": "code",
   "execution_count": 157,
   "metadata": {},
   "outputs": [
    {
     "name": "stdout",
     "output_type": "stream",
     "text": [
      "Method: XGBClassifier with Random over-sampling resampling and uncalibrated probabilities\n",
      "Goals: 158708.00\n",
      "Predicted Goals: 155901.18\n",
      "MCC: 0.364\n",
      "Brier Loss: 0.206\n",
      "F1_score: 69.75%\n",
      "Recall_score: 73.63%\n",
      "Accuracy: 68.08%\n",
      "\n"
     ]
    },
    {
     "data": {
      "text/html": [
       "<div>\n",
       "<style scoped>\n",
       "    .dataframe tbody tr th:only-of-type {\n",
       "        vertical-align: middle;\n",
       "    }\n",
       "\n",
       "    .dataframe tbody tr th {\n",
       "        vertical-align: top;\n",
       "    }\n",
       "\n",
       "    .dataframe thead th {\n",
       "        text-align: right;\n",
       "    }\n",
       "</style>\n",
       "<table border=\"1\" class=\"dataframe\">\n",
       "  <thead>\n",
       "    <tr style=\"text-align: right;\">\n",
       "      <th></th>\n",
       "      <th>mcc</th>\n",
       "      <th>brier_loss</th>\n",
       "      <th>actual_goals</th>\n",
       "      <th>predicted_goals</th>\n",
       "      <th>goals_diff</th>\n",
       "      <th>f1</th>\n",
       "      <th>recall</th>\n",
       "      <th>accuracy</th>\n",
       "    </tr>\n",
       "  </thead>\n",
       "  <tbody>\n",
       "    <tr>\n",
       "      <th>0</th>\n",
       "      <td>0.366420</td>\n",
       "      <td>0.204992</td>\n",
       "      <td>158708</td>\n",
       "      <td>154112.333925</td>\n",
       "      <td>4595.666075</td>\n",
       "      <td>0.698823</td>\n",
       "      <td>0.737688</td>\n",
       "      <td>0.682073</td>\n",
       "    </tr>\n",
       "    <tr>\n",
       "      <th>1</th>\n",
       "      <td>0.367842</td>\n",
       "      <td>0.204911</td>\n",
       "      <td>158708</td>\n",
       "      <td>161733.618330</td>\n",
       "      <td>3025.618330</td>\n",
       "      <td>0.701230</td>\n",
       "      <td>0.745274</td>\n",
       "      <td>0.682464</td>\n",
       "    </tr>\n",
       "    <tr>\n",
       "      <th>2</th>\n",
       "      <td>0.368190</td>\n",
       "      <td>0.204984</td>\n",
       "      <td>158708</td>\n",
       "      <td>161230.407027</td>\n",
       "      <td>2522.407027</td>\n",
       "      <td>0.700711</td>\n",
       "      <td>0.742722</td>\n",
       "      <td>0.682766</td>\n",
       "    </tr>\n",
       "    <tr>\n",
       "      <th>3</th>\n",
       "      <td>0.363829</td>\n",
       "      <td>0.204443</td>\n",
       "      <td>158708</td>\n",
       "      <td>153833.742868</td>\n",
       "      <td>4874.257132</td>\n",
       "      <td>0.696773</td>\n",
       "      <td>0.733208</td>\n",
       "      <td>0.680917</td>\n",
       "    </tr>\n",
       "    <tr>\n",
       "      <th>4</th>\n",
       "      <td>0.352772</td>\n",
       "      <td>0.210837</td>\n",
       "      <td>158708</td>\n",
       "      <td>148595.788574</td>\n",
       "      <td>10112.211426</td>\n",
       "      <td>0.690211</td>\n",
       "      <td>0.722768</td>\n",
       "      <td>0.675599</td>\n",
       "    </tr>\n",
       "  </tbody>\n",
       "</table>\n",
       "</div>"
      ],
      "text/plain": [
       "        mcc  brier_loss  actual_goals  predicted_goals    goals_diff  \\\n",
       "0  0.366420    0.204992        158708    154112.333925   4595.666075   \n",
       "1  0.367842    0.204911        158708    161733.618330   3025.618330   \n",
       "2  0.368190    0.204984        158708    161230.407027   2522.407027   \n",
       "3  0.363829    0.204443        158708    153833.742868   4874.257132   \n",
       "4  0.352772    0.210837        158708    148595.788574  10112.211426   \n",
       "\n",
       "         f1    recall  accuracy  \n",
       "0  0.698823  0.737688  0.682073  \n",
       "1  0.701230  0.745274  0.682464  \n",
       "2  0.700711  0.742722  0.682766  \n",
       "3  0.696773  0.733208  0.680917  \n",
       "4  0.690211  0.722768  0.675599  "
      ]
     },
     "execution_count": 157,
     "metadata": {},
     "output_type": "execute_result"
    }
   ],
   "source": [
    "test_resampling(xgb, X, y, 'Random over-sampling')"
   ]
  },
  {
   "cell_type": "code",
   "execution_count": 98,
   "metadata": {},
   "outputs": [],
   "source": [
    "def plot_2d_space(X, y, label='Classes'):   \n",
    "    colors = ['#1F77B4', '#FF7F0E']\n",
    "    markers = ['o', 's']\n",
    "    for l, c, m in zip(np.unique(y), colors, markers):\n",
    "        plt.scatter(\n",
    "            X[y==l, 0],\n",
    "            X[y==l, 1],\n",
    "            c=c, label=l, marker=m\n",
    "        )\n",
    "    plt.title(label)\n",
    "    plt.legend(loc='upper right')\n",
    "    plt.show()"
   ]
  },
  {
   "cell_type": "code",
   "execution_count": 158,
   "metadata": {},
   "outputs": [
    {
     "name": "stdout",
     "output_type": "stream",
     "text": [
      "RandomUnderSampler(random_state=None, ratio=None, replacement=False,\n",
      "          return_indices=True, sampling_strategy='auto')\n",
      "Removed indexes: [493005 212052 462784 ... 531565 532177 532367]\n"
     ]
    },
    {
     "data": {
      "image/png": "[encoded data removed]",
      "text/plain": [
       "<Figure size 432x288 with 1 Axes>"
      ]
     },
     "metadata": {
      "needs_background": "light"
     },
     "output_type": "display_data"
    }
   ],
   "source": [
    "# Random under-sampling and over-sampling with imbalanced-learn\n",
    "from imblearn.under_sampling import RandomUnderSampler\n",
    "\n",
    "# split data into X and y\n",
    "X = pd.DataFrame(df_subset[['sexe','age','anciennete','anciennete_em','taux_uc','vac_euro_net','capres']])\n",
    "y = df_subset.arb\n",
    "\n",
    "# split data into train and test sets\n",
    "seed = 7\n",
    "test_size = 0.33\n",
    "X_train, X_test, y_train, y_test = train_test_split(X, y, test_size=test_size, random_state=seed)\n",
    "\n",
    "# Normalize the data\n",
    "X_train_std = pd.DataFrame(ss.fit_transform(X_train),columns = X_train.columns)\n",
    "X_test_std = pd.DataFrame(ss.fit_transform(X_test),columns = X_test.columns)\n",
    "\n",
    "rus = RandomUnderSampler(return_indices=True)\n",
    "print(rus)\n",
    "X_rus, y_rus, id_rus = rus.fit_sample(X_train_std, y_train)\n",
    "X_rus = pd.DataFrame(X_rus, columns = X_train_std.columns)\n",
    "\n",
    "print('Removed indexes:', id_rus)\n",
    "\n",
    "pca = PCA(n_components=2)\n",
    "X_rus_pca = pca.fit_transform(ss.fit_transform(X_rus))\n",
    "plot_2d_space(X_rus_pca, y_rus, 'Random under-sampling')"
   ]
  },
  {
   "cell_type": "code",
   "execution_count": 159,
   "metadata": {},
   "outputs": [
    {
     "name": "stdout",
     "output_type": "stream",
     "text": [
      "Method: BalancedRandomForestClassifier with RandomUnderSampler resampling and uncalibrated probabilities\n",
      "Goals: 160.80\n",
      "Predicted Goals: 158.81\n",
      "MCC: 0.236\n",
      "Brier Loss: 0.237\n",
      "F1_score: 61.70%\n",
      "Recall_score: 61.95%\n",
      "Accuracy: 61.69%\n",
      "\n"
     ]
    },
    {
     "data": {
      "text/html": [
       "<div>\n",
       "<style scoped>\n",
       "    .dataframe tbody tr th:only-of-type {\n",
       "        vertical-align: middle;\n",
       "    }\n",
       "\n",
       "    .dataframe tbody tr th {\n",
       "        vertical-align: top;\n",
       "    }\n",
       "\n",
       "    .dataframe thead th {\n",
       "        text-align: right;\n",
       "    }\n",
       "</style>\n",
       "<table border=\"1\" class=\"dataframe\">\n",
       "  <thead>\n",
       "    <tr style=\"text-align: right;\">\n",
       "      <th></th>\n",
       "      <th>mcc</th>\n",
       "      <th>brier_loss</th>\n",
       "      <th>actual_goals</th>\n",
       "      <th>predicted_goals</th>\n",
       "      <th>goals_diff</th>\n",
       "      <th>f1</th>\n",
       "      <th>recall</th>\n",
       "      <th>accuracy</th>\n",
       "    </tr>\n",
       "  </thead>\n",
       "  <tbody>\n",
       "    <tr>\n",
       "      <th>0</th>\n",
       "      <td>0.242255</td>\n",
       "      <td>0.239926</td>\n",
       "      <td>161</td>\n",
       "      <td>157.007850</td>\n",
       "      <td>3.992150</td>\n",
       "      <td>0.623457</td>\n",
       "      <td>0.627329</td>\n",
       "      <td>0.621118</td>\n",
       "    </tr>\n",
       "    <tr>\n",
       "      <th>1</th>\n",
       "      <td>0.174483</td>\n",
       "      <td>0.248572</td>\n",
       "      <td>161</td>\n",
       "      <td>167.127771</td>\n",
       "      <td>6.127771</td>\n",
       "      <td>0.602985</td>\n",
       "      <td>0.627329</td>\n",
       "      <td>0.586957</td>\n",
       "    </tr>\n",
       "    <tr>\n",
       "      <th>2</th>\n",
       "      <td>0.243441</td>\n",
       "      <td>0.234856</td>\n",
       "      <td>161</td>\n",
       "      <td>154.049050</td>\n",
       "      <td>6.950950</td>\n",
       "      <td>0.601307</td>\n",
       "      <td>0.571429</td>\n",
       "      <td>0.621118</td>\n",
       "    </tr>\n",
       "    <tr>\n",
       "      <th>3</th>\n",
       "      <td>0.297129</td>\n",
       "      <td>0.227022</td>\n",
       "      <td>161</td>\n",
       "      <td>139.645837</td>\n",
       "      <td>21.354163</td>\n",
       "      <td>0.609589</td>\n",
       "      <td>0.552795</td>\n",
       "      <td>0.645963</td>\n",
       "    </tr>\n",
       "    <tr>\n",
       "      <th>4</th>\n",
       "      <td>0.224179</td>\n",
       "      <td>0.233951</td>\n",
       "      <td>160</td>\n",
       "      <td>176.222534</td>\n",
       "      <td>16.222534</td>\n",
       "      <td>0.647887</td>\n",
       "      <td>0.718750</td>\n",
       "      <td>0.609375</td>\n",
       "    </tr>\n",
       "  </tbody>\n",
       "</table>\n",
       "</div>"
      ],
      "text/plain": [
       "        mcc  brier_loss  actual_goals  predicted_goals  goals_diff        f1  \\\n",
       "0  0.242255    0.239926           161       157.007850    3.992150  0.623457   \n",
       "1  0.174483    0.248572           161       167.127771    6.127771  0.602985   \n",
       "2  0.243441    0.234856           161       154.049050    6.950950  0.601307   \n",
       "3  0.297129    0.227022           161       139.645837   21.354163  0.609589   \n",
       "4  0.224179    0.233951           160       176.222534   16.222534  0.647887   \n",
       "\n",
       "     recall  accuracy  \n",
       "0  0.627329  0.621118  \n",
       "1  0.627329  0.586957  \n",
       "2  0.571429  0.621118  \n",
       "3  0.552795  0.645963  \n",
       "4  0.718750  0.609375  "
      ]
     },
     "execution_count": 159,
     "metadata": {},
     "output_type": "execute_result"
    }
   ],
   "source": [
    "test_resampling(brf, X_rus, y_rus, 'RandomUnderSampler')"
   ]
  },
  {
   "cell_type": "code",
   "execution_count": 160,
   "metadata": {},
   "outputs": [
    {
     "name": "stdout",
     "output_type": "stream",
     "text": [
      "Method: AdaBoostClassifier with RandomUnderSampler resampling and uncalibrated probabilities\n",
      "Goals: 160.80\n",
      "Predicted Goals: 159.96\n",
      "MCC: 0.219\n",
      "Brier Loss: 0.249\n",
      "F1_score: 63.53%\n",
      "Recall_score: 68.80%\n",
      "Accuracy: 60.63%\n",
      "\n"
     ]
    },
    {
     "data": {
      "text/html": [
       "<div>\n",
       "<style scoped>\n",
       "    .dataframe tbody tr th:only-of-type {\n",
       "        vertical-align: middle;\n",
       "    }\n",
       "\n",
       "    .dataframe tbody tr th {\n",
       "        vertical-align: top;\n",
       "    }\n",
       "\n",
       "    .dataframe thead th {\n",
       "        text-align: right;\n",
       "    }\n",
       "</style>\n",
       "<table border=\"1\" class=\"dataframe\">\n",
       "  <thead>\n",
       "    <tr style=\"text-align: right;\">\n",
       "      <th></th>\n",
       "      <th>mcc</th>\n",
       "      <th>brier_loss</th>\n",
       "      <th>actual_goals</th>\n",
       "      <th>predicted_goals</th>\n",
       "      <th>goals_diff</th>\n",
       "      <th>f1</th>\n",
       "      <th>recall</th>\n",
       "      <th>accuracy</th>\n",
       "    </tr>\n",
       "  </thead>\n",
       "  <tbody>\n",
       "    <tr>\n",
       "      <th>0</th>\n",
       "      <td>0.231608</td>\n",
       "      <td>0.247823</td>\n",
       "      <td>161</td>\n",
       "      <td>158.102006</td>\n",
       "      <td>2.897994</td>\n",
       "      <td>0.637427</td>\n",
       "      <td>0.677019</td>\n",
       "      <td>0.614907</td>\n",
       "    </tr>\n",
       "    <tr>\n",
       "      <th>1</th>\n",
       "      <td>0.123635</td>\n",
       "      <td>0.250158</td>\n",
       "      <td>161</td>\n",
       "      <td>161.367780</td>\n",
       "      <td>0.367780</td>\n",
       "      <td>0.616216</td>\n",
       "      <td>0.708075</td>\n",
       "      <td>0.559006</td>\n",
       "    </tr>\n",
       "    <tr>\n",
       "      <th>2</th>\n",
       "      <td>0.273424</td>\n",
       "      <td>0.248307</td>\n",
       "      <td>161</td>\n",
       "      <td>160.396063</td>\n",
       "      <td>0.603937</td>\n",
       "      <td>0.630915</td>\n",
       "      <td>0.621118</td>\n",
       "      <td>0.636646</td>\n",
       "    </tr>\n",
       "    <tr>\n",
       "      <th>3</th>\n",
       "      <td>0.279849</td>\n",
       "      <td>0.247971</td>\n",
       "      <td>161</td>\n",
       "      <td>159.784581</td>\n",
       "      <td>1.215419</td>\n",
       "      <td>0.630573</td>\n",
       "      <td>0.614907</td>\n",
       "      <td>0.639752</td>\n",
       "    </tr>\n",
       "    <tr>\n",
       "      <th>4</th>\n",
       "      <td>0.184662</td>\n",
       "      <td>0.250285</td>\n",
       "      <td>160</td>\n",
       "      <td>160.170720</td>\n",
       "      <td>0.170720</td>\n",
       "      <td>0.661616</td>\n",
       "      <td>0.818750</td>\n",
       "      <td>0.581250</td>\n",
       "    </tr>\n",
       "  </tbody>\n",
       "</table>\n",
       "</div>"
      ],
      "text/plain": [
       "        mcc  brier_loss  actual_goals  predicted_goals  goals_diff        f1  \\\n",
       "0  0.231608    0.247823           161       158.102006    2.897994  0.637427   \n",
       "1  0.123635    0.250158           161       161.367780    0.367780  0.616216   \n",
       "2  0.273424    0.248307           161       160.396063    0.603937  0.630915   \n",
       "3  0.279849    0.247971           161       159.784581    1.215419  0.630573   \n",
       "4  0.184662    0.250285           160       160.170720    0.170720  0.661616   \n",
       "\n",
       "     recall  accuracy  \n",
       "0  0.677019  0.614907  \n",
       "1  0.708075  0.559006  \n",
       "2  0.621118  0.636646  \n",
       "3  0.614907  0.639752  \n",
       "4  0.818750  0.581250  "
      ]
     },
     "execution_count": 160,
     "metadata": {},
     "output_type": "execute_result"
    }
   ],
   "source": [
    "test_resampling(ab, X_rus, y_rus, 'RandomUnderSampler')"
   ]
  },
  {
   "cell_type": "code",
   "execution_count": 161,
   "metadata": {},
   "outputs": [
    {
     "name": "stdout",
     "output_type": "stream",
     "text": [
      "Method: XGBClassifier with RandomUnderSampler resampling and uncalibrated probabilities\n",
      "Goals: 160.80\n",
      "Predicted Goals: 152.98\n",
      "MCC: 0.221\n",
      "Brier Loss: 0.246\n",
      "F1_score: 60.60%\n",
      "Recall_score: 62.83%\n",
      "Accuracy: 60.57%\n",
      "\n"
     ]
    },
    {
     "data": {
      "text/html": [
       "<div>\n",
       "<style scoped>\n",
       "    .dataframe tbody tr th:only-of-type {\n",
       "        vertical-align: middle;\n",
       "    }\n",
       "\n",
       "    .dataframe tbody tr th {\n",
       "        vertical-align: top;\n",
       "    }\n",
       "\n",
       "    .dataframe thead th {\n",
       "        text-align: right;\n",
       "    }\n",
       "</style>\n",
       "<table border=\"1\" class=\"dataframe\">\n",
       "  <thead>\n",
       "    <tr style=\"text-align: right;\">\n",
       "      <th></th>\n",
       "      <th>mcc</th>\n",
       "      <th>brier_loss</th>\n",
       "      <th>actual_goals</th>\n",
       "      <th>predicted_goals</th>\n",
       "      <th>goals_diff</th>\n",
       "      <th>f1</th>\n",
       "      <th>recall</th>\n",
       "      <th>accuracy</th>\n",
       "    </tr>\n",
       "  </thead>\n",
       "  <tbody>\n",
       "    <tr>\n",
       "      <th>0</th>\n",
       "      <td>0.235116</td>\n",
       "      <td>0.250002</td>\n",
       "      <td>161</td>\n",
       "      <td>137.980274</td>\n",
       "      <td>23.019726</td>\n",
       "      <td>0.569444</td>\n",
       "      <td>0.509317</td>\n",
       "      <td>0.614907</td>\n",
       "    </tr>\n",
       "    <tr>\n",
       "      <th>1</th>\n",
       "      <td>0.116490</td>\n",
       "      <td>0.256710</td>\n",
       "      <td>161</td>\n",
       "      <td>189.053743</td>\n",
       "      <td>28.053743</td>\n",
       "      <td>0.630769</td>\n",
       "      <td>0.763975</td>\n",
       "      <td>0.552795</td>\n",
       "    </tr>\n",
       "    <tr>\n",
       "      <th>2</th>\n",
       "      <td>0.323037</td>\n",
       "      <td>0.234831</td>\n",
       "      <td>161</td>\n",
       "      <td>140.333765</td>\n",
       "      <td>20.666235</td>\n",
       "      <td>0.658307</td>\n",
       "      <td>0.652174</td>\n",
       "      <td>0.661491</td>\n",
       "    </tr>\n",
       "    <tr>\n",
       "      <th>3</th>\n",
       "      <td>0.179772</td>\n",
       "      <td>0.256191</td>\n",
       "      <td>161</td>\n",
       "      <td>117.092612</td>\n",
       "      <td>43.907388</td>\n",
       "      <td>0.492424</td>\n",
       "      <td>0.403727</td>\n",
       "      <td>0.583851</td>\n",
       "    </tr>\n",
       "    <tr>\n",
       "      <th>4</th>\n",
       "      <td>0.251573</td>\n",
       "      <td>0.232940</td>\n",
       "      <td>160</td>\n",
       "      <td>180.428066</td>\n",
       "      <td>20.428066</td>\n",
       "      <td>0.678851</td>\n",
       "      <td>0.812500</td>\n",
       "      <td>0.615625</td>\n",
       "    </tr>\n",
       "  </tbody>\n",
       "</table>\n",
       "</div>"
      ],
      "text/plain": [
       "        mcc  brier_loss  actual_goals  predicted_goals  goals_diff        f1  \\\n",
       "0  0.235116    0.250002           161       137.980274   23.019726  0.569444   \n",
       "1  0.116490    0.256710           161       189.053743   28.053743  0.630769   \n",
       "2  0.323037    0.234831           161       140.333765   20.666235  0.658307   \n",
       "3  0.179772    0.256191           161       117.092612   43.907388  0.492424   \n",
       "4  0.251573    0.232940           160       180.428066   20.428066  0.678851   \n",
       "\n",
       "     recall  accuracy  \n",
       "0  0.509317  0.614907  \n",
       "1  0.763975  0.552795  \n",
       "2  0.652174  0.661491  \n",
       "3  0.403727  0.583851  \n",
       "4  0.812500  0.615625  "
      ]
     },
     "execution_count": 161,
     "metadata": {},
     "output_type": "execute_result"
    }
   ],
   "source": [
    "test_resampling(xgb, X_rus, y_rus, 'RandomUnderSampler')"
   ]
  },
  {
   "cell_type": "code",
   "execution_count": 162,
   "metadata": {},
   "outputs": [
    {
     "name": "stdout",
     "output_type": "stream",
     "text": [
      "530860 new random picked points\n"
     ]
    },
    {
     "data": {
      "image/png": "[encoded data removed]",
      "text/plain": [
       "<Figure size 432x288 with 1 Axes>"
      ]
     },
     "metadata": {
      "needs_background": "light"
     },
     "output_type": "display_data"
    }
   ],
   "source": [
    "from imblearn.over_sampling import RandomOverSampler\n",
    "\n",
    "# split data into X and y\n",
    "X = pd.DataFrame(df_subset[['sexe','age','anciennete','anciennete_em','taux_uc','vac_euro_net','capres']])\n",
    "y = df_subset.arb\n",
    "\n",
    "# split data into train and test sets\n",
    "seed = 7\n",
    "test_size = 0.33\n",
    "X_train, X_test, y_train, y_test = train_test_split(X, y, test_size=test_size, random_state=seed)\n",
    "\n",
    "# Normalize the data\n",
    "X_train_sdt = pd.DataFrame(ss.fit_transform(X_train),columns = X_train.columns)\n",
    "X_test_sdt = pd.DataFrame(ss.fit_transform(X_test),columns = X_test.columns)\n",
    "\n",
    "ros = RandomOverSampler()\n",
    "X_ros, y_ros = ros.fit_sample(X_train_sdt, y_train)\n",
    "X_ros = pd.DataFrame(X_ros, columns = X_train_sdt.columns)\n",
    "\n",
    "print(X_ros.shape[0] - X_train_sdt.shape[0], 'new random picked points')\n",
    "\n",
    "pca = PCA(n_components=2)\n",
    "X_ros_pca = pca.fit_transform(X_ros)\n",
    "plot_2d_space(X_ros_pca, y_ros, 'Random over-sampling')"
   ]
  },
  {
   "cell_type": "code",
   "execution_count": 163,
   "metadata": {},
   "outputs": [
    {
     "name": "stdout",
     "output_type": "stream",
     "text": [
      "Method: BalancedRandomForestClassifier with RandomUnderSampler resampling and uncalibrated probabilities\n",
      "Goals: 106332.80\n",
      "Predicted Goals: 56974.55\n",
      "MCC: 0.638\n",
      "Brier Loss: 0.152\n",
      "F1_score: 72.92%\n",
      "Recall_score: 57.95%\n",
      "Accuracy: 78.92%\n",
      "\n"
     ]
    },
    {
     "data": {
      "text/html": [
       "<div>\n",
       "<style scoped>\n",
       "    .dataframe tbody tr th:only-of-type {\n",
       "        vertical-align: middle;\n",
       "    }\n",
       "\n",
       "    .dataframe tbody tr th {\n",
       "        vertical-align: top;\n",
       "    }\n",
       "\n",
       "    .dataframe thead th {\n",
       "        text-align: right;\n",
       "    }\n",
       "</style>\n",
       "<table border=\"1\" class=\"dataframe\">\n",
       "  <thead>\n",
       "    <tr style=\"text-align: right;\">\n",
       "      <th></th>\n",
       "      <th>mcc</th>\n",
       "      <th>brier_loss</th>\n",
       "      <th>actual_goals</th>\n",
       "      <th>predicted_goals</th>\n",
       "      <th>goals_diff</th>\n",
       "      <th>f1</th>\n",
       "      <th>recall</th>\n",
       "      <th>accuracy</th>\n",
       "    </tr>\n",
       "  </thead>\n",
       "  <tbody>\n",
       "    <tr>\n",
       "      <th>0</th>\n",
       "      <td>0.681851</td>\n",
       "      <td>0.140365</td>\n",
       "      <td>106333</td>\n",
       "      <td>59985.219331</td>\n",
       "      <td>46347.780669</td>\n",
       "      <td>0.777612</td>\n",
       "      <td>0.636961</td>\n",
       "      <td>0.817836</td>\n",
       "    </tr>\n",
       "    <tr>\n",
       "      <th>1</th>\n",
       "      <td>0.624140</td>\n",
       "      <td>0.149033</td>\n",
       "      <td>106333</td>\n",
       "      <td>55315.212125</td>\n",
       "      <td>51017.787875</td>\n",
       "      <td>0.719353</td>\n",
       "      <td>0.562149</td>\n",
       "      <td>0.780684</td>\n",
       "    </tr>\n",
       "    <tr>\n",
       "      <th>2</th>\n",
       "      <td>0.725109</td>\n",
       "      <td>0.124366</td>\n",
       "      <td>106333</td>\n",
       "      <td>66054.187154</td>\n",
       "      <td>40278.812846</td>\n",
       "      <td>0.816763</td>\n",
       "      <td>0.691084</td>\n",
       "      <td>0.844959</td>\n",
       "    </tr>\n",
       "    <tr>\n",
       "      <th>3</th>\n",
       "      <td>0.522294</td>\n",
       "      <td>0.194578</td>\n",
       "      <td>106333</td>\n",
       "      <td>46898.707457</td>\n",
       "      <td>59434.292543</td>\n",
       "      <td>0.601257</td>\n",
       "      <td>0.430158</td>\n",
       "      <td>0.714726</td>\n",
       "    </tr>\n",
       "    <tr>\n",
       "      <th>4</th>\n",
       "      <td>0.634828</td>\n",
       "      <td>0.151632</td>\n",
       "      <td>106332</td>\n",
       "      <td>56619.405738</td>\n",
       "      <td>49712.594262</td>\n",
       "      <td>0.731208</td>\n",
       "      <td>0.577126</td>\n",
       "      <td>0.787848</td>\n",
       "    </tr>\n",
       "  </tbody>\n",
       "</table>\n",
       "</div>"
      ],
      "text/plain": [
       "        mcc  brier_loss  actual_goals  predicted_goals    goals_diff  \\\n",
       "0  0.681851    0.140365        106333     59985.219331  46347.780669   \n",
       "1  0.624140    0.149033        106333     55315.212125  51017.787875   \n",
       "2  0.725109    0.124366        106333     66054.187154  40278.812846   \n",
       "3  0.522294    0.194578        106333     46898.707457  59434.292543   \n",
       "4  0.634828    0.151632        106332     56619.405738  49712.594262   \n",
       "\n",
       "         f1    recall  accuracy  \n",
       "0  0.777612  0.636961  0.817836  \n",
       "1  0.719353  0.562149  0.780684  \n",
       "2  0.816763  0.691084  0.844959  \n",
       "3  0.601257  0.430158  0.714726  \n",
       "4  0.731208  0.577126  0.787848  "
      ]
     },
     "execution_count": 163,
     "metadata": {},
     "output_type": "execute_result"
    }
   ],
   "source": [
    "test_resampling(brf, X_ros, y_ros, 'RandomOverSampler')"
   ]
  },
  {
   "cell_type": "code",
   "execution_count": 164,
   "metadata": {},
   "outputs": [
    {
     "name": "stdout",
     "output_type": "stream",
     "text": [
      "Method: AdaBoostClassifier with RandomOverSampler resampling and uncalibrated probabilities\n",
      "Goals: 106332.80\n",
      "Predicted Goals: 106252.95\n",
      "MCC: 0.339\n",
      "Brier Loss: 0.249\n",
      "F1_score: 68.40%\n",
      "Recall_score: 71.71%\n",
      "Accuracy: 66.88%\n",
      "\n"
     ]
    },
    {
     "data": {
      "text/html": [
       "<div>\n",
       "<style scoped>\n",
       "    .dataframe tbody tr th:only-of-type {\n",
       "        vertical-align: middle;\n",
       "    }\n",
       "\n",
       "    .dataframe tbody tr th {\n",
       "        vertical-align: top;\n",
       "    }\n",
       "\n",
       "    .dataframe thead th {\n",
       "        text-align: right;\n",
       "    }\n",
       "</style>\n",
       "<table border=\"1\" class=\"dataframe\">\n",
       "  <thead>\n",
       "    <tr style=\"text-align: right;\">\n",
       "      <th></th>\n",
       "      <th>mcc</th>\n",
       "      <th>brier_loss</th>\n",
       "      <th>actual_goals</th>\n",
       "      <th>predicted_goals</th>\n",
       "      <th>goals_diff</th>\n",
       "      <th>f1</th>\n",
       "      <th>recall</th>\n",
       "      <th>accuracy</th>\n",
       "    </tr>\n",
       "  </thead>\n",
       "  <tbody>\n",
       "    <tr>\n",
       "      <th>0</th>\n",
       "      <td>0.336614</td>\n",
       "      <td>0.249125</td>\n",
       "      <td>106333</td>\n",
       "      <td>106336.583320</td>\n",
       "      <td>3.583320</td>\n",
       "      <td>0.686590</td>\n",
       "      <td>0.729538</td>\n",
       "      <td>0.666985</td>\n",
       "    </tr>\n",
       "    <tr>\n",
       "      <th>1</th>\n",
       "      <td>0.343063</td>\n",
       "      <td>0.248969</td>\n",
       "      <td>106333</td>\n",
       "      <td>106286.483121</td>\n",
       "      <td>46.516879</td>\n",
       "      <td>0.685951</td>\n",
       "      <td>0.719212</td>\n",
       "      <td>0.670723</td>\n",
       "    </tr>\n",
       "    <tr>\n",
       "      <th>2</th>\n",
       "      <td>0.334515</td>\n",
       "      <td>0.248723</td>\n",
       "      <td>106333</td>\n",
       "      <td>106190.335293</td>\n",
       "      <td>142.664707</td>\n",
       "      <td>0.681219</td>\n",
       "      <td>0.712573</td>\n",
       "      <td>0.666548</td>\n",
       "    </tr>\n",
       "    <tr>\n",
       "      <th>3</th>\n",
       "      <td>0.333411</td>\n",
       "      <td>0.248673</td>\n",
       "      <td>106333</td>\n",
       "      <td>106161.072446</td>\n",
       "      <td>171.927554</td>\n",
       "      <td>0.677903</td>\n",
       "      <td>0.702388</td>\n",
       "      <td>0.666270</td>\n",
       "    </tr>\n",
       "    <tr>\n",
       "      <th>4</th>\n",
       "      <td>0.348267</td>\n",
       "      <td>0.248980</td>\n",
       "      <td>106332</td>\n",
       "      <td>106290.266520</td>\n",
       "      <td>41.733480</td>\n",
       "      <td>0.688399</td>\n",
       "      <td>0.721721</td>\n",
       "      <td>0.673316</td>\n",
       "    </tr>\n",
       "  </tbody>\n",
       "</table>\n",
       "</div>"
      ],
      "text/plain": [
       "        mcc  brier_loss  actual_goals  predicted_goals  goals_diff        f1  \\\n",
       "0  0.336614    0.249125        106333    106336.583320    3.583320  0.686590   \n",
       "1  0.343063    0.248969        106333    106286.483121   46.516879  0.685951   \n",
       "2  0.334515    0.248723        106333    106190.335293  142.664707  0.681219   \n",
       "3  0.333411    0.248673        106333    106161.072446  171.927554  0.677903   \n",
       "4  0.348267    0.248980        106332    106290.266520   41.733480  0.688399   \n",
       "\n",
       "     recall  accuracy  \n",
       "0  0.729538  0.666985  \n",
       "1  0.719212  0.670723  \n",
       "2  0.712573  0.666548  \n",
       "3  0.702388  0.666270  \n",
       "4  0.721721  0.673316  "
      ]
     },
     "execution_count": 164,
     "metadata": {},
     "output_type": "execute_result"
    }
   ],
   "source": [
    "test_resampling(ab, X_ros, y_ros, 'RandomOverSampler')"
   ]
  },
  {
   "cell_type": "code",
   "execution_count": 165,
   "metadata": {},
   "outputs": [
    {
     "name": "stdout",
     "output_type": "stream",
     "text": [
      "Method: XGBClassifier with RandomOverSampler resampling and uncalibrated probabilities\n",
      "Goals: 106332.80\n",
      "Predicted Goals: 105022.04\n",
      "MCC: 0.378\n",
      "Brier Loss: 0.202\n",
      "F1_score: 70.40%\n",
      "Recall_score: 74.29%\n",
      "Accuracy: 68.78%\n",
      "\n"
     ]
    },
    {
     "data": {
      "text/html": [
       "<div>\n",
       "<style scoped>\n",
       "    .dataframe tbody tr th:only-of-type {\n",
       "        vertical-align: middle;\n",
       "    }\n",
       "\n",
       "    .dataframe tbody tr th {\n",
       "        vertical-align: top;\n",
       "    }\n",
       "\n",
       "    .dataframe thead th {\n",
       "        text-align: right;\n",
       "    }\n",
       "</style>\n",
       "<table border=\"1\" class=\"dataframe\">\n",
       "  <thead>\n",
       "    <tr style=\"text-align: right;\">\n",
       "      <th></th>\n",
       "      <th>mcc</th>\n",
       "      <th>brier_loss</th>\n",
       "      <th>actual_goals</th>\n",
       "      <th>predicted_goals</th>\n",
       "      <th>goals_diff</th>\n",
       "      <th>f1</th>\n",
       "      <th>recall</th>\n",
       "      <th>accuracy</th>\n",
       "    </tr>\n",
       "  </thead>\n",
       "  <tbody>\n",
       "    <tr>\n",
       "      <th>0</th>\n",
       "      <td>0.388607</td>\n",
       "      <td>0.202912</td>\n",
       "      <td>106333</td>\n",
       "      <td>108591.811484</td>\n",
       "      <td>2258.811484</td>\n",
       "      <td>0.712035</td>\n",
       "      <td>0.760319</td>\n",
       "      <td>0.692508</td>\n",
       "    </tr>\n",
       "    <tr>\n",
       "      <th>1</th>\n",
       "      <td>0.382822</td>\n",
       "      <td>0.200842</td>\n",
       "      <td>106333</td>\n",
       "      <td>106301.614796</td>\n",
       "      <td>31.385204</td>\n",
       "      <td>0.707003</td>\n",
       "      <td>0.747698</td>\n",
       "      <td>0.690139</td>\n",
       "    </tr>\n",
       "    <tr>\n",
       "      <th>2</th>\n",
       "      <td>0.362440</td>\n",
       "      <td>0.203072</td>\n",
       "      <td>106333</td>\n",
       "      <td>101927.637701</td>\n",
       "      <td>4405.362299</td>\n",
       "      <td>0.693977</td>\n",
       "      <td>0.724498</td>\n",
       "      <td>0.680518</td>\n",
       "    </tr>\n",
       "    <tr>\n",
       "      <th>3</th>\n",
       "      <td>0.369076</td>\n",
       "      <td>0.204156</td>\n",
       "      <td>106333</td>\n",
       "      <td>101712.719191</td>\n",
       "      <td>4620.280809</td>\n",
       "      <td>0.698462</td>\n",
       "      <td>0.732783</td>\n",
       "      <td>0.683645</td>\n",
       "    </tr>\n",
       "    <tr>\n",
       "      <th>4</th>\n",
       "      <td>0.386723</td>\n",
       "      <td>0.199673</td>\n",
       "      <td>106332</td>\n",
       "      <td>106576.400826</td>\n",
       "      <td>244.400826</td>\n",
       "      <td>0.708752</td>\n",
       "      <td>0.749295</td>\n",
       "      <td>0.692092</td>\n",
       "    </tr>\n",
       "  </tbody>\n",
       "</table>\n",
       "</div>"
      ],
      "text/plain": [
       "        mcc  brier_loss  actual_goals  predicted_goals   goals_diff        f1  \\\n",
       "0  0.388607    0.202912        106333    108591.811484  2258.811484  0.712035   \n",
       "1  0.382822    0.200842        106333    106301.614796    31.385204  0.707003   \n",
       "2  0.362440    0.203072        106333    101927.637701  4405.362299  0.693977   \n",
       "3  0.369076    0.204156        106333    101712.719191  4620.280809  0.698462   \n",
       "4  0.386723    0.199673        106332    106576.400826   244.400826  0.708752   \n",
       "\n",
       "     recall  accuracy  \n",
       "0  0.760319  0.692508  \n",
       "1  0.747698  0.690139  \n",
       "2  0.724498  0.680518  \n",
       "3  0.732783  0.683645  \n",
       "4  0.749295  0.692092  "
      ]
     },
     "execution_count": 165,
     "metadata": {},
     "output_type": "execute_result"
    }
   ],
   "source": [
    "test_resampling(xgb, X_ros, y_ros, 'RandomOverSampler')"
   ]
  },
  {
   "cell_type": "code",
   "execution_count": 166,
   "metadata": {},
   "outputs": [
    {
     "name": "stdout",
     "output_type": "stream",
     "text": [
      "Removed indexes: [     0      1      2 ... 532465 532466 532467]\n",
      "532468 total examples in y_train\n",
      "class 0: 531664 examples, 99.85%\n",
      "class 1: 804 examples, 0.15%\n",
      "\n",
      "None\n",
      "532231 total examples in y_tl\n",
      "class 0: 531427 examples, 99.85%\n",
      "class 1: 804 examples, 0.15%\n",
      "\n",
      "None\n"
     ]
    },
    {
     "data": {
      "image/png": "[encoded data removed]",
      "text/plain": [
       "<Figure size 432x288 with 1 Axes>"
      ]
     },
     "metadata": {
      "needs_background": "light"
     },
     "output_type": "display_data"
    }
   ],
   "source": [
    "# Under-sampling: Tomek links\n",
    "from imblearn.under_sampling import TomekLinks\n",
    "\n",
    "# split data into X and y\n",
    "X = pd.DataFrame(df_subset[['sexe','age','anciennete','anciennete_em','taux_uc','vac_euro_net','capres']])\n",
    "y = df_subset.arb\n",
    "\n",
    "# split data into train and test sets\n",
    "seed = 7\n",
    "test_size = 0.33\n",
    "X_train, X_test, y_train, y_test = train_test_split(X, y, test_size=test_size, random_state=seed)\n",
    "\n",
    "# Normalize the data\n",
    "X_train_std = pd.DataFrame(ss.fit_transform(X_train),columns = X_train.columns)\n",
    "X_test_std = pd.DataFrame(ss.fit_transform(X_test),columns = X_test.columns)\n",
    "\n",
    "tl = TomekLinks(return_indices=True, ratio='majority')\n",
    "X_tl, y_tl, id_tl = tl.fit_sample(X_train_std, y_train)\n",
    "X_tl = pd.DataFrame(X_tl, columns = X_train_std.columns)\n",
    "\n",
    "print('Removed indexes:', id_tl)\n",
    "print(get_class_dist(data=y_train, name='y_train'))\n",
    "print(get_class_dist(data=y_tl, name='y_tl'))\n",
    "\n",
    "pca = PCA(n_components=2)\n",
    "X_tl_pca = pca.fit_transform(X_tl)\n",
    "plot_2d_space(X_tl_pca, y_tl, 'Tomek links under-sampling')"
   ]
  },
  {
   "cell_type": "code",
   "execution_count": 167,
   "metadata": {},
   "outputs": [
    {
     "name": "stdout",
     "output_type": "stream",
     "text": [
      "Method: BalancedRandomForestClassifier with Tomek links under-sampling resampling and uncalibrated probabilities\n",
      "Goals: 160.80\n",
      "Predicted Goals: 47576.77\n",
      "MCC: 0.020\n",
      "Brier Loss: 0.231\n",
      "F1_score: 0.49%\n",
      "Recall_score: 66.29%\n",
      "Accuracy: 59.39%\n",
      "\n"
     ]
    },
    {
     "data": {
      "text/html": [
       "<div>\n",
       "<style scoped>\n",
       "    .dataframe tbody tr th:only-of-type {\n",
       "        vertical-align: middle;\n",
       "    }\n",
       "\n",
       "    .dataframe tbody tr th {\n",
       "        vertical-align: top;\n",
       "    }\n",
       "\n",
       "    .dataframe thead th {\n",
       "        text-align: right;\n",
       "    }\n",
       "</style>\n",
       "<table border=\"1\" class=\"dataframe\">\n",
       "  <thead>\n",
       "    <tr style=\"text-align: right;\">\n",
       "      <th></th>\n",
       "      <th>mcc</th>\n",
       "      <th>brier_loss</th>\n",
       "      <th>actual_goals</th>\n",
       "      <th>predicted_goals</th>\n",
       "      <th>goals_diff</th>\n",
       "      <th>f1</th>\n",
       "      <th>recall</th>\n",
       "      <th>accuracy</th>\n",
       "    </tr>\n",
       "  </thead>\n",
       "  <tbody>\n",
       "    <tr>\n",
       "      <th>0</th>\n",
       "      <td>0.017241</td>\n",
       "      <td>0.218979</td>\n",
       "      <td>161</td>\n",
       "      <td>45359.499002</td>\n",
       "      <td>45198.499002</td>\n",
       "      <td>0.004674</td>\n",
       "      <td>0.608696</td>\n",
       "      <td>0.607936</td>\n",
       "    </tr>\n",
       "    <tr>\n",
       "      <th>1</th>\n",
       "      <td>0.021814</td>\n",
       "      <td>0.224852</td>\n",
       "      <td>161</td>\n",
       "      <td>46690.868215</td>\n",
       "      <td>46529.868215</td>\n",
       "      <td>0.005121</td>\n",
       "      <td>0.664596</td>\n",
       "      <td>0.609411</td>\n",
       "    </tr>\n",
       "    <tr>\n",
       "      <th>2</th>\n",
       "      <td>0.021497</td>\n",
       "      <td>0.235280</td>\n",
       "      <td>161</td>\n",
       "      <td>48459.971024</td>\n",
       "      <td>48298.971024</td>\n",
       "      <td>0.005005</td>\n",
       "      <td>0.683230</td>\n",
       "      <td>0.589125</td>\n",
       "    </tr>\n",
       "    <tr>\n",
       "      <th>3</th>\n",
       "      <td>0.020473</td>\n",
       "      <td>0.242912</td>\n",
       "      <td>161</td>\n",
       "      <td>49712.068825</td>\n",
       "      <td>49551.068825</td>\n",
       "      <td>0.004843</td>\n",
       "      <td>0.689441</td>\n",
       "      <td>0.571482</td>\n",
       "    </tr>\n",
       "    <tr>\n",
       "      <th>4</th>\n",
       "      <td>0.020503</td>\n",
       "      <td>0.230580</td>\n",
       "      <td>160</td>\n",
       "      <td>47661.423270</td>\n",
       "      <td>47501.423270</td>\n",
       "      <td>0.004898</td>\n",
       "      <td>0.668750</td>\n",
       "      <td>0.591564</td>\n",
       "    </tr>\n",
       "  </tbody>\n",
       "</table>\n",
       "</div>"
      ],
      "text/plain": [
       "        mcc  brier_loss  actual_goals  predicted_goals    goals_diff  \\\n",
       "0  0.017241    0.218979           161     45359.499002  45198.499002   \n",
       "1  0.021814    0.224852           161     46690.868215  46529.868215   \n",
       "2  0.021497    0.235280           161     48459.971024  48298.971024   \n",
       "3  0.020473    0.242912           161     49712.068825  49551.068825   \n",
       "4  0.020503    0.230580           160     47661.423270  47501.423270   \n",
       "\n",
       "         f1    recall  accuracy  \n",
       "0  0.004674  0.608696  0.607936  \n",
       "1  0.005121  0.664596  0.609411  \n",
       "2  0.005005  0.683230  0.589125  \n",
       "3  0.004843  0.689441  0.571482  \n",
       "4  0.004898  0.668750  0.591564  "
      ]
     },
     "execution_count": 167,
     "metadata": {},
     "output_type": "execute_result"
    }
   ],
   "source": [
    "test_resampling(brf, X_tl, y_tl, 'Tomek links under-sampling')"
   ]
  },
  {
   "cell_type": "code",
   "execution_count": 168,
   "metadata": {},
   "outputs": [
    {
     "name": "stderr",
     "output_type": "stream",
     "text": [
      "/home/sylvain/miniconda3/lib/python3.7/site-packages/sklearn/metrics/classification.py:543: RuntimeWarning: invalid value encountered in double_scalars\n",
      "  mcc = cov_ytyp / np.sqrt(cov_ytyt * cov_ypyp)\n",
      "/home/sylvain/miniconda3/lib/python3.7/site-packages/sklearn/metrics/classification.py:1143: UndefinedMetricWarning: F-score is ill-defined and being set to 0.0 due to no predicted samples.\n",
      "  'precision', 'predicted', average, warn_for)\n",
      "/home/sylvain/miniconda3/lib/python3.7/site-packages/sklearn/metrics/classification.py:543: RuntimeWarning: invalid value encountered in double_scalars\n",
      "  mcc = cov_ytyp / np.sqrt(cov_ytyt * cov_ypyp)\n",
      "/home/sylvain/miniconda3/lib/python3.7/site-packages/sklearn/metrics/classification.py:1143: UndefinedMetricWarning: F-score is ill-defined and being set to 0.0 due to no predicted samples.\n",
      "  'precision', 'predicted', average, warn_for)\n",
      "/home/sylvain/miniconda3/lib/python3.7/site-packages/sklearn/metrics/classification.py:543: RuntimeWarning: invalid value encountered in double_scalars\n",
      "  mcc = cov_ytyp / np.sqrt(cov_ytyt * cov_ypyp)\n",
      "/home/sylvain/miniconda3/lib/python3.7/site-packages/sklearn/metrics/classification.py:1143: UndefinedMetricWarning: F-score is ill-defined and being set to 0.0 due to no predicted samples.\n",
      "  'precision', 'predicted', average, warn_for)\n"
     ]
    },
    {
     "name": "stdout",
     "output_type": "stream",
     "text": [
      "Method: AdaBoostClassifier with Tomek links under-sampling resampling and uncalibrated probabilities\n",
      "Goals: 160.80\n",
      "Predicted Goals: 51163.32\n",
      "MCC: -0.000\n",
      "Brier Loss: 0.231\n",
      "F1_score: 0.00%\n",
      "Recall_score: 0.00%\n",
      "Accuracy: 99.82%\n",
      "\n"
     ]
    },
    {
     "name": "stderr",
     "output_type": "stream",
     "text": [
      "/home/sylvain/miniconda3/lib/python3.7/site-packages/sklearn/metrics/classification.py:543: RuntimeWarning: invalid value encountered in double_scalars\n",
      "  mcc = cov_ytyp / np.sqrt(cov_ytyt * cov_ypyp)\n",
      "/home/sylvain/miniconda3/lib/python3.7/site-packages/sklearn/metrics/classification.py:1143: UndefinedMetricWarning: F-score is ill-defined and being set to 0.0 due to no predicted samples.\n",
      "  'precision', 'predicted', average, warn_for)\n"
     ]
    },
    {
     "data": {
      "text/html": [
       "<div>\n",
       "<style scoped>\n",
       "    .dataframe tbody tr th:only-of-type {\n",
       "        vertical-align: middle;\n",
       "    }\n",
       "\n",
       "    .dataframe tbody tr th {\n",
       "        vertical-align: top;\n",
       "    }\n",
       "\n",
       "    .dataframe thead th {\n",
       "        text-align: right;\n",
       "    }\n",
       "</style>\n",
       "<table border=\"1\" class=\"dataframe\">\n",
       "  <thead>\n",
       "    <tr style=\"text-align: right;\">\n",
       "      <th></th>\n",
       "      <th>mcc</th>\n",
       "      <th>brier_loss</th>\n",
       "      <th>actual_goals</th>\n",
       "      <th>predicted_goals</th>\n",
       "      <th>goals_diff</th>\n",
       "      <th>f1</th>\n",
       "      <th>recall</th>\n",
       "      <th>accuracy</th>\n",
       "    </tr>\n",
       "  </thead>\n",
       "  <tbody>\n",
       "    <tr>\n",
       "      <th>0</th>\n",
       "      <td>-0.001377</td>\n",
       "      <td>0.226426</td>\n",
       "      <td>161</td>\n",
       "      <td>50603.521697</td>\n",
       "      <td>50442.521697</td>\n",
       "      <td>0.0</td>\n",
       "      <td>0.0</td>\n",
       "      <td>0.997238</td>\n",
       "    </tr>\n",
       "    <tr>\n",
       "      <th>1</th>\n",
       "      <td>0.000000</td>\n",
       "      <td>0.230990</td>\n",
       "      <td>161</td>\n",
       "      <td>51144.113953</td>\n",
       "      <td>50983.113953</td>\n",
       "      <td>0.0</td>\n",
       "      <td>0.0</td>\n",
       "      <td>0.998488</td>\n",
       "    </tr>\n",
       "    <tr>\n",
       "      <th>2</th>\n",
       "      <td>0.000000</td>\n",
       "      <td>0.232989</td>\n",
       "      <td>161</td>\n",
       "      <td>51370.398650</td>\n",
       "      <td>51209.398650</td>\n",
       "      <td>0.0</td>\n",
       "      <td>0.0</td>\n",
       "      <td>0.998487</td>\n",
       "    </tr>\n",
       "    <tr>\n",
       "      <th>3</th>\n",
       "      <td>0.000000</td>\n",
       "      <td>0.233446</td>\n",
       "      <td>161</td>\n",
       "      <td>51423.802023</td>\n",
       "      <td>51262.802023</td>\n",
       "      <td>0.0</td>\n",
       "      <td>0.0</td>\n",
       "      <td>0.998487</td>\n",
       "    </tr>\n",
       "    <tr>\n",
       "      <th>4</th>\n",
       "      <td>0.000000</td>\n",
       "      <td>0.232152</td>\n",
       "      <td>160</td>\n",
       "      <td>51274.757511</td>\n",
       "      <td>51114.757511</td>\n",
       "      <td>0.0</td>\n",
       "      <td>0.0</td>\n",
       "      <td>0.998497</td>\n",
       "    </tr>\n",
       "  </tbody>\n",
       "</table>\n",
       "</div>"
      ],
      "text/plain": [
       "        mcc  brier_loss  actual_goals  predicted_goals    goals_diff   f1  \\\n",
       "0 -0.001377    0.226426           161     50603.521697  50442.521697  0.0   \n",
       "1  0.000000    0.230990           161     51144.113953  50983.113953  0.0   \n",
       "2  0.000000    0.232989           161     51370.398650  51209.398650  0.0   \n",
       "3  0.000000    0.233446           161     51423.802023  51262.802023  0.0   \n",
       "4  0.000000    0.232152           160     51274.757511  51114.757511  0.0   \n",
       "\n",
       "   recall  accuracy  \n",
       "0     0.0  0.997238  \n",
       "1     0.0  0.998488  \n",
       "2     0.0  0.998487  \n",
       "3     0.0  0.998487  \n",
       "4     0.0  0.998497  "
      ]
     },
     "execution_count": 168,
     "metadata": {},
     "output_type": "execute_result"
    }
   ],
   "source": [
    "test_resampling(ab, X_tl, y_tl, 'Tomek links under-sampling')"
   ]
  },
  {
   "cell_type": "code",
   "execution_count": 169,
   "metadata": {},
   "outputs": [
    {
     "name": "stderr",
     "output_type": "stream",
     "text": [
      "/home/sylvain/miniconda3/lib/python3.7/site-packages/sklearn/metrics/classification.py:543: RuntimeWarning: invalid value encountered in double_scalars\n",
      "  mcc = cov_ytyp / np.sqrt(cov_ytyt * cov_ypyp)\n",
      "/home/sylvain/miniconda3/lib/python3.7/site-packages/sklearn/metrics/classification.py:1143: UndefinedMetricWarning: F-score is ill-defined and being set to 0.0 due to no predicted samples.\n",
      "  'precision', 'predicted', average, warn_for)\n",
      "/home/sylvain/miniconda3/lib/python3.7/site-packages/sklearn/metrics/classification.py:543: RuntimeWarning: invalid value encountered in double_scalars\n",
      "  mcc = cov_ytyp / np.sqrt(cov_ytyt * cov_ypyp)\n",
      "/home/sylvain/miniconda3/lib/python3.7/site-packages/sklearn/metrics/classification.py:1143: UndefinedMetricWarning: F-score is ill-defined and being set to 0.0 due to no predicted samples.\n",
      "  'precision', 'predicted', average, warn_for)\n",
      "/home/sylvain/miniconda3/lib/python3.7/site-packages/sklearn/metrics/classification.py:543: RuntimeWarning: invalid value encountered in double_scalars\n",
      "  mcc = cov_ytyp / np.sqrt(cov_ytyt * cov_ypyp)\n",
      "/home/sylvain/miniconda3/lib/python3.7/site-packages/sklearn/metrics/classification.py:1143: UndefinedMetricWarning: F-score is ill-defined and being set to 0.0 due to no predicted samples.\n",
      "  'precision', 'predicted', average, warn_for)\n",
      "/home/sylvain/miniconda3/lib/python3.7/site-packages/sklearn/metrics/classification.py:543: RuntimeWarning: invalid value encountered in double_scalars\n",
      "  mcc = cov_ytyp / np.sqrt(cov_ytyt * cov_ypyp)\n",
      "/home/sylvain/miniconda3/lib/python3.7/site-packages/sklearn/metrics/classification.py:1143: UndefinedMetricWarning: F-score is ill-defined and being set to 0.0 due to no predicted samples.\n",
      "  'precision', 'predicted', average, warn_for)\n"
     ]
    },
    {
     "name": "stdout",
     "output_type": "stream",
     "text": [
      "Method: XGBClassifier with Tomek links under-sampling resampling and uncalibrated probabilities\n",
      "Goals: 160.80\n",
      "Predicted Goals: 164.09\n",
      "MCC: 0.000\n",
      "Brier Loss: 0.002\n",
      "F1_score: 0.00%\n",
      "Recall_score: 0.00%\n",
      "Accuracy: 99.85%\n",
      "\n"
     ]
    },
    {
     "name": "stderr",
     "output_type": "stream",
     "text": [
      "/home/sylvain/miniconda3/lib/python3.7/site-packages/sklearn/metrics/classification.py:543: RuntimeWarning: invalid value encountered in double_scalars\n",
      "  mcc = cov_ytyp / np.sqrt(cov_ytyt * cov_ypyp)\n",
      "/home/sylvain/miniconda3/lib/python3.7/site-packages/sklearn/metrics/classification.py:1143: UndefinedMetricWarning: F-score is ill-defined and being set to 0.0 due to no predicted samples.\n",
      "  'precision', 'predicted', average, warn_for)\n"
     ]
    },
    {
     "data": {
      "text/html": [
       "<div>\n",
       "<style scoped>\n",
       "    .dataframe tbody tr th:only-of-type {\n",
       "        vertical-align: middle;\n",
       "    }\n",
       "\n",
       "    .dataframe tbody tr th {\n",
       "        vertical-align: top;\n",
       "    }\n",
       "\n",
       "    .dataframe thead th {\n",
       "        text-align: right;\n",
       "    }\n",
       "</style>\n",
       "<table border=\"1\" class=\"dataframe\">\n",
       "  <thead>\n",
       "    <tr style=\"text-align: right;\">\n",
       "      <th></th>\n",
       "      <th>mcc</th>\n",
       "      <th>brier_loss</th>\n",
       "      <th>actual_goals</th>\n",
       "      <th>predicted_goals</th>\n",
       "      <th>goals_diff</th>\n",
       "      <th>f1</th>\n",
       "      <th>recall</th>\n",
       "      <th>accuracy</th>\n",
       "    </tr>\n",
       "  </thead>\n",
       "  <tbody>\n",
       "    <tr>\n",
       "      <th>0</th>\n",
       "      <td>0.0</td>\n",
       "      <td>0.001509</td>\n",
       "      <td>161</td>\n",
       "      <td>155.640667</td>\n",
       "      <td>5.359333</td>\n",
       "      <td>0.0</td>\n",
       "      <td>0.0</td>\n",
       "      <td>0.998488</td>\n",
       "    </tr>\n",
       "    <tr>\n",
       "      <th>1</th>\n",
       "      <td>0.0</td>\n",
       "      <td>0.001509</td>\n",
       "      <td>161</td>\n",
       "      <td>155.430080</td>\n",
       "      <td>5.569920</td>\n",
       "      <td>0.0</td>\n",
       "      <td>0.0</td>\n",
       "      <td>0.998488</td>\n",
       "    </tr>\n",
       "    <tr>\n",
       "      <th>2</th>\n",
       "      <td>0.0</td>\n",
       "      <td>0.001509</td>\n",
       "      <td>161</td>\n",
       "      <td>167.674231</td>\n",
       "      <td>6.674231</td>\n",
       "      <td>0.0</td>\n",
       "      <td>0.0</td>\n",
       "      <td>0.998487</td>\n",
       "    </tr>\n",
       "    <tr>\n",
       "      <th>3</th>\n",
       "      <td>0.0</td>\n",
       "      <td>0.001510</td>\n",
       "      <td>161</td>\n",
       "      <td>182.284433</td>\n",
       "      <td>21.284433</td>\n",
       "      <td>0.0</td>\n",
       "      <td>0.0</td>\n",
       "      <td>0.998487</td>\n",
       "    </tr>\n",
       "    <tr>\n",
       "      <th>4</th>\n",
       "      <td>0.0</td>\n",
       "      <td>0.001500</td>\n",
       "      <td>160</td>\n",
       "      <td>159.397032</td>\n",
       "      <td>0.602968</td>\n",
       "      <td>0.0</td>\n",
       "      <td>0.0</td>\n",
       "      <td>0.998497</td>\n",
       "    </tr>\n",
       "  </tbody>\n",
       "</table>\n",
       "</div>"
      ],
      "text/plain": [
       "   mcc  brier_loss  actual_goals  predicted_goals  goals_diff   f1  recall  \\\n",
       "0  0.0    0.001509           161       155.640667    5.359333  0.0     0.0   \n",
       "1  0.0    0.001509           161       155.430080    5.569920  0.0     0.0   \n",
       "2  0.0    0.001509           161       167.674231    6.674231  0.0     0.0   \n",
       "3  0.0    0.001510           161       182.284433   21.284433  0.0     0.0   \n",
       "4  0.0    0.001500           160       159.397032    0.602968  0.0     0.0   \n",
       "\n",
       "   accuracy  \n",
       "0  0.998488  \n",
       "1  0.998488  \n",
       "2  0.998487  \n",
       "3  0.998487  \n",
       "4  0.998497  "
      ]
     },
     "execution_count": 169,
     "metadata": {},
     "output_type": "execute_result"
    }
   ],
   "source": [
    "test_resampling(xgb, X_tl, y_tl, 'Tomek links under-sampling')"
   ]
  },
  {
   "cell_type": "code",
   "execution_count": 531,
   "metadata": {},
   "outputs": [
    {
     "data": {
      "image/png": "[encoded data removed]",
      "text/plain": [
       "<Figure size 432x288 with 1 Axes>"
      ]
     },
     "metadata": {
      "needs_background": "light"
     },
     "output_type": "display_data"
    },
    {
     "name": "stdout",
     "output_type": "stream",
     "text": [
      "Accuracy: 0.15%\n"
     ]
    }
   ],
   "source": [
    "# Under-sampling: Cluster Centroids\n",
    "from imblearn.under_sampling import ClusterCentroids\n",
    "\n",
    "# split data into X and y\n",
    "X = pd.DataFrame(df_subset[['sexe','age','anciennete','anciennete_em','taux_uc','vac_euro_net','capres']])\n",
    "y = df_subset.arb\n",
    "\n",
    "# split data into train and test sets\n",
    "seed = 7\n",
    "test_size = 0.33\n",
    "X_train, X_test, y_train, y_test = train_test_split(X, y, test_size=test_size, random_state=seed)\n",
    "\n",
    "# Normalize the data\n",
    "X_train_sdt = pd.DataFrame(ss.fit_transform(X_train),columns = X_train.columns)\n",
    "X_test_sdt = pd.DataFrame(ss.fit_transform(X_test),columns = X_test.columns)\n",
    "\n",
    "cc = ClusterCentroids(ratio={0: 10})\n",
    "X_cc, y_cc = cc.fit_sample(X_train_sdt, y_train)\n",
    "X_cc = pd.DataFrame(X_cc, columns = X_train_sdt.columns)\n",
    "\n",
    "pca = PCA(n_components=2)\n",
    "X_cc_pca = pca.fit_transform(X_cc)\n",
    "plot_2d_space(X_cc_pca, y_cc, 'Cluster Centroids under-sampling')\n",
    "\n",
    "model = XGBClassifier()\n",
    "model.fit(X_cc, y_cc)\n",
    "y_pred = model.predict(X_test_sdt)\n",
    "\n",
    "accuracy = accuracy_score(y_test, y_pred)\n",
    "print(\"Accuracy: %.2f%%\" % (accuracy * 100.0))"
   ]
  },
  {
   "cell_type": "code",
   "execution_count": 170,
   "metadata": {},
   "outputs": [
    {
     "data": {
      "image/png": "[encoded data removed]",
      "text/plain": [
       "<Figure size 432x288 with 1 Axes>"
      ]
     },
     "metadata": {
      "needs_background": "light"
     },
     "output_type": "display_data"
    }
   ],
   "source": [
    "# Over-sampling: SMOTE\n",
    "from imblearn.over_sampling import SMOTE\n",
    "\n",
    "# split data into X and y\n",
    "X = pd.DataFrame(df_subset[['sexe','age','anciennete','anciennete_em','taux_uc','vac_euro_net','capres']])\n",
    "y = df_subset.arb\n",
    "\n",
    "# split data into train and test sets\n",
    "seed = 7\n",
    "test_size = 0.33\n",
    "X_train, X_test, y_train, y_test = train_test_split(X, y, test_size=test_size, random_state=seed)\n",
    "\n",
    "# Normalize the data\n",
    "X_train_sdt = pd.DataFrame(ss.fit_transform(X_train),columns = X_train.columns)\n",
    "X_test_sdt = pd.DataFrame(ss.fit_transform(X_test),columns = X_test.columns)\n",
    "\n",
    "smote = SMOTE(ratio='minority')\n",
    "X_sm, y_sm = smote.fit_sample(X_train_sdt, y_train)\n",
    "X_sm = pd.DataFrame(X_sm, columns = X_train_sdt.columns)\n",
    "\n",
    "pca = PCA(n_components=2)\n",
    "X_sm_pca = pca.fit_transform(X_sm)\n",
    "plot_2d_space(X_sm_pca, y_sm, 'SMOTE over-sampling')"
   ]
  },
  {
   "cell_type": "code",
   "execution_count": 171,
   "metadata": {},
   "outputs": [
    {
     "name": "stdout",
     "output_type": "stream",
     "text": [
      "Method: BalancedRandomForestClassifier with SMOTE over-sampling resampling and uncalibrated probabilities\n",
      "Goals: 106332.80\n",
      "Predicted Goals: 141084.52\n",
      "MCC: 0.569\n",
      "Brier Loss: 0.161\n",
      "F1_score: 80.05%\n",
      "Recall_score: 96.98%\n",
      "Accuracy: 75.78%\n",
      "\n"
     ]
    },
    {
     "data": {
      "text/html": [
       "<div>\n",
       "<style scoped>\n",
       "    .dataframe tbody tr th:only-of-type {\n",
       "        vertical-align: middle;\n",
       "    }\n",
       "\n",
       "    .dataframe tbody tr th {\n",
       "        vertical-align: top;\n",
       "    }\n",
       "\n",
       "    .dataframe thead th {\n",
       "        text-align: right;\n",
       "    }\n",
       "</style>\n",
       "<table border=\"1\" class=\"dataframe\">\n",
       "  <thead>\n",
       "    <tr style=\"text-align: right;\">\n",
       "      <th></th>\n",
       "      <th>mcc</th>\n",
       "      <th>brier_loss</th>\n",
       "      <th>actual_goals</th>\n",
       "      <th>predicted_goals</th>\n",
       "      <th>goals_diff</th>\n",
       "      <th>f1</th>\n",
       "      <th>recall</th>\n",
       "      <th>accuracy</th>\n",
       "    </tr>\n",
       "  </thead>\n",
       "  <tbody>\n",
       "    <tr>\n",
       "      <th>0</th>\n",
       "      <td>0.669481</td>\n",
       "      <td>0.130265</td>\n",
       "      <td>106333</td>\n",
       "      <td>148012.972783</td>\n",
       "      <td>41679.972783</td>\n",
       "      <td>0.840297</td>\n",
       "      <td>0.997545</td>\n",
       "      <td>0.810412</td>\n",
       "    </tr>\n",
       "    <tr>\n",
       "      <th>1</th>\n",
       "      <td>0.566047</td>\n",
       "      <td>0.168061</td>\n",
       "      <td>106333</td>\n",
       "      <td>132934.668247</td>\n",
       "      <td>26601.668247</td>\n",
       "      <td>0.799416</td>\n",
       "      <td>0.960896</td>\n",
       "      <td>0.758899</td>\n",
       "    </tr>\n",
       "    <tr>\n",
       "      <th>2</th>\n",
       "      <td>0.515395</td>\n",
       "      <td>0.181540</td>\n",
       "      <td>106333</td>\n",
       "      <td>149391.971339</td>\n",
       "      <td>43058.971339</td>\n",
       "      <td>0.778092</td>\n",
       "      <td>0.977965</td>\n",
       "      <td>0.721088</td>\n",
       "    </tr>\n",
       "    <tr>\n",
       "      <th>3</th>\n",
       "      <td>0.555257</td>\n",
       "      <td>0.157854</td>\n",
       "      <td>106333</td>\n",
       "      <td>140875.063748</td>\n",
       "      <td>34542.063748</td>\n",
       "      <td>0.795316</td>\n",
       "      <td>0.955837</td>\n",
       "      <td>0.754004</td>\n",
       "    </tr>\n",
       "    <tr>\n",
       "      <th>4</th>\n",
       "      <td>0.540390</td>\n",
       "      <td>0.166551</td>\n",
       "      <td>106332</td>\n",
       "      <td>134207.941099</td>\n",
       "      <td>27875.941099</td>\n",
       "      <td>0.789348</td>\n",
       "      <td>0.956984</td>\n",
       "      <td>0.744611</td>\n",
       "    </tr>\n",
       "  </tbody>\n",
       "</table>\n",
       "</div>"
      ],
      "text/plain": [
       "        mcc  brier_loss  actual_goals  predicted_goals    goals_diff  \\\n",
       "0  0.669481    0.130265        106333    148012.972783  41679.972783   \n",
       "1  0.566047    0.168061        106333    132934.668247  26601.668247   \n",
       "2  0.515395    0.181540        106333    149391.971339  43058.971339   \n",
       "3  0.555257    0.157854        106333    140875.063748  34542.063748   \n",
       "4  0.540390    0.166551        106332    134207.941099  27875.941099   \n",
       "\n",
       "         f1    recall  accuracy  \n",
       "0  0.840297  0.997545  0.810412  \n",
       "1  0.799416  0.960896  0.758899  \n",
       "2  0.778092  0.977965  0.721088  \n",
       "3  0.795316  0.955837  0.754004  \n",
       "4  0.789348  0.956984  0.744611  "
      ]
     },
     "execution_count": 171,
     "metadata": {},
     "output_type": "execute_result"
    }
   ],
   "source": [
    "test_resampling(brf, X_sm, y_sm, 'SMOTE over-sampling')"
   ]
  },
  {
   "cell_type": "code",
   "execution_count": null,
   "metadata": {},
   "outputs": [],
   "source": [
    "test_resampling(ab, X_sm, y_sm, 'SMOTE over-sampling')"
   ]
  },
  {
   "cell_type": "code",
   "execution_count": null,
   "metadata": {},
   "outputs": [],
   "source": [
    "test_resampling(xgb, X_sm, y_sm, 'SMOTE over-sampling')"
   ]
  },
  {
   "cell_type": "code",
   "execution_count": 175,
   "metadata": {},
   "outputs": [
    {
     "data": {
      "image/png": "[encoded data removed]",
      "text/plain": [
       "<Figure size 432x288 with 1 Axes>"
      ]
     },
     "metadata": {
      "needs_background": "light"
     },
     "output_type": "display_data"
    }
   ],
   "source": [
    "# Over-sampling followed by under-sampling\n",
    "from imblearn.combine import SMOTETomek\n",
    "\n",
    "# split data into X and y\n",
    "X = pd.DataFrame(df_subset[['sexe','age','anciennete','anciennete_em','taux_uc','vac_euro_net','capres']])\n",
    "y = df_subset.arb\n",
    "\n",
    "# split data into train and test sets\n",
    "seed = 7\n",
    "test_size = 0.33\n",
    "X_train, X_test, y_train, y_test = train_test_split(X, y, test_size=test_size, random_state=seed)\n",
    "\n",
    "# Normalize the data\n",
    "X_train_sdt = pd.DataFrame(ss.fit_transform(X_train),columns = X_train.columns)\n",
    "X_test_sdt = pd.DataFrame(ss.fit_transform(X_test),columns = X_test.columns)\n",
    "\n",
    "smt = SMOTETomek(ratio='auto')\n",
    "X_smt, y_smt = smt.fit_sample(X_train_sdt, y_train)\n",
    "X_smt = pd.DataFrame(X_smt, columns = X_train_sdt.columns)\n",
    "\n",
    "pca = PCA(n_components=2)\n",
    "X_smt_pca = pca.fit_transform(X_smt)\n",
    "plot_2d_space(X_smt_pca, y_smt, 'SMOTE + Tomek links')"
   ]
  },
  {
   "cell_type": "code",
   "execution_count": 176,
   "metadata": {},
   "outputs": [
    {
     "name": "stdout",
     "output_type": "stream",
     "text": [
      "Method: BalancedRandomForestClassifier with SMOTE + Tomek links resampling and uncalibrated probabilities\n",
      "Goals: 106232.80\n",
      "Predicted Goals: 139583.33\n",
      "MCC: 0.584\n",
      "Brier Loss: 0.157\n",
      "F1_score: 80.57%\n",
      "Recall_score: 97.31%\n",
      "Accuracy: 76.52%\n",
      "\n"
     ]
    },
    {
     "data": {
      "text/html": [
       "<div>\n",
       "<style scoped>\n",
       "    .dataframe tbody tr th:only-of-type {\n",
       "        vertical-align: middle;\n",
       "    }\n",
       "\n",
       "    .dataframe tbody tr th {\n",
       "        vertical-align: top;\n",
       "    }\n",
       "\n",
       "    .dataframe thead th {\n",
       "        text-align: right;\n",
       "    }\n",
       "</style>\n",
       "<table border=\"1\" class=\"dataframe\">\n",
       "  <thead>\n",
       "    <tr style=\"text-align: right;\">\n",
       "      <th></th>\n",
       "      <th>mcc</th>\n",
       "      <th>brier_loss</th>\n",
       "      <th>actual_goals</th>\n",
       "      <th>predicted_goals</th>\n",
       "      <th>goals_diff</th>\n",
       "      <th>f1</th>\n",
       "      <th>recall</th>\n",
       "      <th>accuracy</th>\n",
       "    </tr>\n",
       "  </thead>\n",
       "  <tbody>\n",
       "    <tr>\n",
       "      <th>0</th>\n",
       "      <td>0.526387</td>\n",
       "      <td>0.177398</td>\n",
       "      <td>106233</td>\n",
       "      <td>148043.746831</td>\n",
       "      <td>41810.746831</td>\n",
       "      <td>0.782454</td>\n",
       "      <td>0.976825</td>\n",
       "      <td>0.728413</td>\n",
       "    </tr>\n",
       "    <tr>\n",
       "      <th>1</th>\n",
       "      <td>0.602470</td>\n",
       "      <td>0.154424</td>\n",
       "      <td>106233</td>\n",
       "      <td>137445.766500</td>\n",
       "      <td>31212.766500</td>\n",
       "      <td>0.812136</td>\n",
       "      <td>0.988506</td>\n",
       "      <td>0.771338</td>\n",
       "    </tr>\n",
       "    <tr>\n",
       "      <th>2</th>\n",
       "      <td>0.557182</td>\n",
       "      <td>0.165390</td>\n",
       "      <td>106233</td>\n",
       "      <td>127143.289531</td>\n",
       "      <td>20910.289531</td>\n",
       "      <td>0.796511</td>\n",
       "      <td>0.924562</td>\n",
       "      <td>0.763798</td>\n",
       "    </tr>\n",
       "    <tr>\n",
       "      <th>3</th>\n",
       "      <td>0.650943</td>\n",
       "      <td>0.129063</td>\n",
       "      <td>106233</td>\n",
       "      <td>147954.046691</td>\n",
       "      <td>41721.046691</td>\n",
       "      <td>0.832070</td>\n",
       "      <td>0.997148</td>\n",
       "      <td>0.798754</td>\n",
       "    </tr>\n",
       "    <tr>\n",
       "      <th>4</th>\n",
       "      <td>0.583577</td>\n",
       "      <td>0.156433</td>\n",
       "      <td>106232</td>\n",
       "      <td>137329.819347</td>\n",
       "      <td>31097.819347</td>\n",
       "      <td>0.805306</td>\n",
       "      <td>0.978330</td>\n",
       "      <td>0.763475</td>\n",
       "    </tr>\n",
       "  </tbody>\n",
       "</table>\n",
       "</div>"
      ],
      "text/plain": [
       "        mcc  brier_loss  actual_goals  predicted_goals    goals_diff  \\\n",
       "0  0.526387    0.177398        106233    148043.746831  41810.746831   \n",
       "1  0.602470    0.154424        106233    137445.766500  31212.766500   \n",
       "2  0.557182    0.165390        106233    127143.289531  20910.289531   \n",
       "3  0.650943    0.129063        106233    147954.046691  41721.046691   \n",
       "4  0.583577    0.156433        106232    137329.819347  31097.819347   \n",
       "\n",
       "         f1    recall  accuracy  \n",
       "0  0.782454  0.976825  0.728413  \n",
       "1  0.812136  0.988506  0.771338  \n",
       "2  0.796511  0.924562  0.763798  \n",
       "3  0.832070  0.997148  0.798754  \n",
       "4  0.805306  0.978330  0.763475  "
      ]
     },
     "execution_count": 176,
     "metadata": {},
     "output_type": "execute_result"
    }
   ],
   "source": [
    "test_resampling(brf, X_smt, y_smt, 'SMOTE + Tomek links')"
   ]
  },
  {
   "cell_type": "code",
   "execution_count": 177,
   "metadata": {},
   "outputs": [
    {
     "name": "stdout",
     "output_type": "stream",
     "text": [
      "Method: AdaBoostClassifier with SMOTE + Tomek links resampling and uncalibrated probabilities\n",
      "Goals: 106232.80\n",
      "Predicted Goals: 106746.41\n",
      "MCC: 0.326\n",
      "Brier Loss: 0.248\n",
      "F1_score: 71.58%\n",
      "Recall_score: 93.77%\n",
      "Accuracy: 62.72%\n",
      "\n"
     ]
    },
    {
     "data": {
      "text/html": [
       "<div>\n",
       "<style scoped>\n",
       "    .dataframe tbody tr th:only-of-type {\n",
       "        vertical-align: middle;\n",
       "    }\n",
       "\n",
       "    .dataframe tbody tr th {\n",
       "        vertical-align: top;\n",
       "    }\n",
       "\n",
       "    .dataframe thead th {\n",
       "        text-align: right;\n",
       "    }\n",
       "</style>\n",
       "<table border=\"1\" class=\"dataframe\">\n",
       "  <thead>\n",
       "    <tr style=\"text-align: right;\">\n",
       "      <th></th>\n",
       "      <th>mcc</th>\n",
       "      <th>brier_loss</th>\n",
       "      <th>actual_goals</th>\n",
       "      <th>predicted_goals</th>\n",
       "      <th>goals_diff</th>\n",
       "      <th>f1</th>\n",
       "      <th>recall</th>\n",
       "      <th>accuracy</th>\n",
       "    </tr>\n",
       "  </thead>\n",
       "  <tbody>\n",
       "    <tr>\n",
       "      <th>0</th>\n",
       "      <td>0.290226</td>\n",
       "      <td>0.248699</td>\n",
       "      <td>106233</td>\n",
       "      <td>107014.728825</td>\n",
       "      <td>781.728825</td>\n",
       "      <td>0.706121</td>\n",
       "      <td>0.972193</td>\n",
       "      <td>0.595385</td>\n",
       "    </tr>\n",
       "    <tr>\n",
       "      <th>1</th>\n",
       "      <td>0.317503</td>\n",
       "      <td>0.248569</td>\n",
       "      <td>106233</td>\n",
       "      <td>106843.929403</td>\n",
       "      <td>610.929403</td>\n",
       "      <td>0.713733</td>\n",
       "      <td>0.949310</td>\n",
       "      <td>0.619247</td>\n",
       "    </tr>\n",
       "    <tr>\n",
       "      <th>2</th>\n",
       "      <td>0.335075</td>\n",
       "      <td>0.247899</td>\n",
       "      <td>106233</td>\n",
       "      <td>106629.355190</td>\n",
       "      <td>396.355190</td>\n",
       "      <td>0.718565</td>\n",
       "      <td>0.936837</td>\n",
       "      <td>0.633075</td>\n",
       "    </tr>\n",
       "    <tr>\n",
       "      <th>3</th>\n",
       "      <td>0.373347</td>\n",
       "      <td>0.248255</td>\n",
       "      <td>106233</td>\n",
       "      <td>106567.892556</td>\n",
       "      <td>334.892556</td>\n",
       "      <td>0.728473</td>\n",
       "      <td>0.898610</td>\n",
       "      <td>0.665057</td>\n",
       "    </tr>\n",
       "    <tr>\n",
       "      <th>4</th>\n",
       "      <td>0.313266</td>\n",
       "      <td>0.248275</td>\n",
       "      <td>106232</td>\n",
       "      <td>106676.140287</td>\n",
       "      <td>444.140287</td>\n",
       "      <td>0.712084</td>\n",
       "      <td>0.931725</td>\n",
       "      <td>0.623277</td>\n",
       "    </tr>\n",
       "  </tbody>\n",
       "</table>\n",
       "</div>"
      ],
      "text/plain": [
       "        mcc  brier_loss  actual_goals  predicted_goals  goals_diff        f1  \\\n",
       "0  0.290226    0.248699        106233    107014.728825  781.728825  0.706121   \n",
       "1  0.317503    0.248569        106233    106843.929403  610.929403  0.713733   \n",
       "2  0.335075    0.247899        106233    106629.355190  396.355190  0.718565   \n",
       "3  0.373347    0.248255        106233    106567.892556  334.892556  0.728473   \n",
       "4  0.313266    0.248275        106232    106676.140287  444.140287  0.712084   \n",
       "\n",
       "     recall  accuracy  \n",
       "0  0.972193  0.595385  \n",
       "1  0.949310  0.619247  \n",
       "2  0.936837  0.633075  \n",
       "3  0.898610  0.665057  \n",
       "4  0.931725  0.623277  "
      ]
     },
     "execution_count": 177,
     "metadata": {},
     "output_type": "execute_result"
    }
   ],
   "source": [
    "test_resampling(ab, X_smt, y_smt, 'SMOTE + Tomek links')"
   ]
  },
  {
   "cell_type": "code",
   "execution_count": 178,
   "metadata": {},
   "outputs": [
    {
     "name": "stdout",
     "output_type": "stream",
     "text": [
      "Method: XGBClassifier with SMOTE + Tomek links resampling and uncalibrated probabilities\n",
      "Goals: 106232.80\n",
      "Predicted Goals: 124293.80\n",
      "MCC: 0.339\n",
      "Brier Loss: 0.238\n",
      "F1_score: 71.58%\n",
      "Recall_score: 90.16%\n",
      "Accuracy: 64.11%\n",
      "\n"
     ]
    },
    {
     "data": {
      "text/html": [
       "<div>\n",
       "<style scoped>\n",
       "    .dataframe tbody tr th:only-of-type {\n",
       "        vertical-align: middle;\n",
       "    }\n",
       "\n",
       "    .dataframe tbody tr th {\n",
       "        vertical-align: top;\n",
       "    }\n",
       "\n",
       "    .dataframe thead th {\n",
       "        text-align: right;\n",
       "    }\n",
       "</style>\n",
       "<table border=\"1\" class=\"dataframe\">\n",
       "  <thead>\n",
       "    <tr style=\"text-align: right;\">\n",
       "      <th></th>\n",
       "      <th>mcc</th>\n",
       "      <th>brier_loss</th>\n",
       "      <th>actual_goals</th>\n",
       "      <th>predicted_goals</th>\n",
       "      <th>goals_diff</th>\n",
       "      <th>f1</th>\n",
       "      <th>recall</th>\n",
       "      <th>accuracy</th>\n",
       "    </tr>\n",
       "  </thead>\n",
       "  <tbody>\n",
       "    <tr>\n",
       "      <th>0</th>\n",
       "      <td>0.289705</td>\n",
       "      <td>0.279403</td>\n",
       "      <td>106233</td>\n",
       "      <td>160128.800889</td>\n",
       "      <td>53895.800889</td>\n",
       "      <td>0.705407</td>\n",
       "      <td>0.981851</td>\n",
       "      <td>0.589958</td>\n",
       "    </tr>\n",
       "    <tr>\n",
       "      <th>1</th>\n",
       "      <td>0.310166</td>\n",
       "      <td>0.259143</td>\n",
       "      <td>106233</td>\n",
       "      <td>152202.708759</td>\n",
       "      <td>45969.708759</td>\n",
       "      <td>0.711376</td>\n",
       "      <td>0.970405</td>\n",
       "      <td>0.606281</td>\n",
       "    </tr>\n",
       "    <tr>\n",
       "      <th>2</th>\n",
       "      <td>0.357879</td>\n",
       "      <td>0.217119</td>\n",
       "      <td>106233</td>\n",
       "      <td>101344.794703</td>\n",
       "      <td>4888.205297</td>\n",
       "      <td>0.717222</td>\n",
       "      <td>0.843288</td>\n",
       "      <td>0.667519</td>\n",
       "    </tr>\n",
       "    <tr>\n",
       "      <th>3</th>\n",
       "      <td>0.393622</td>\n",
       "      <td>0.215127</td>\n",
       "      <td>106233</td>\n",
       "      <td>104018.825489</td>\n",
       "      <td>2214.174511</td>\n",
       "      <td>0.731405</td>\n",
       "      <td>0.859629</td>\n",
       "      <td>0.684317</td>\n",
       "    </tr>\n",
       "    <tr>\n",
       "      <th>4</th>\n",
       "      <td>0.342263</td>\n",
       "      <td>0.218346</td>\n",
       "      <td>106232</td>\n",
       "      <td>103773.884080</td>\n",
       "      <td>2458.115920</td>\n",
       "      <td>0.713503</td>\n",
       "      <td>0.852916</td>\n",
       "      <td>0.657523</td>\n",
       "    </tr>\n",
       "  </tbody>\n",
       "</table>\n",
       "</div>"
      ],
      "text/plain": [
       "        mcc  brier_loss  actual_goals  predicted_goals    goals_diff  \\\n",
       "0  0.289705    0.279403        106233    160128.800889  53895.800889   \n",
       "1  0.310166    0.259143        106233    152202.708759  45969.708759   \n",
       "2  0.357879    0.217119        106233    101344.794703   4888.205297   \n",
       "3  0.393622    0.215127        106233    104018.825489   2214.174511   \n",
       "4  0.342263    0.218346        106232    103773.884080   2458.115920   \n",
       "\n",
       "         f1    recall  accuracy  \n",
       "0  0.705407  0.981851  0.589958  \n",
       "1  0.711376  0.970405  0.606281  \n",
       "2  0.717222  0.843288  0.667519  \n",
       "3  0.731405  0.859629  0.684317  \n",
       "4  0.713503  0.852916  0.657523  "
      ]
     },
     "execution_count": 178,
     "metadata": {},
     "output_type": "execute_result"
    }
   ],
   "source": [
    "test_resampling(xgb, X_smt, y_smt, 'SMOTE + Tomek links')"
   ]
  },
  {
   "cell_type": "code",
   "execution_count": 29,
   "metadata": {},
   "outputs": [
    {
     "name": "stdout",
     "output_type": "stream",
     "text": [
      "Fitting 5 folds for each of 9 candidates, totalling 45 fits\n"
     ]
    },
    {
     "name": "stderr",
     "output_type": "stream",
     "text": [
      "[Parallel(n_jobs=1)]: Using backend SequentialBackend with 1 concurrent workers.\n"
     ]
    },
    {
     "ename": "KeyboardInterrupt",
     "evalue": "",
     "output_type": "error",
     "traceback": [
      "\u001b[0;31m---------------------------------------------------------------------------\u001b[0m",
      "\u001b[0;31mKeyboardInterrupt\u001b[0m                         Traceback (most recent call last)",
      "\u001b[0;32m<ipython-input-29-f6a8d25f7866>\u001b[0m in \u001b[0;36m<module>\u001b[0;34m\u001b[0m\n\u001b[1;32m      4\u001b[0m                    {'max_depth': [2,4,6],\n\u001b[1;32m      5\u001b[0m                     'n_estimators': [50,100,200]}, verbose=1, n_jobs=1, pre_dispatch=1, cv=5)\n\u001b[0;32m----> 6\u001b[0;31m \u001b[0mclf\u001b[0m\u001b[0;34m.\u001b[0m\u001b[0mfit\u001b[0m\u001b[0;34m(\u001b[0m\u001b[0mX\u001b[0m\u001b[0;34m,\u001b[0m\u001b[0mY\u001b[0m\u001b[0;34m)\u001b[0m\u001b[0;34m\u001b[0m\u001b[0;34m\u001b[0m\u001b[0m\n\u001b[0m\u001b[1;32m      7\u001b[0m \u001b[0mclf\u001b[0m\u001b[0;34m.\u001b[0m\u001b[0mbest_score_\u001b[0m\u001b[0;34m,\u001b[0m \u001b[0mclf\u001b[0m\u001b[0;34m.\u001b[0m\u001b[0mbest_params_\u001b[0m\u001b[0;34m\u001b[0m\u001b[0;34m\u001b[0m\u001b[0m\n",
      "\u001b[0;32m~/miniconda3/lib/python3.7/site-packages/sklearn/model_selection/_search.py\u001b[0m in \u001b[0;36mfit\u001b[0;34m(self, X, y, groups, **fit_params)\u001b[0m\n\u001b[1;32m    720\u001b[0m                 \u001b[0;32mreturn\u001b[0m \u001b[0mresults_container\u001b[0m\u001b[0;34m[\u001b[0m\u001b[0;36m0\u001b[0m\u001b[0;34m]\u001b[0m\u001b[0;34m\u001b[0m\u001b[0;34m\u001b[0m\u001b[0m\n\u001b[1;32m    721\u001b[0m \u001b[0;34m\u001b[0m\u001b[0m\n\u001b[0;32m--> 722\u001b[0;31m             \u001b[0mself\u001b[0m\u001b[0;34m.\u001b[0m\u001b[0m_run_search\u001b[0m\u001b[0;34m(\u001b[0m\u001b[0mevaluate_candidates\u001b[0m\u001b[0;34m)\u001b[0m\u001b[0;34m\u001b[0m\u001b[0;34m\u001b[0m\u001b[0m\n\u001b[0m\u001b[1;32m    723\u001b[0m \u001b[0;34m\u001b[0m\u001b[0m\n\u001b[1;32m    724\u001b[0m         \u001b[0mresults\u001b[0m \u001b[0;34m=\u001b[0m \u001b[0mresults_container\u001b[0m\u001b[0;34m[\u001b[0m\u001b[0;36m0\u001b[0m\u001b[0;34m]\u001b[0m\u001b[0;34m\u001b[0m\u001b[0;34m\u001b[0m\u001b[0m\n",
      "\u001b[0;32m~/miniconda3/lib/python3.7/site-packages/sklearn/model_selection/_search.py\u001b[0m in \u001b[0;36m_run_search\u001b[0;34m(self, evaluate_candidates)\u001b[0m\n\u001b[1;32m   1189\u001b[0m     \u001b[0;32mdef\u001b[0m \u001b[0m_run_search\u001b[0m\u001b[0;34m(\u001b[0m\u001b[0mself\u001b[0m\u001b[0;34m,\u001b[0m \u001b[0mevaluate_candidates\u001b[0m\u001b[0;34m)\u001b[0m\u001b[0;34m:\u001b[0m\u001b[0;34m\u001b[0m\u001b[0;34m\u001b[0m\u001b[0m\n\u001b[1;32m   1190\u001b[0m         \u001b[0;34m\"\"\"Search all candidates in param_grid\"\"\"\u001b[0m\u001b[0;34m\u001b[0m\u001b[0;34m\u001b[0m\u001b[0m\n\u001b[0;32m-> 1191\u001b[0;31m         \u001b[0mevaluate_candidates\u001b[0m\u001b[0;34m(\u001b[0m\u001b[0mParameterGrid\u001b[0m\u001b[0;34m(\u001b[0m\u001b[0mself\u001b[0m\u001b[0;34m.\u001b[0m\u001b[0mparam_grid\u001b[0m\u001b[0;34m)\u001b[0m\u001b[0;34m)\u001b[0m\u001b[0;34m\u001b[0m\u001b[0;34m\u001b[0m\u001b[0m\n\u001b[0m\u001b[1;32m   1192\u001b[0m \u001b[0;34m\u001b[0m\u001b[0m\n\u001b[1;32m   1193\u001b[0m \u001b[0;34m\u001b[0m\u001b[0m\n",
      "\u001b[0;32m~/miniconda3/lib/python3.7/site-packages/sklearn/model_selection/_search.py\u001b[0m in \u001b[0;36mevaluate_candidates\u001b[0;34m(candidate_params)\u001b[0m\n\u001b[1;32m    709\u001b[0m                                \u001b[0;32mfor\u001b[0m \u001b[0mparameters\u001b[0m\u001b[0;34m,\u001b[0m \u001b[0;34m(\u001b[0m\u001b[0mtrain\u001b[0m\u001b[0;34m,\u001b[0m \u001b[0mtest\u001b[0m\u001b[0;34m)\u001b[0m\u001b[0;34m\u001b[0m\u001b[0;34m\u001b[0m\u001b[0m\n\u001b[1;32m    710\u001b[0m                                in product(candidate_params,\n\u001b[0;32m--> 711\u001b[0;31m                                           cv.split(X, y, groups)))\n\u001b[0m\u001b[1;32m    712\u001b[0m \u001b[0;34m\u001b[0m\u001b[0m\n\u001b[1;32m    713\u001b[0m                 \u001b[0mall_candidate_params\u001b[0m\u001b[0;34m.\u001b[0m\u001b[0mextend\u001b[0m\u001b[0;34m(\u001b[0m\u001b[0mcandidate_params\u001b[0m\u001b[0;34m)\u001b[0m\u001b[0;34m\u001b[0m\u001b[0;34m\u001b[0m\u001b[0m\n",
      "\u001b[0;32m~/miniconda3/lib/python3.7/site-packages/sklearn/externals/joblib/parallel.py\u001b[0m in \u001b[0;36m__call__\u001b[0;34m(self, iterable)\u001b[0m\n\u001b[1;32m    918\u001b[0m                 \u001b[0mself\u001b[0m\u001b[0;34m.\u001b[0m\u001b[0m_iterating\u001b[0m \u001b[0;34m=\u001b[0m \u001b[0mself\u001b[0m\u001b[0;34m.\u001b[0m\u001b[0m_original_iterator\u001b[0m \u001b[0;32mis\u001b[0m \u001b[0;32mnot\u001b[0m \u001b[0;32mNone\u001b[0m\u001b[0;34m\u001b[0m\u001b[0;34m\u001b[0m\u001b[0m\n\u001b[1;32m    919\u001b[0m \u001b[0;34m\u001b[0m\u001b[0m\n\u001b[0;32m--> 920\u001b[0;31m             \u001b[0;32mwhile\u001b[0m \u001b[0mself\u001b[0m\u001b[0;34m.\u001b[0m\u001b[0mdispatch_one_batch\u001b[0m\u001b[0;34m(\u001b[0m\u001b[0miterator\u001b[0m\u001b[0;34m)\u001b[0m\u001b[0;34m:\u001b[0m\u001b[0;34m\u001b[0m\u001b[0;34m\u001b[0m\u001b[0m\n\u001b[0m\u001b[1;32m    921\u001b[0m                 \u001b[0;32mpass\u001b[0m\u001b[0;34m\u001b[0m\u001b[0;34m\u001b[0m\u001b[0m\n\u001b[1;32m    922\u001b[0m \u001b[0;34m\u001b[0m\u001b[0m\n",
      "\u001b[0;32m~/miniconda3/lib/python3.7/site-packages/sklearn/externals/joblib/parallel.py\u001b[0m in \u001b[0;36mdispatch_one_batch\u001b[0;34m(self, iterator)\u001b[0m\n\u001b[1;32m    757\u001b[0m                 \u001b[0;32mreturn\u001b[0m \u001b[0;32mFalse\u001b[0m\u001b[0;34m\u001b[0m\u001b[0;34m\u001b[0m\u001b[0m\n\u001b[1;32m    758\u001b[0m             \u001b[0;32melse\u001b[0m\u001b[0;34m:\u001b[0m\u001b[0;34m\u001b[0m\u001b[0;34m\u001b[0m\u001b[0m\n\u001b[0;32m--> 759\u001b[0;31m                 \u001b[0mself\u001b[0m\u001b[0;34m.\u001b[0m\u001b[0m_dispatch\u001b[0m\u001b[0;34m(\u001b[0m\u001b[0mtasks\u001b[0m\u001b[0;34m)\u001b[0m\u001b[0;34m\u001b[0m\u001b[0;34m\u001b[0m\u001b[0m\n\u001b[0m\u001b[1;32m    760\u001b[0m                 \u001b[0;32mreturn\u001b[0m \u001b[0;32mTrue\u001b[0m\u001b[0;34m\u001b[0m\u001b[0;34m\u001b[0m\u001b[0m\n\u001b[1;32m    761\u001b[0m \u001b[0;34m\u001b[0m\u001b[0m\n",
      "\u001b[0;32m~/miniconda3/lib/python3.7/site-packages/sklearn/externals/joblib/parallel.py\u001b[0m in \u001b[0;36m_dispatch\u001b[0;34m(self, batch)\u001b[0m\n\u001b[1;32m    714\u001b[0m         \u001b[0;32mwith\u001b[0m \u001b[0mself\u001b[0m\u001b[0;34m.\u001b[0m\u001b[0m_lock\u001b[0m\u001b[0;34m:\u001b[0m\u001b[0;34m\u001b[0m\u001b[0;34m\u001b[0m\u001b[0m\n\u001b[1;32m    715\u001b[0m             \u001b[0mjob_idx\u001b[0m \u001b[0;34m=\u001b[0m \u001b[0mlen\u001b[0m\u001b[0;34m(\u001b[0m\u001b[0mself\u001b[0m\u001b[0;34m.\u001b[0m\u001b[0m_jobs\u001b[0m\u001b[0;34m)\u001b[0m\u001b[0;34m\u001b[0m\u001b[0;34m\u001b[0m\u001b[0m\n\u001b[0;32m--> 716\u001b[0;31m             \u001b[0mjob\u001b[0m \u001b[0;34m=\u001b[0m \u001b[0mself\u001b[0m\u001b[0;34m.\u001b[0m\u001b[0m_backend\u001b[0m\u001b[0;34m.\u001b[0m\u001b[0mapply_async\u001b[0m\u001b[0;34m(\u001b[0m\u001b[0mbatch\u001b[0m\u001b[0;34m,\u001b[0m \u001b[0mcallback\u001b[0m\u001b[0;34m=\u001b[0m\u001b[0mcb\u001b[0m\u001b[0;34m)\u001b[0m\u001b[0;34m\u001b[0m\u001b[0;34m\u001b[0m\u001b[0m\n\u001b[0m\u001b[1;32m    717\u001b[0m             \u001b[0;31m# A job can complete so quickly than its callback is\u001b[0m\u001b[0;34m\u001b[0m\u001b[0;34m\u001b[0m\u001b[0;34m\u001b[0m\u001b[0m\n\u001b[1;32m    718\u001b[0m             \u001b[0;31m# called before we get here, causing self._jobs to\u001b[0m\u001b[0;34m\u001b[0m\u001b[0;34m\u001b[0m\u001b[0;34m\u001b[0m\u001b[0m\n",
      "\u001b[0;32m~/miniconda3/lib/python3.7/site-packages/sklearn/externals/joblib/_parallel_backends.py\u001b[0m in \u001b[0;36mapply_async\u001b[0;34m(self, func, callback)\u001b[0m\n\u001b[1;32m    180\u001b[0m     \u001b[0;32mdef\u001b[0m \u001b[0mapply_async\u001b[0m\u001b[0;34m(\u001b[0m\u001b[0mself\u001b[0m\u001b[0;34m,\u001b[0m \u001b[0mfunc\u001b[0m\u001b[0;34m,\u001b[0m \u001b[0mcallback\u001b[0m\u001b[0;34m=\u001b[0m\u001b[0;32mNone\u001b[0m\u001b[0;34m)\u001b[0m\u001b[0;34m:\u001b[0m\u001b[0;34m\u001b[0m\u001b[0;34m\u001b[0m\u001b[0m\n\u001b[1;32m    181\u001b[0m         \u001b[0;34m\"\"\"Schedule a func to be run\"\"\"\u001b[0m\u001b[0;34m\u001b[0m\u001b[0;34m\u001b[0m\u001b[0m\n\u001b[0;32m--> 182\u001b[0;31m         \u001b[0mresult\u001b[0m \u001b[0;34m=\u001b[0m \u001b[0mImmediateResult\u001b[0m\u001b[0;34m(\u001b[0m\u001b[0mfunc\u001b[0m\u001b[0;34m)\u001b[0m\u001b[0;34m\u001b[0m\u001b[0;34m\u001b[0m\u001b[0m\n\u001b[0m\u001b[1;32m    183\u001b[0m         \u001b[0;32mif\u001b[0m \u001b[0mcallback\u001b[0m\u001b[0;34m:\u001b[0m\u001b[0;34m\u001b[0m\u001b[0;34m\u001b[0m\u001b[0m\n\u001b[1;32m    184\u001b[0m             \u001b[0mcallback\u001b[0m\u001b[0;34m(\u001b[0m\u001b[0mresult\u001b[0m\u001b[0;34m)\u001b[0m\u001b[0;34m\u001b[0m\u001b[0;34m\u001b[0m\u001b[0m\n",
      "\u001b[0;32m~/miniconda3/lib/python3.7/site-packages/sklearn/externals/joblib/_parallel_backends.py\u001b[0m in \u001b[0;36m__init__\u001b[0;34m(self, batch)\u001b[0m\n\u001b[1;32m    547\u001b[0m         \u001b[0;31m# Don't delay the application, to avoid keeping the input\u001b[0m\u001b[0;34m\u001b[0m\u001b[0;34m\u001b[0m\u001b[0;34m\u001b[0m\u001b[0m\n\u001b[1;32m    548\u001b[0m         \u001b[0;31m# arguments in memory\u001b[0m\u001b[0;34m\u001b[0m\u001b[0;34m\u001b[0m\u001b[0;34m\u001b[0m\u001b[0m\n\u001b[0;32m--> 549\u001b[0;31m         \u001b[0mself\u001b[0m\u001b[0;34m.\u001b[0m\u001b[0mresults\u001b[0m \u001b[0;34m=\u001b[0m \u001b[0mbatch\u001b[0m\u001b[0;34m(\u001b[0m\u001b[0;34m)\u001b[0m\u001b[0;34m\u001b[0m\u001b[0;34m\u001b[0m\u001b[0m\n\u001b[0m\u001b[1;32m    550\u001b[0m \u001b[0;34m\u001b[0m\u001b[0m\n\u001b[1;32m    551\u001b[0m     \u001b[0;32mdef\u001b[0m \u001b[0mget\u001b[0m\u001b[0;34m(\u001b[0m\u001b[0mself\u001b[0m\u001b[0;34m)\u001b[0m\u001b[0;34m:\u001b[0m\u001b[0;34m\u001b[0m\u001b[0;34m\u001b[0m\u001b[0m\n",
      "\u001b[0;32m~/miniconda3/lib/python3.7/site-packages/sklearn/externals/joblib/parallel.py\u001b[0m in \u001b[0;36m__call__\u001b[0;34m(self)\u001b[0m\n\u001b[1;32m    223\u001b[0m         \u001b[0;32mwith\u001b[0m \u001b[0mparallel_backend\u001b[0m\u001b[0;34m(\u001b[0m\u001b[0mself\u001b[0m\u001b[0;34m.\u001b[0m\u001b[0m_backend\u001b[0m\u001b[0;34m,\u001b[0m \u001b[0mn_jobs\u001b[0m\u001b[0;34m=\u001b[0m\u001b[0mself\u001b[0m\u001b[0;34m.\u001b[0m\u001b[0m_n_jobs\u001b[0m\u001b[0;34m)\u001b[0m\u001b[0;34m:\u001b[0m\u001b[0;34m\u001b[0m\u001b[0;34m\u001b[0m\u001b[0m\n\u001b[1;32m    224\u001b[0m             return [func(*args, **kwargs)\n\u001b[0;32m--> 225\u001b[0;31m                     for func, args, kwargs in self.items]\n\u001b[0m\u001b[1;32m    226\u001b[0m \u001b[0;34m\u001b[0m\u001b[0m\n\u001b[1;32m    227\u001b[0m     \u001b[0;32mdef\u001b[0m \u001b[0m__len__\u001b[0m\u001b[0;34m(\u001b[0m\u001b[0mself\u001b[0m\u001b[0;34m)\u001b[0m\u001b[0;34m:\u001b[0m\u001b[0;34m\u001b[0m\u001b[0;34m\u001b[0m\u001b[0m\n",
      "\u001b[0;32m~/miniconda3/lib/python3.7/site-packages/sklearn/externals/joblib/parallel.py\u001b[0m in \u001b[0;36m<listcomp>\u001b[0;34m(.0)\u001b[0m\n\u001b[1;32m    223\u001b[0m         \u001b[0;32mwith\u001b[0m \u001b[0mparallel_backend\u001b[0m\u001b[0;34m(\u001b[0m\u001b[0mself\u001b[0m\u001b[0;34m.\u001b[0m\u001b[0m_backend\u001b[0m\u001b[0;34m,\u001b[0m \u001b[0mn_jobs\u001b[0m\u001b[0;34m=\u001b[0m\u001b[0mself\u001b[0m\u001b[0;34m.\u001b[0m\u001b[0m_n_jobs\u001b[0m\u001b[0;34m)\u001b[0m\u001b[0;34m:\u001b[0m\u001b[0;34m\u001b[0m\u001b[0;34m\u001b[0m\u001b[0m\n\u001b[1;32m    224\u001b[0m             return [func(*args, **kwargs)\n\u001b[0;32m--> 225\u001b[0;31m                     for func, args, kwargs in self.items]\n\u001b[0m\u001b[1;32m    226\u001b[0m \u001b[0;34m\u001b[0m\u001b[0m\n\u001b[1;32m    227\u001b[0m     \u001b[0;32mdef\u001b[0m \u001b[0m__len__\u001b[0m\u001b[0;34m(\u001b[0m\u001b[0mself\u001b[0m\u001b[0;34m)\u001b[0m\u001b[0;34m:\u001b[0m\u001b[0;34m\u001b[0m\u001b[0;34m\u001b[0m\u001b[0m\n",
      "\u001b[0;32m~/miniconda3/lib/python3.7/site-packages/sklearn/model_selection/_validation.py\u001b[0m in \u001b[0;36m_fit_and_score\u001b[0;34m(estimator, X, y, scorer, train, test, verbose, parameters, fit_params, return_train_score, return_parameters, return_n_test_samples, return_times, return_estimator, error_score)\u001b[0m\n\u001b[1;32m    526\u001b[0m             \u001b[0mestimator\u001b[0m\u001b[0;34m.\u001b[0m\u001b[0mfit\u001b[0m\u001b[0;34m(\u001b[0m\u001b[0mX_train\u001b[0m\u001b[0;34m,\u001b[0m \u001b[0;34m**\u001b[0m\u001b[0mfit_params\u001b[0m\u001b[0;34m)\u001b[0m\u001b[0;34m\u001b[0m\u001b[0;34m\u001b[0m\u001b[0m\n\u001b[1;32m    527\u001b[0m         \u001b[0;32melse\u001b[0m\u001b[0;34m:\u001b[0m\u001b[0;34m\u001b[0m\u001b[0;34m\u001b[0m\u001b[0m\n\u001b[0;32m--> 528\u001b[0;31m             \u001b[0mestimator\u001b[0m\u001b[0;34m.\u001b[0m\u001b[0mfit\u001b[0m\u001b[0;34m(\u001b[0m\u001b[0mX_train\u001b[0m\u001b[0;34m,\u001b[0m \u001b[0my_train\u001b[0m\u001b[0;34m,\u001b[0m \u001b[0;34m**\u001b[0m\u001b[0mfit_params\u001b[0m\u001b[0;34m)\u001b[0m\u001b[0;34m\u001b[0m\u001b[0;34m\u001b[0m\u001b[0m\n\u001b[0m\u001b[1;32m    529\u001b[0m \u001b[0;34m\u001b[0m\u001b[0m\n\u001b[1;32m    530\u001b[0m     \u001b[0;32mexcept\u001b[0m \u001b[0mException\u001b[0m \u001b[0;32mas\u001b[0m \u001b[0me\u001b[0m\u001b[0;34m:\u001b[0m\u001b[0;34m\u001b[0m\u001b[0;34m\u001b[0m\u001b[0m\n",
      "\u001b[0;32m~/miniconda3/lib/python3.7/site-packages/xgboost/sklearn.py\u001b[0m in \u001b[0;36mfit\u001b[0;34m(self, X, y, sample_weight, eval_set, eval_metric, early_stopping_rounds, verbose, xgb_model, sample_weight_eval_set)\u001b[0m\n\u001b[1;32m    589\u001b[0m                               \u001b[0mearly_stopping_rounds\u001b[0m\u001b[0;34m=\u001b[0m\u001b[0mearly_stopping_rounds\u001b[0m\u001b[0;34m,\u001b[0m\u001b[0;34m\u001b[0m\u001b[0;34m\u001b[0m\u001b[0m\n\u001b[1;32m    590\u001b[0m                               \u001b[0mevals_result\u001b[0m\u001b[0;34m=\u001b[0m\u001b[0mevals_result\u001b[0m\u001b[0;34m,\u001b[0m \u001b[0mobj\u001b[0m\u001b[0;34m=\u001b[0m\u001b[0mobj\u001b[0m\u001b[0;34m,\u001b[0m \u001b[0mfeval\u001b[0m\u001b[0;34m=\u001b[0m\u001b[0mfeval\u001b[0m\u001b[0;34m,\u001b[0m\u001b[0;34m\u001b[0m\u001b[0;34m\u001b[0m\u001b[0m\n\u001b[0;32m--> 591\u001b[0;31m                               verbose_eval=verbose, xgb_model=None)\n\u001b[0m\u001b[1;32m    592\u001b[0m \u001b[0;34m\u001b[0m\u001b[0m\n\u001b[1;32m    593\u001b[0m         \u001b[0mself\u001b[0m\u001b[0;34m.\u001b[0m\u001b[0mobjective\u001b[0m \u001b[0;34m=\u001b[0m \u001b[0mxgb_options\u001b[0m\u001b[0;34m[\u001b[0m\u001b[0;34m\"objective\"\u001b[0m\u001b[0;34m]\u001b[0m\u001b[0;34m\u001b[0m\u001b[0;34m\u001b[0m\u001b[0m\n",
      "\u001b[0;32m~/miniconda3/lib/python3.7/site-packages/xgboost/training.py\u001b[0m in \u001b[0;36mtrain\u001b[0;34m(params, dtrain, num_boost_round, evals, obj, feval, maximize, early_stopping_rounds, evals_result, verbose_eval, xgb_model, callbacks, learning_rates)\u001b[0m\n\u001b[1;32m    208\u001b[0m                            \u001b[0mevals\u001b[0m\u001b[0;34m=\u001b[0m\u001b[0mevals\u001b[0m\u001b[0;34m,\u001b[0m\u001b[0;34m\u001b[0m\u001b[0;34m\u001b[0m\u001b[0m\n\u001b[1;32m    209\u001b[0m                            \u001b[0mobj\u001b[0m\u001b[0;34m=\u001b[0m\u001b[0mobj\u001b[0m\u001b[0;34m,\u001b[0m \u001b[0mfeval\u001b[0m\u001b[0;34m=\u001b[0m\u001b[0mfeval\u001b[0m\u001b[0;34m,\u001b[0m\u001b[0;34m\u001b[0m\u001b[0;34m\u001b[0m\u001b[0m\n\u001b[0;32m--> 210\u001b[0;31m                            xgb_model=xgb_model, callbacks=callbacks)\n\u001b[0m\u001b[1;32m    211\u001b[0m \u001b[0;34m\u001b[0m\u001b[0m\n\u001b[1;32m    212\u001b[0m \u001b[0;34m\u001b[0m\u001b[0m\n",
      "\u001b[0;32m~/miniconda3/lib/python3.7/site-packages/xgboost/training.py\u001b[0m in \u001b[0;36m_train_internal\u001b[0;34m(params, dtrain, num_boost_round, evals, obj, feval, xgb_model, callbacks)\u001b[0m\n\u001b[1;32m     72\u001b[0m         \u001b[0;31m# Skip the first update if it is a recovery step.\u001b[0m\u001b[0;34m\u001b[0m\u001b[0;34m\u001b[0m\u001b[0;34m\u001b[0m\u001b[0m\n\u001b[1;32m     73\u001b[0m         \u001b[0;32mif\u001b[0m \u001b[0mversion\u001b[0m \u001b[0;34m%\u001b[0m \u001b[0;36m2\u001b[0m \u001b[0;34m==\u001b[0m \u001b[0;36m0\u001b[0m\u001b[0;34m:\u001b[0m\u001b[0;34m\u001b[0m\u001b[0;34m\u001b[0m\u001b[0m\n\u001b[0;32m---> 74\u001b[0;31m             \u001b[0mbst\u001b[0m\u001b[0;34m.\u001b[0m\u001b[0mupdate\u001b[0m\u001b[0;34m(\u001b[0m\u001b[0mdtrain\u001b[0m\u001b[0;34m,\u001b[0m \u001b[0mi\u001b[0m\u001b[0;34m,\u001b[0m \u001b[0mobj\u001b[0m\u001b[0;34m)\u001b[0m\u001b[0;34m\u001b[0m\u001b[0;34m\u001b[0m\u001b[0m\n\u001b[0m\u001b[1;32m     75\u001b[0m             \u001b[0mbst\u001b[0m\u001b[0;34m.\u001b[0m\u001b[0msave_rabit_checkpoint\u001b[0m\u001b[0;34m(\u001b[0m\u001b[0;34m)\u001b[0m\u001b[0;34m\u001b[0m\u001b[0;34m\u001b[0m\u001b[0m\n\u001b[1;32m     76\u001b[0m             \u001b[0mversion\u001b[0m \u001b[0;34m+=\u001b[0m \u001b[0;36m1\u001b[0m\u001b[0;34m\u001b[0m\u001b[0;34m\u001b[0m\u001b[0m\n",
      "\u001b[0;32m~/miniconda3/lib/python3.7/site-packages/xgboost/core.py\u001b[0m in \u001b[0;36mupdate\u001b[0;34m(self, dtrain, iteration, fobj)\u001b[0m\n\u001b[1;32m   1019\u001b[0m         \u001b[0;32mif\u001b[0m \u001b[0mfobj\u001b[0m \u001b[0;32mis\u001b[0m \u001b[0;32mNone\u001b[0m\u001b[0;34m:\u001b[0m\u001b[0;34m\u001b[0m\u001b[0;34m\u001b[0m\u001b[0m\n\u001b[1;32m   1020\u001b[0m             _check_call(_LIB.XGBoosterUpdateOneIter(self.handle, ctypes.c_int(iteration),\n\u001b[0;32m-> 1021\u001b[0;31m                                                     dtrain.handle))\n\u001b[0m\u001b[1;32m   1022\u001b[0m         \u001b[0;32melse\u001b[0m\u001b[0;34m:\u001b[0m\u001b[0;34m\u001b[0m\u001b[0;34m\u001b[0m\u001b[0m\n\u001b[1;32m   1023\u001b[0m             \u001b[0mpred\u001b[0m \u001b[0;34m=\u001b[0m \u001b[0mself\u001b[0m\u001b[0;34m.\u001b[0m\u001b[0mpredict\u001b[0m\u001b[0;34m(\u001b[0m\u001b[0mdtrain\u001b[0m\u001b[0;34m)\u001b[0m\u001b[0;34m\u001b[0m\u001b[0;34m\u001b[0m\u001b[0m\n",
      "\u001b[0;31mKeyboardInterrupt\u001b[0m: "
     ]
    }
   ],
   "source": [
    "import joblib  # to check you can parallelize GridSearchCV\n",
    "model = XGBClassifier(nthread=-1)\n",
    "clf = GridSearchCV(model,\n",
    "                   {'max_depth': [2,4,6],\n",
    "                    'n_estimators': [50,100,200]}, verbose=1, n_jobs=1, pre_dispatch=1, cv=5)\n",
    "clf.fit(X,Y)\n",
    "clf.best_score_, clf.best_params_"
   ]
  },
  {
   "cell_type": "code",
   "execution_count": 195,
   "metadata": {},
   "outputs": [
    {
     "data": {
      "text/plain": [
       "XGBClassifier(base_score=0.5, booster='gbtree', colsample_bylevel=1,\n",
       "       colsample_bytree=1, gamma=0, learning_rate=0.1, max_delta_step=0,\n",
       "       max_depth=3, min_child_weight=1, missing=None, n_estimators=100,\n",
       "       n_jobs=1, nthread=-1, objective='binary:logistic', random_state=0,\n",
       "       reg_alpha=0, reg_lambda=1, scale_pos_weight=1, seed=None,\n",
       "       silent=True, subsample=1)"
      ]
     },
     "execution_count": 195,
     "metadata": {},
     "output_type": "execute_result"
    }
   ],
   "source": [
    "# fit model no training data\n",
    "model = XGBClassifier(nthread=-1,scale_pos_weight = 1)\n",
    "#eval_set = [(X_train, y_train), (X_test, y_test)]\n",
    "#model.fit(X_train, y_train, eval_metric=[\"error\", \"logloss\"], eval_set=eval_set, verbose=True)\n",
    "model.fit(X_train_sdt, y_train)"
   ]
  },
  {
   "cell_type": "code",
   "execution_count": 377,
   "metadata": {},
   "outputs": [
    {
     "data": {
      "image/png": "[encoded data removed]",
      "text/plain": [
       "<Figure size 432x288 with 1 Axes>"
      ]
     },
     "metadata": {
      "needs_background": "light"
     },
     "output_type": "display_data"
    }
   ],
   "source": [
    "# plot single tree\n",
    "#plot_tree(model)\n",
    "#plot_tree(model, num_trees=4)\n",
    "plot_tree(model, num_trees=4, rankdir='LR')\n",
    "plt.show()"
   ]
  },
  {
   "cell_type": "code",
   "execution_count": 378,
   "metadata": {},
   "outputs": [
    {
     "name": "stdout",
     "output_type": "stream",
     "text": [
      "[[255 139]\n",
      " [133 258]]\n"
     ]
    }
   ],
   "source": [
    "# make predictions for test data\n",
    "y_pred = model.predict(X_test_sdt)\n",
    "predictions = [value for value in y_pred]\n",
    "print(confusion_matrix(y_test, y_pred))"
   ]
  },
  {
   "cell_type": "code",
   "execution_count": 379,
   "metadata": {},
   "outputs": [
    {
     "name": "stdout",
     "output_type": "stream",
     "text": [
      "Accuracy: 65.35%\n"
     ]
    }
   ],
   "source": [
    "# evaluate predictions\n",
    "accuracy = accuracy_score(y_test, predictions)\n",
    "print(\"Accuracy: %.2f%%\" % (accuracy * 100.0))"
   ]
  },
  {
   "cell_type": "code",
   "execution_count": 380,
   "metadata": {},
   "outputs": [
    {
     "ename": "AttributeError",
     "evalue": "'XGBClassifier' object has no attribute 'evals_result_'",
     "output_type": "error",
     "traceback": [
      "\u001b[0;31m---------------------------------------------------------------------------\u001b[0m",
      "\u001b[0;31mAttributeError\u001b[0m                            Traceback (most recent call last)",
      "\u001b[0;32m<ipython-input-380-f353de3b9057>\u001b[0m in \u001b[0;36m<module>\u001b[0;34m\u001b[0m\n\u001b[1;32m      1\u001b[0m \u001b[0;31m# retrieve performance metrics\u001b[0m\u001b[0;34m\u001b[0m\u001b[0;34m\u001b[0m\u001b[0;34m\u001b[0m\u001b[0m\n\u001b[0;32m----> 2\u001b[0;31m \u001b[0mresults\u001b[0m \u001b[0;34m=\u001b[0m \u001b[0mmodel\u001b[0m\u001b[0;34m.\u001b[0m\u001b[0mevals_result\u001b[0m\u001b[0;34m(\u001b[0m\u001b[0;34m)\u001b[0m\u001b[0;34m\u001b[0m\u001b[0;34m\u001b[0m\u001b[0m\n\u001b[0m\u001b[1;32m      3\u001b[0m \u001b[0mepochs\u001b[0m \u001b[0;34m=\u001b[0m \u001b[0mlen\u001b[0m\u001b[0;34m(\u001b[0m\u001b[0mresults\u001b[0m\u001b[0;34m[\u001b[0m\u001b[0;34m'validation_0'\u001b[0m\u001b[0;34m]\u001b[0m\u001b[0;34m[\u001b[0m\u001b[0;34m'error'\u001b[0m\u001b[0;34m]\u001b[0m\u001b[0;34m)\u001b[0m\u001b[0;34m\u001b[0m\u001b[0;34m\u001b[0m\u001b[0m\n\u001b[1;32m      4\u001b[0m \u001b[0mx_axis\u001b[0m \u001b[0;34m=\u001b[0m \u001b[0mrange\u001b[0m\u001b[0;34m(\u001b[0m\u001b[0;36m0\u001b[0m\u001b[0;34m,\u001b[0m \u001b[0mepochs\u001b[0m\u001b[0;34m)\u001b[0m\u001b[0;34m\u001b[0m\u001b[0;34m\u001b[0m\u001b[0m\n\u001b[1;32m      5\u001b[0m \u001b[0;31m# plot log loss\u001b[0m\u001b[0;34m\u001b[0m\u001b[0;34m\u001b[0m\u001b[0;34m\u001b[0m\u001b[0m\n",
      "\u001b[0;32m~/miniconda3/lib/python3.7/site-packages/xgboost/sklearn.py\u001b[0m in \u001b[0;36mevals_result\u001b[0;34m(self)\u001b[0m\n\u001b[1;32m    722\u001b[0m             'validation_1': {'logloss': ['0.41965', '0.17686']}}\n\u001b[1;32m    723\u001b[0m         \"\"\"\n\u001b[0;32m--> 724\u001b[0;31m         \u001b[0;32mif\u001b[0m \u001b[0mself\u001b[0m\u001b[0;34m.\u001b[0m\u001b[0mevals_result_\u001b[0m\u001b[0;34m:\u001b[0m\u001b[0;34m\u001b[0m\u001b[0;34m\u001b[0m\u001b[0m\n\u001b[0m\u001b[1;32m    725\u001b[0m             \u001b[0mevals_result\u001b[0m \u001b[0;34m=\u001b[0m \u001b[0mself\u001b[0m\u001b[0;34m.\u001b[0m\u001b[0mevals_result_\u001b[0m\u001b[0;34m\u001b[0m\u001b[0;34m\u001b[0m\u001b[0m\n\u001b[1;32m    726\u001b[0m         \u001b[0;32melse\u001b[0m\u001b[0;34m:\u001b[0m\u001b[0;34m\u001b[0m\u001b[0;34m\u001b[0m\u001b[0m\n",
      "\u001b[0;31mAttributeError\u001b[0m: 'XGBClassifier' object has no attribute 'evals_result_'"
     ]
    }
   ],
   "source": [
    "# retrieve performance metrics\n",
    "results = model.evals_result()\n",
    "epochs = len(results['validation_0']['error'])\n",
    "x_axis = range(0, epochs)\n",
    "# plot log loss\n",
    "fig, ax = pyplot.subplots()\n",
    "ax.plot(x_axis, results['validation_0']['logloss'], label='Train')\n",
    "ax.plot(x_axis, results['validation_1']['logloss'], label='Test')\n",
    "ax.legend()\n",
    "pyplot.ylabel('Log Loss')\n",
    "pyplot.title('XGBoost Log Loss')\n",
    "pyplot.show()\n",
    "# plot classification error\n",
    "fig, ax = pyplot.subplots()\n",
    "ax.plot(x_axis, results['validation_0']['error'], label='Train')\n",
    "ax.plot(x_axis, results['validation_1']['error'], label='Test')\n",
    "ax.legend()\n",
    "pyplot.ylabel('Classification Error')\n",
    "pyplot.title('XGBoost Classification Error')\n",
    "pyplot.show()"
   ]
  },
  {
   "cell_type": "markdown",
   "metadata": {},
   "source": [
    "# Manually Plot Feature Importance"
   ]
  },
  {
   "cell_type": "code",
   "execution_count": 381,
   "metadata": {},
   "outputs": [
    {
     "name": "stdout",
     "output_type": "stream",
     "text": [
      "[0.02360877 0.19224283 0.0910624  0.11973018 0.14671163 0.29679596\n",
      " 0.12984823]\n"
     ]
    },
    {
     "data": {
      "image/png": "[encoded data removed]",
      "text/plain": [
       "<Figure size 432x288 with 1 Axes>"
      ]
     },
     "metadata": {
      "needs_background": "light"
     },
     "output_type": "display_data"
    }
   ],
   "source": [
    "# feature importance\n",
    "print(model.feature_importances_)\n",
    "# plot\n",
    "plt.bar(range(len(model.feature_importances_)), model.feature_importances_)\n",
    "plt.show()"
   ]
  },
  {
   "cell_type": "markdown",
   "metadata": {},
   "source": [
    "# Using theBuilt-in XGBoost Feature Importance Plot"
   ]
  },
  {
   "cell_type": "code",
   "execution_count": 382,
   "metadata": {},
   "outputs": [
    {
     "data": {
      "image/png": "[encoded data removed]",
      "text/plain": [
       "<Figure size 432x288 with 1 Axes>"
      ]
     },
     "metadata": {
      "needs_background": "light"
     },
     "output_type": "display_data"
    }
   ],
   "source": [
    "from xgboost import plot_importance\n",
    "# plot feature importance\n",
    "plot_importance(model)\n",
    "plt.show()"
   ]
  },
  {
   "cell_type": "markdown",
   "metadata": {},
   "source": [
    "# Feature Selection with XGBoost Feature Importance Scores"
   ]
  },
  {
   "cell_type": "code",
   "execution_count": 47,
   "metadata": {},
   "outputs": [
    {
     "ename": "ValueError",
     "evalue": "Input contains NaN, infinity or a value too large for dtype('float64').",
     "output_type": "error",
     "traceback": [
      "\u001b[0;31m---------------------------------------------------------------------------\u001b[0m",
      "\u001b[0;31mValueError\u001b[0m                                Traceback (most recent call last)",
      "\u001b[0;32m<ipython-input-47-886a1892809b>\u001b[0m in \u001b[0;36m<module>\u001b[0;34m\u001b[0m\n\u001b[1;32m      4\u001b[0m     \u001b[0;31m# select features using threshold\u001b[0m\u001b[0;34m\u001b[0m\u001b[0;34m\u001b[0m\u001b[0;34m\u001b[0m\u001b[0m\n\u001b[1;32m      5\u001b[0m     \u001b[0mselection\u001b[0m \u001b[0;34m=\u001b[0m \u001b[0mSelectFromModel\u001b[0m\u001b[0;34m(\u001b[0m\u001b[0mmodel\u001b[0m\u001b[0;34m,\u001b[0m \u001b[0mthreshold\u001b[0m\u001b[0;34m=\u001b[0m\u001b[0mthresh\u001b[0m\u001b[0;34m,\u001b[0m \u001b[0mprefit\u001b[0m\u001b[0;34m=\u001b[0m\u001b[0;32mTrue\u001b[0m\u001b[0;34m)\u001b[0m\u001b[0;34m\u001b[0m\u001b[0;34m\u001b[0m\u001b[0m\n\u001b[0;32m----> 6\u001b[0;31m     \u001b[0mselect_X_train\u001b[0m \u001b[0;34m=\u001b[0m \u001b[0mselection\u001b[0m\u001b[0;34m.\u001b[0m\u001b[0mtransform\u001b[0m\u001b[0;34m(\u001b[0m\u001b[0mX_train\u001b[0m\u001b[0;34m)\u001b[0m\u001b[0;34m\u001b[0m\u001b[0;34m\u001b[0m\u001b[0m\n\u001b[0m\u001b[1;32m      7\u001b[0m     \u001b[0;31m# train model\u001b[0m\u001b[0;34m\u001b[0m\u001b[0;34m\u001b[0m\u001b[0;34m\u001b[0m\u001b[0m\n\u001b[1;32m      8\u001b[0m     \u001b[0mselection_model\u001b[0m \u001b[0;34m=\u001b[0m \u001b[0mXGBClassifier\u001b[0m\u001b[0;34m(\u001b[0m\u001b[0mnthread\u001b[0m\u001b[0;34m=\u001b[0m\u001b[0;34m-\u001b[0m\u001b[0;36m1\u001b[0m\u001b[0;34m,\u001b[0m\u001b[0mscale_pos_weight\u001b[0m \u001b[0;34m=\u001b[0m \u001b[0;36m1\u001b[0m\u001b[0;34m)\u001b[0m\u001b[0;34m\u001b[0m\u001b[0;34m\u001b[0m\u001b[0m\n",
      "\u001b[0;32m~/miniconda3/lib/python3.7/site-packages/sklearn/feature_selection/base.py\u001b[0m in \u001b[0;36mtransform\u001b[0;34m(self, X)\u001b[0m\n\u001b[1;32m     73\u001b[0m             \u001b[0mThe\u001b[0m \u001b[0minput\u001b[0m \u001b[0msamples\u001b[0m \u001b[0;32mwith\u001b[0m \u001b[0monly\u001b[0m \u001b[0mthe\u001b[0m \u001b[0mselected\u001b[0m \u001b[0mfeatures\u001b[0m\u001b[0;34m.\u001b[0m\u001b[0;34m\u001b[0m\u001b[0;34m\u001b[0m\u001b[0m\n\u001b[1;32m     74\u001b[0m         \"\"\"\n\u001b[0;32m---> 75\u001b[0;31m         \u001b[0mX\u001b[0m \u001b[0;34m=\u001b[0m \u001b[0mcheck_array\u001b[0m\u001b[0;34m(\u001b[0m\u001b[0mX\u001b[0m\u001b[0;34m,\u001b[0m \u001b[0mdtype\u001b[0m\u001b[0;34m=\u001b[0m\u001b[0;32mNone\u001b[0m\u001b[0;34m,\u001b[0m \u001b[0maccept_sparse\u001b[0m\u001b[0;34m=\u001b[0m\u001b[0;34m'csr'\u001b[0m\u001b[0;34m)\u001b[0m\u001b[0;34m\u001b[0m\u001b[0;34m\u001b[0m\u001b[0m\n\u001b[0m\u001b[1;32m     76\u001b[0m         \u001b[0mmask\u001b[0m \u001b[0;34m=\u001b[0m \u001b[0mself\u001b[0m\u001b[0;34m.\u001b[0m\u001b[0mget_support\u001b[0m\u001b[0;34m(\u001b[0m\u001b[0;34m)\u001b[0m\u001b[0;34m\u001b[0m\u001b[0;34m\u001b[0m\u001b[0m\n\u001b[1;32m     77\u001b[0m         \u001b[0;32mif\u001b[0m \u001b[0;32mnot\u001b[0m \u001b[0mmask\u001b[0m\u001b[0;34m.\u001b[0m\u001b[0many\u001b[0m\u001b[0;34m(\u001b[0m\u001b[0;34m)\u001b[0m\u001b[0;34m:\u001b[0m\u001b[0;34m\u001b[0m\u001b[0;34m\u001b[0m\u001b[0m\n",
      "\u001b[0;32m~/miniconda3/lib/python3.7/site-packages/sklearn/utils/validation.py\u001b[0m in \u001b[0;36mcheck_array\u001b[0;34m(array, accept_sparse, accept_large_sparse, dtype, order, copy, force_all_finite, ensure_2d, allow_nd, ensure_min_samples, ensure_min_features, warn_on_dtype, estimator)\u001b[0m\n\u001b[1;32m    571\u001b[0m         \u001b[0;32mif\u001b[0m \u001b[0mforce_all_finite\u001b[0m\u001b[0;34m:\u001b[0m\u001b[0;34m\u001b[0m\u001b[0;34m\u001b[0m\u001b[0m\n\u001b[1;32m    572\u001b[0m             _assert_all_finite(array,\n\u001b[0;32m--> 573\u001b[0;31m                                allow_nan=force_all_finite == 'allow-nan')\n\u001b[0m\u001b[1;32m    574\u001b[0m \u001b[0;34m\u001b[0m\u001b[0m\n\u001b[1;32m    575\u001b[0m     \u001b[0mshape_repr\u001b[0m \u001b[0;34m=\u001b[0m \u001b[0m_shape_repr\u001b[0m\u001b[0;34m(\u001b[0m\u001b[0marray\u001b[0m\u001b[0;34m.\u001b[0m\u001b[0mshape\u001b[0m\u001b[0;34m)\u001b[0m\u001b[0;34m\u001b[0m\u001b[0;34m\u001b[0m\u001b[0m\n",
      "\u001b[0;32m~/miniconda3/lib/python3.7/site-packages/sklearn/utils/validation.py\u001b[0m in \u001b[0;36m_assert_all_finite\u001b[0;34m(X, allow_nan)\u001b[0m\n\u001b[1;32m     54\u001b[0m                 not allow_nan and not np.isfinite(X).all()):\n\u001b[1;32m     55\u001b[0m             \u001b[0mtype_err\u001b[0m \u001b[0;34m=\u001b[0m \u001b[0;34m'infinity'\u001b[0m \u001b[0;32mif\u001b[0m \u001b[0mallow_nan\u001b[0m \u001b[0;32melse\u001b[0m \u001b[0;34m'NaN, infinity'\u001b[0m\u001b[0;34m\u001b[0m\u001b[0;34m\u001b[0m\u001b[0m\n\u001b[0;32m---> 56\u001b[0;31m             \u001b[0;32mraise\u001b[0m \u001b[0mValueError\u001b[0m\u001b[0;34m(\u001b[0m\u001b[0mmsg_err\u001b[0m\u001b[0;34m.\u001b[0m\u001b[0mformat\u001b[0m\u001b[0;34m(\u001b[0m\u001b[0mtype_err\u001b[0m\u001b[0;34m,\u001b[0m \u001b[0mX\u001b[0m\u001b[0;34m.\u001b[0m\u001b[0mdtype\u001b[0m\u001b[0;34m)\u001b[0m\u001b[0;34m)\u001b[0m\u001b[0;34m\u001b[0m\u001b[0;34m\u001b[0m\u001b[0m\n\u001b[0m\u001b[1;32m     57\u001b[0m \u001b[0;34m\u001b[0m\u001b[0m\n\u001b[1;32m     58\u001b[0m \u001b[0;34m\u001b[0m\u001b[0m\n",
      "\u001b[0;31mValueError\u001b[0m: Input contains NaN, infinity or a value too large for dtype('float64')."
     ]
    }
   ],
   "source": [
    "# Fit model using each importance as a threshold\n",
    "thresholds = sort(model.feature_importances_)\n",
    "for thresh in thresholds:\n",
    "    # select features using threshold\n",
    "    selection = SelectFromModel(model, threshold=thresh, prefit=True)\n",
    "    select_X_train = selection.transform(X_train)\n",
    "    # train model\n",
    "    selection_model = XGBClassifier(nthread=-1,scale_pos_weight = 1)\n",
    "    selection_model.fit(select_X_train, y_train)\n",
    "    # eval model\n",
    "    select_X_test = selection.transform(X_test)\n",
    "    y_pred = selection_model.predict(select_X_test)\n",
    "    predictions = [round(value) for value in y_pred]\n",
    "    accuracy = accuracy_score(y_test, predictions)\n",
    "    print(\"Thresh=%.3f, n=%d, Accuracy: %.2f%%\" % (thresh, select_X_train.shape[1], accuracy*100.0))"
   ]
  },
  {
   "cell_type": "markdown",
   "metadata": {},
   "source": [
    "# Evaluate XGBoost Models With k-Fold Cross Validation"
   ]
  },
  {
   "cell_type": "code",
   "execution_count": 58,
   "metadata": {},
   "outputs": [
    {
     "name": "stderr",
     "output_type": "stream",
     "text": [
      "/home/sylvain/miniconda3/lib/python3.7/site-packages/sklearn/externals/joblib/externals/loky/backend/utils.py:55: UserWarning: Failed to kill subprocesses on this platform. Pleaseinstall psutil: https://github.com/giampaolo/psutil\n",
      "  warnings.warn(\"Failed to kill subprocesses on this platform. Please\"\n",
      "/home/sylvain/miniconda3/lib/python3.7/site-packages/sklearn/externals/joblib/externals/loky/backend/utils.py:55: UserWarning: Failed to kill subprocesses on this platform. Pleaseinstall psutil: https://github.com/giampaolo/psutil\n",
      "  warnings.warn(\"Failed to kill subprocesses on this platform. Please\"\n",
      "/home/sylvain/miniconda3/lib/python3.7/site-packages/sklearn/externals/joblib/externals/loky/backend/utils.py:55: UserWarning: Failed to kill subprocesses on this platform. Pleaseinstall psutil: https://github.com/giampaolo/psutil\n",
      "  warnings.warn(\"Failed to kill subprocesses on this platform. Please\"\n",
      "/home/sylvain/miniconda3/lib/python3.7/site-packages/sklearn/externals/joblib/externals/loky/backend/utils.py:55: UserWarning: Failed to kill subprocesses on this platform. Pleaseinstall psutil: https://github.com/giampaolo/psutil\n",
      "  warnings.warn(\"Failed to kill subprocesses on this platform. Please\"\n"
     ]
    },
    {
     "ename": "TerminatedWorkerError",
     "evalue": "A worker process managed by the executor was unexpectedly terminated. This could be caused by a segmentation fault while calling the function or by an excessive memory usage causing the Operating System to kill the worker. The exit codes of the workers are {SIGKILL(-9)}",
     "output_type": "error",
     "traceback": [
      "\u001b[0;31m---------------------------------------------------------------------------\u001b[0m",
      "\u001b[0;31mTerminatedWorkerError\u001b[0m                     Traceback (most recent call last)",
      "\u001b[0;32m<ipython-input-58-4b4bcbf2950c>\u001b[0m in \u001b[0;36m<module>\u001b[0;34m\u001b[0m\n\u001b[1;32m      5\u001b[0m \u001b[0mmodel\u001b[0m \u001b[0;34m=\u001b[0m \u001b[0mXGBClassifier\u001b[0m\u001b[0;34m(\u001b[0m\u001b[0mnthread\u001b[0m\u001b[0;34m=\u001b[0m\u001b[0;34m-\u001b[0m\u001b[0;36m1\u001b[0m\u001b[0;34m)\u001b[0m\u001b[0;34m\u001b[0m\u001b[0;34m\u001b[0m\u001b[0m\n\u001b[1;32m      6\u001b[0m \u001b[0mkfold\u001b[0m \u001b[0;34m=\u001b[0m \u001b[0mKFold\u001b[0m\u001b[0;34m(\u001b[0m\u001b[0mn_splits\u001b[0m\u001b[0;34m=\u001b[0m\u001b[0;36m10\u001b[0m\u001b[0;34m,\u001b[0m \u001b[0mrandom_state\u001b[0m\u001b[0;34m=\u001b[0m\u001b[0;36m7\u001b[0m\u001b[0;34m)\u001b[0m\u001b[0;34m\u001b[0m\u001b[0;34m\u001b[0m\u001b[0m\n\u001b[0;32m----> 7\u001b[0;31m \u001b[0mresults\u001b[0m \u001b[0;34m=\u001b[0m \u001b[0mcross_val_score\u001b[0m\u001b[0;34m(\u001b[0m\u001b[0mmodel\u001b[0m\u001b[0;34m,\u001b[0m \u001b[0mX\u001b[0m\u001b[0;34m,\u001b[0m \u001b[0mY\u001b[0m\u001b[0;34m,\u001b[0m \u001b[0mcv\u001b[0m\u001b[0;34m=\u001b[0m\u001b[0mkfold\u001b[0m\u001b[0;34m,\u001b[0m \u001b[0mn_jobs\u001b[0m\u001b[0;34m=\u001b[0m\u001b[0;34m-\u001b[0m\u001b[0;36m1\u001b[0m\u001b[0;34m)\u001b[0m\u001b[0;34m\u001b[0m\u001b[0;34m\u001b[0m\u001b[0m\n\u001b[0m\u001b[1;32m      8\u001b[0m \u001b[0mprint\u001b[0m\u001b[0;34m(\u001b[0m\u001b[0;34m\"Accuracy: %.2f%% (%.2f%%)\"\u001b[0m \u001b[0;34m%\u001b[0m \u001b[0;34m(\u001b[0m\u001b[0mresults\u001b[0m\u001b[0;34m.\u001b[0m\u001b[0mmean\u001b[0m\u001b[0;34m(\u001b[0m\u001b[0;34m)\u001b[0m\u001b[0;34m*\u001b[0m\u001b[0;36m100\u001b[0m\u001b[0;34m,\u001b[0m \u001b[0mresults\u001b[0m\u001b[0;34m.\u001b[0m\u001b[0mstd\u001b[0m\u001b[0;34m(\u001b[0m\u001b[0;34m)\u001b[0m\u001b[0;34m*\u001b[0m\u001b[0;36m100\u001b[0m\u001b[0;34m)\u001b[0m\u001b[0;34m)\u001b[0m\u001b[0;34m\u001b[0m\u001b[0;34m\u001b[0m\u001b[0m\n",
      "\u001b[0;32m~/miniconda3/lib/python3.7/site-packages/sklearn/model_selection/_validation.py\u001b[0m in \u001b[0;36mcross_val_score\u001b[0;34m(estimator, X, y, groups, scoring, cv, n_jobs, verbose, fit_params, pre_dispatch, error_score)\u001b[0m\n\u001b[1;32m    400\u001b[0m                                 \u001b[0mfit_params\u001b[0m\u001b[0;34m=\u001b[0m\u001b[0mfit_params\u001b[0m\u001b[0;34m,\u001b[0m\u001b[0;34m\u001b[0m\u001b[0;34m\u001b[0m\u001b[0m\n\u001b[1;32m    401\u001b[0m                                 \u001b[0mpre_dispatch\u001b[0m\u001b[0;34m=\u001b[0m\u001b[0mpre_dispatch\u001b[0m\u001b[0;34m,\u001b[0m\u001b[0;34m\u001b[0m\u001b[0;34m\u001b[0m\u001b[0m\n\u001b[0;32m--> 402\u001b[0;31m                                 error_score=error_score)\n\u001b[0m\u001b[1;32m    403\u001b[0m     \u001b[0;32mreturn\u001b[0m \u001b[0mcv_results\u001b[0m\u001b[0;34m[\u001b[0m\u001b[0;34m'test_score'\u001b[0m\u001b[0;34m]\u001b[0m\u001b[0;34m\u001b[0m\u001b[0;34m\u001b[0m\u001b[0m\n\u001b[1;32m    404\u001b[0m \u001b[0;34m\u001b[0m\u001b[0m\n",
      "\u001b[0;32m~/miniconda3/lib/python3.7/site-packages/sklearn/model_selection/_validation.py\u001b[0m in \u001b[0;36mcross_validate\u001b[0;34m(estimator, X, y, groups, scoring, cv, n_jobs, verbose, fit_params, pre_dispatch, return_train_score, return_estimator, error_score)\u001b[0m\n\u001b[1;32m    238\u001b[0m             \u001b[0mreturn_times\u001b[0m\u001b[0;34m=\u001b[0m\u001b[0;32mTrue\u001b[0m\u001b[0;34m,\u001b[0m \u001b[0mreturn_estimator\u001b[0m\u001b[0;34m=\u001b[0m\u001b[0mreturn_estimator\u001b[0m\u001b[0;34m,\u001b[0m\u001b[0;34m\u001b[0m\u001b[0;34m\u001b[0m\u001b[0m\n\u001b[1;32m    239\u001b[0m             error_score=error_score)\n\u001b[0;32m--> 240\u001b[0;31m         for train, test in cv.split(X, y, groups))\n\u001b[0m\u001b[1;32m    241\u001b[0m \u001b[0;34m\u001b[0m\u001b[0m\n\u001b[1;32m    242\u001b[0m     \u001b[0mzipped_scores\u001b[0m \u001b[0;34m=\u001b[0m \u001b[0mlist\u001b[0m\u001b[0;34m(\u001b[0m\u001b[0mzip\u001b[0m\u001b[0;34m(\u001b[0m\u001b[0;34m*\u001b[0m\u001b[0mscores\u001b[0m\u001b[0;34m)\u001b[0m\u001b[0;34m)\u001b[0m\u001b[0;34m\u001b[0m\u001b[0;34m\u001b[0m\u001b[0m\n",
      "\u001b[0;32m~/miniconda3/lib/python3.7/site-packages/sklearn/externals/joblib/parallel.py\u001b[0m in \u001b[0;36m__call__\u001b[0;34m(self, iterable)\u001b[0m\n\u001b[1;32m    928\u001b[0m \u001b[0;34m\u001b[0m\u001b[0m\n\u001b[1;32m    929\u001b[0m             \u001b[0;32mwith\u001b[0m \u001b[0mself\u001b[0m\u001b[0;34m.\u001b[0m\u001b[0m_backend\u001b[0m\u001b[0;34m.\u001b[0m\u001b[0mretrieval_context\u001b[0m\u001b[0;34m(\u001b[0m\u001b[0;34m)\u001b[0m\u001b[0;34m:\u001b[0m\u001b[0;34m\u001b[0m\u001b[0;34m\u001b[0m\u001b[0m\n\u001b[0;32m--> 930\u001b[0;31m                 \u001b[0mself\u001b[0m\u001b[0;34m.\u001b[0m\u001b[0mretrieve\u001b[0m\u001b[0;34m(\u001b[0m\u001b[0;34m)\u001b[0m\u001b[0;34m\u001b[0m\u001b[0;34m\u001b[0m\u001b[0m\n\u001b[0m\u001b[1;32m    931\u001b[0m             \u001b[0;31m# Make sure that we get a last message telling us we are done\u001b[0m\u001b[0;34m\u001b[0m\u001b[0;34m\u001b[0m\u001b[0;34m\u001b[0m\u001b[0m\n\u001b[1;32m    932\u001b[0m             \u001b[0melapsed_time\u001b[0m \u001b[0;34m=\u001b[0m \u001b[0mtime\u001b[0m\u001b[0;34m.\u001b[0m\u001b[0mtime\u001b[0m\u001b[0;34m(\u001b[0m\u001b[0;34m)\u001b[0m \u001b[0;34m-\u001b[0m \u001b[0mself\u001b[0m\u001b[0;34m.\u001b[0m\u001b[0m_start_time\u001b[0m\u001b[0;34m\u001b[0m\u001b[0;34m\u001b[0m\u001b[0m\n",
      "\u001b[0;32m~/miniconda3/lib/python3.7/site-packages/sklearn/externals/joblib/parallel.py\u001b[0m in \u001b[0;36mretrieve\u001b[0;34m(self)\u001b[0m\n\u001b[1;32m    831\u001b[0m             \u001b[0;32mtry\u001b[0m\u001b[0;34m:\u001b[0m\u001b[0;34m\u001b[0m\u001b[0;34m\u001b[0m\u001b[0m\n\u001b[1;32m    832\u001b[0m                 \u001b[0;32mif\u001b[0m \u001b[0mgetattr\u001b[0m\u001b[0;34m(\u001b[0m\u001b[0mself\u001b[0m\u001b[0;34m.\u001b[0m\u001b[0m_backend\u001b[0m\u001b[0;34m,\u001b[0m \u001b[0;34m'supports_timeout'\u001b[0m\u001b[0;34m,\u001b[0m \u001b[0;32mFalse\u001b[0m\u001b[0;34m)\u001b[0m\u001b[0;34m:\u001b[0m\u001b[0;34m\u001b[0m\u001b[0;34m\u001b[0m\u001b[0m\n\u001b[0;32m--> 833\u001b[0;31m                     \u001b[0mself\u001b[0m\u001b[0;34m.\u001b[0m\u001b[0m_output\u001b[0m\u001b[0;34m.\u001b[0m\u001b[0mextend\u001b[0m\u001b[0;34m(\u001b[0m\u001b[0mjob\u001b[0m\u001b[0;34m.\u001b[0m\u001b[0mget\u001b[0m\u001b[0;34m(\u001b[0m\u001b[0mtimeout\u001b[0m\u001b[0;34m=\u001b[0m\u001b[0mself\u001b[0m\u001b[0;34m.\u001b[0m\u001b[0mtimeout\u001b[0m\u001b[0;34m)\u001b[0m\u001b[0;34m)\u001b[0m\u001b[0;34m\u001b[0m\u001b[0;34m\u001b[0m\u001b[0m\n\u001b[0m\u001b[1;32m    834\u001b[0m                 \u001b[0;32melse\u001b[0m\u001b[0;34m:\u001b[0m\u001b[0;34m\u001b[0m\u001b[0;34m\u001b[0m\u001b[0m\n\u001b[1;32m    835\u001b[0m                     \u001b[0mself\u001b[0m\u001b[0;34m.\u001b[0m\u001b[0m_output\u001b[0m\u001b[0;34m.\u001b[0m\u001b[0mextend\u001b[0m\u001b[0;34m(\u001b[0m\u001b[0mjob\u001b[0m\u001b[0;34m.\u001b[0m\u001b[0mget\u001b[0m\u001b[0;34m(\u001b[0m\u001b[0;34m)\u001b[0m\u001b[0;34m)\u001b[0m\u001b[0;34m\u001b[0m\u001b[0;34m\u001b[0m\u001b[0m\n",
      "\u001b[0;32m~/miniconda3/lib/python3.7/site-packages/sklearn/externals/joblib/_parallel_backends.py\u001b[0m in \u001b[0;36mwrap_future_result\u001b[0;34m(future, timeout)\u001b[0m\n\u001b[1;32m    519\u001b[0m         AsyncResults.get from multiprocessing.\"\"\"\n\u001b[1;32m    520\u001b[0m         \u001b[0;32mtry\u001b[0m\u001b[0;34m:\u001b[0m\u001b[0;34m\u001b[0m\u001b[0;34m\u001b[0m\u001b[0m\n\u001b[0;32m--> 521\u001b[0;31m             \u001b[0;32mreturn\u001b[0m \u001b[0mfuture\u001b[0m\u001b[0;34m.\u001b[0m\u001b[0mresult\u001b[0m\u001b[0;34m(\u001b[0m\u001b[0mtimeout\u001b[0m\u001b[0;34m=\u001b[0m\u001b[0mtimeout\u001b[0m\u001b[0;34m)\u001b[0m\u001b[0;34m\u001b[0m\u001b[0;34m\u001b[0m\u001b[0m\n\u001b[0m\u001b[1;32m    522\u001b[0m         \u001b[0;32mexcept\u001b[0m \u001b[0mLokyTimeoutError\u001b[0m\u001b[0;34m:\u001b[0m\u001b[0;34m\u001b[0m\u001b[0;34m\u001b[0m\u001b[0m\n\u001b[1;32m    523\u001b[0m             \u001b[0;32mraise\u001b[0m \u001b[0mTimeoutError\u001b[0m\u001b[0;34m(\u001b[0m\u001b[0;34m)\u001b[0m\u001b[0;34m\u001b[0m\u001b[0;34m\u001b[0m\u001b[0m\n",
      "\u001b[0;32m~/miniconda3/lib/python3.7/concurrent/futures/_base.py\u001b[0m in \u001b[0;36mresult\u001b[0;34m(self, timeout)\u001b[0m\n\u001b[1;32m    430\u001b[0m                 \u001b[0;32mraise\u001b[0m \u001b[0mCancelledError\u001b[0m\u001b[0;34m(\u001b[0m\u001b[0;34m)\u001b[0m\u001b[0;34m\u001b[0m\u001b[0;34m\u001b[0m\u001b[0m\n\u001b[1;32m    431\u001b[0m             \u001b[0;32melif\u001b[0m \u001b[0mself\u001b[0m\u001b[0;34m.\u001b[0m\u001b[0m_state\u001b[0m \u001b[0;34m==\u001b[0m \u001b[0mFINISHED\u001b[0m\u001b[0;34m:\u001b[0m\u001b[0;34m\u001b[0m\u001b[0;34m\u001b[0m\u001b[0m\n\u001b[0;32m--> 432\u001b[0;31m                 \u001b[0;32mreturn\u001b[0m \u001b[0mself\u001b[0m\u001b[0;34m.\u001b[0m\u001b[0m__get_result\u001b[0m\u001b[0;34m(\u001b[0m\u001b[0;34m)\u001b[0m\u001b[0;34m\u001b[0m\u001b[0;34m\u001b[0m\u001b[0m\n\u001b[0m\u001b[1;32m    433\u001b[0m             \u001b[0;32melse\u001b[0m\u001b[0;34m:\u001b[0m\u001b[0;34m\u001b[0m\u001b[0;34m\u001b[0m\u001b[0m\n\u001b[1;32m    434\u001b[0m                 \u001b[0;32mraise\u001b[0m \u001b[0mTimeoutError\u001b[0m\u001b[0;34m(\u001b[0m\u001b[0;34m)\u001b[0m\u001b[0;34m\u001b[0m\u001b[0;34m\u001b[0m\u001b[0m\n",
      "\u001b[0;32m~/miniconda3/lib/python3.7/concurrent/futures/_base.py\u001b[0m in \u001b[0;36m__get_result\u001b[0;34m(self)\u001b[0m\n\u001b[1;32m    382\u001b[0m     \u001b[0;32mdef\u001b[0m \u001b[0m__get_result\u001b[0m\u001b[0;34m(\u001b[0m\u001b[0mself\u001b[0m\u001b[0;34m)\u001b[0m\u001b[0;34m:\u001b[0m\u001b[0;34m\u001b[0m\u001b[0;34m\u001b[0m\u001b[0m\n\u001b[1;32m    383\u001b[0m         \u001b[0;32mif\u001b[0m \u001b[0mself\u001b[0m\u001b[0;34m.\u001b[0m\u001b[0m_exception\u001b[0m\u001b[0;34m:\u001b[0m\u001b[0;34m\u001b[0m\u001b[0;34m\u001b[0m\u001b[0m\n\u001b[0;32m--> 384\u001b[0;31m             \u001b[0;32mraise\u001b[0m \u001b[0mself\u001b[0m\u001b[0;34m.\u001b[0m\u001b[0m_exception\u001b[0m\u001b[0;34m\u001b[0m\u001b[0;34m\u001b[0m\u001b[0m\n\u001b[0m\u001b[1;32m    385\u001b[0m         \u001b[0;32melse\u001b[0m\u001b[0;34m:\u001b[0m\u001b[0;34m\u001b[0m\u001b[0;34m\u001b[0m\u001b[0m\n\u001b[1;32m    386\u001b[0m             \u001b[0;32mreturn\u001b[0m \u001b[0mself\u001b[0m\u001b[0;34m.\u001b[0m\u001b[0m_result\u001b[0m\u001b[0;34m\u001b[0m\u001b[0;34m\u001b[0m\u001b[0m\n",
      "\u001b[0;31mTerminatedWorkerError\u001b[0m: A worker process managed by the executor was unexpectedly terminated. This could be caused by a segmentation fault while calling the function or by an excessive memory usage causing the Operating System to kill the worker. The exit codes of the workers are {SIGKILL(-9)}"
     ]
    }
   ],
   "source": [
    "# k-fold cross validation evaluation of xgboost model\n",
    "\n",
    "# CV model\n",
    "model = XGBClassifier(nthread=-1)\n",
    "kfold = KFold(n_splits=10, random_state=7)\n",
    "results = cross_val_score(model, X, Y, cv=kfold, n_jobs=-1)\n",
    "print(\"Accuracy: %.2f%% (%.2f%%)\" % (results.mean()*100, results.std()*100))"
   ]
  },
  {
   "cell_type": "code",
   "execution_count": null,
   "metadata": {},
   "outputs": [],
   "source": [
    "# CV model\n",
    "model = XGBClassifier(nthread=-1)\n",
    "kfold = StratifiedKFold(n_splits=10, random_state=7)\n",
    "results = cross_val_score(model, X, Y, cv=kfold, n_jobs=-1)\n",
    "print(\"Accuracy: %.2f%% (%.2f%%)\" % (results.mean()*100, results.std()*100))"
   ]
  }
 ],
 "metadata": {
  "kernelspec": {
   "display_name": "Python 3",
   "language": "python",
   "name": "python3"
  },
  "language_info": {
   "codemirror_mode": {
    "name": "ipython",
    "version": 3
   },
   "file_extension": ".py",
   "mimetype": "text/x-python",
   "name": "python",
   "nbconvert_exporter": "python",
   "pygments_lexer": "ipython3",
   "version": "3.7.3"
  }
 },
 "nbformat": 4,
 "nbformat_minor": 2
}
